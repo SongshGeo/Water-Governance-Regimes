{
 "metadata": {
  "language_info": {
   "codemirror_mode": {
    "name": "ipython",
    "version": 3
   },
   "file_extension": ".py",
   "mimetype": "text/x-python",
   "name": "python",
   "nbconvert_exporter": "python",
   "pygments_lexer": "ipython3",
   "version": "3.8.3-final"
  },
  "orig_nbformat": 2,
  "kernelspec": {
   "name": "python_defaultSpec_1600480588301",
   "display_name": "Python 3.8.3 64-bit ('base': conda)"
  }
 },
 "nbformat": 4,
 "nbformat_minor": 2,
 "cells": [
  {
   "cell_type": "code",
   "execution_count": 1,
   "metadata": {},
   "outputs": [],
   "source": [
    "import pandas as pd\n",
    "import numpy as np\n",
    "import pdpipe as pdp\n",
    "from matplotlib import pyplot as plt\n",
    "%matplotlib inline\n",
    "\n",
    "import sys\n",
    "sys.path.append(\"..\")"
   ]
  },
  {
   "source": [
    "# Figure S1, 研究区"
   ],
   "cell_type": "markdown",
   "metadata": {}
  },
  {
   "cell_type": "code",
   "execution_count": 2,
   "metadata": {
    "tags": []
   },
   "outputs": [
    {
     "output_type": "error",
     "ename": "IndentationError",
     "evalue": "unexpected indent (processing.py, line 93)",
     "traceback": [
      "Traceback \u001b[1;36m(most recent call last)\u001b[0m:\n",
      "  File \u001b[0;32m\"D:\\Programs\\anaconda38\\lib\\site-packages\\IPython\\core\\interactiveshell.py\"\u001b[0m, line \u001b[0;32m3343\u001b[0m, in \u001b[0;35mrun_code\u001b[0m\n    exec(code_obj, self.user_global_ns, self.user_ns)\n",
      "\u001b[1;36m  File \u001b[1;32m\"<ipython-input-2-7ea7bcfe72c9>\"\u001b[1;36m, line \u001b[1;32m12\u001b[1;36m, in \u001b[1;35m<module>\u001b[1;36m\u001b[0m\n\u001b[1;33m    from tools.processing import dbf_data_list, pd_read_dbf\u001b[0m\n",
      "\u001b[1;36m  File \u001b[1;32m\"..\\tools\\processing.py\"\u001b[1;36m, line \u001b[1;32m93\u001b[0m\n\u001b[1;33m    x_min, x_max = ax.get_xlim()\u001b[0m\n\u001b[1;37m    ^\u001b[0m\n\u001b[1;31mIndentationError\u001b[0m\u001b[1;31m:\u001b[0m unexpected indent\n"
     ]
    }
   ],
   "source": [
    "# 处理高程数据\n",
    "\n",
    "# 处理控制站点数据（来源于黄河流域综合规划）\n",
    "features = pd.read_csv(\"../data/hydrology/river_features.csv\")\n",
    "features.columns = [k.strip() for k in features.columns]\n",
    "length = features['length'].cumsum().values.tolist()\n",
    "length.insert(0, 0)\n",
    "fall = features['fall'].sort_index(ascending=False).cumsum().sort_index(ascending=True).values.tolist()\n",
    "fall.insert(4, 0)\n",
    "\n",
    "# 处理高程数据 （来源于Arcgis DEM数据）\n",
    "from tools.processing import dbf_data_list, pd_read_dbf\n",
    "altitude = pd_read_dbf('../data/hydrology/altitude_points_along_yr/altitude_points.dbf', usecols=['Shape_Leng', 'RASTERVALU'])\n",
    "altitude['Shape_Leng'] /= 1000  # 单位将 米 转化为 千米\n",
    "# altitude['RASTERVALU'] /= 1000  # 高程单位转化为千米\n",
    "# 485号点开始，有几个数据是错误的位置，给他们标好顺序\n",
    "reindex = list(np.arange(len(altitude) - 485, len(altitude))) + list(np.arange(len(altitude) - 485))\n",
    "altitude.index = reindex \n",
    "altitude.sort_index(inplace=True)\n",
    "# 将河流全长，按照点的数量进行划分\n",
    "altitude['Shape_Leng'] = np.linspace(0, altitude['Shape_Leng'].iloc[0], len(altitude))\n",
    "\n",
    "# 处理流域集水面积数据\n",
    "stations = pd.read_csv('../data/hydrology/hydro_stations.csv')\n",
    "\n",
    "# 作图\n",
    "fig, ax = plt.subplots(figsize=(8, 3))\n",
    "\n",
    "slope = ax.plot(length, fall, \"-.o\", color='red', alpha=0.6, label='Slope')\n",
    "profile = ax.plot(altitude['Shape_Leng'], altitude['RASTERVALU'], '--', color='gray', label='Profile')\n",
    "for i, x in enumerate(length):\n",
    "    ax.axvline(x, ls=\":\", color='lightgray')\n",
    "\n",
    "# 绘制图 2 每个站点的流域控制面积\n",
    "ax2 = ax.twinx()\n",
    "bottom = 0\n",
    "for i in range(4):\n",
    "    height = stations['catchment area'][i]\n",
    "    width = length[i+1]-length[i]\n",
    "    center = length[i] + width/2\n",
    "    area = ax2.bar(x=length[i], align='edge', width=width, bottom=bottom, height=height, color='c', alpha=.4, label='Area')\n",
    "    bottom += height\n",
    "    ax.annotate(stations['station'][i],\n",
    "            xy=(length[i+1], fall[i+1]), xycoords='data',\n",
    "            xytext=(length[i+1]-200, fall[i+1]+600), textcoords='data',\n",
    "            arrowprops=dict(arrowstyle=\"->\",\n",
    "                            connectionstyle='arc3'))\n",
    "\n",
    "ax.set_xlim(altitude['Shape_Leng'].min(), altitude['Shape_Leng'].max()*1.06)\n",
    "ax.set_ylim(altitude['RASTERVALU'].min(), altitude['RASTERVALU'].max())\n",
    "ax.set_xlabel(\"Length of river\")\n",
    "ax.set_ylabel(\"Altitude\")\n",
    "ax2.set_ylabel(\"Area\")\n",
    "plt.legend(handles=profile + slope + [area], loc='lower left')\n",
    "# 添加指示线，控制站名称\n",
    "\n",
    "plt.savefig('../figures/supplementary_information/slope.jpg', dpi=300)\n",
    "plt.show();"
   ]
  },
  {
   "source": [
    "# Figure S2, 子区域的对比"
   ],
   "cell_type": "markdown",
   "metadata": {}
  },
  {
   "source": [
    "**加载经济数据**\n",
    "\n",
    "经济数据来源 Wind 数据库，中国各个省份的第一、第二、第三产业 GDP 数据。"
   ],
   "cell_type": "markdown",
   "metadata": {}
  },
  {
   "cell_type": "code",
   "execution_count": 3,
   "metadata": {},
   "outputs": [
    {
     "output_type": "execute_result",
     "data": {
      "text/plain": "      北京:GDP:第一产业  北京:GDP:第二产业  北京:GDP:第三产业  天津:GDP:第一产业  天津:GDP:第二产业  \\\nYear                                                                    \n1965         4.96        23.50        11.33         3.91        22.96   \n1966         5.24        28.41        10.76         2.69        26.87   \n1967         5.30        22.37        10.19         3.50        20.93   \n1968         5.48        22.13        10.21         3.60        21.26   \n1969         4.71        33.60        12.32         3.46        29.03   \n\n      天津:GDP:第三产业  河北:GDP:第一产业  河北:GDP:第二产业  河北:GDP:第三产业  山西:GDP:第一产业  ...  \\\nYear                                                                   ...   \n1965         9.09        37.20        19.99        15.53        12.70  ...   \n1966         9.75        40.12        22.42        17.70        14.22  ...   \n1967         9.19        40.06        21.19        16.86        14.34  ...   \n1968         9.91        40.35        23.01        16.07        13.72  ...   \n1969        10.38        44.11        29.47        18.58        15.68  ...   \n\n      新疆:GDP:第三产业  兵团:GDP:第一产业  兵团:GDP:第二产业  兵团:GDP:第三产业  珠三角:GDP:第一产业  \\\nYear                                                                     \n1965         4.40          NaN          NaN          NaN           NaN   \n1966         4.80          NaN          NaN          NaN           NaN   \n1967         4.03          NaN          NaN          NaN           NaN   \n1968         3.82          NaN          NaN          NaN           NaN   \n1969         3.68          NaN          NaN          NaN           NaN   \n\n      珠三角:GDP:第二产业  珠三角:GDP:第三产业  长三角:GDP:第一产业  长三角:GDP:第二产业:合计  \\\nYear                                                              \n1965           NaN           NaN           NaN              NaN   \n1966           NaN           NaN           NaN              NaN   \n1967           NaN           NaN           NaN              NaN   \n1968           NaN           NaN           NaN              NaN   \n1969           NaN           NaN           NaN              NaN   \n\n      长三角:GDP:第三产业:合计  \nYear                   \n1965              NaN  \n1966              NaN  \n1967              NaN  \n1968              NaN  \n1969              NaN  \n\n[5 rows x 101 columns]",
      "text/html": "<div>\n<style scoped>\n    .dataframe tbody tr th:only-of-type {\n        vertical-align: middle;\n    }\n\n    .dataframe tbody tr th {\n        vertical-align: top;\n    }\n\n    .dataframe thead th {\n        text-align: right;\n    }\n</style>\n<table border=\"1\" class=\"dataframe\">\n  <thead>\n    <tr style=\"text-align: right;\">\n      <th></th>\n      <th>北京:GDP:第一产业</th>\n      <th>北京:GDP:第二产业</th>\n      <th>北京:GDP:第三产业</th>\n      <th>天津:GDP:第一产业</th>\n      <th>天津:GDP:第二产业</th>\n      <th>天津:GDP:第三产业</th>\n      <th>河北:GDP:第一产业</th>\n      <th>河北:GDP:第二产业</th>\n      <th>河北:GDP:第三产业</th>\n      <th>山西:GDP:第一产业</th>\n      <th>...</th>\n      <th>新疆:GDP:第三产业</th>\n      <th>兵团:GDP:第一产业</th>\n      <th>兵团:GDP:第二产业</th>\n      <th>兵团:GDP:第三产业</th>\n      <th>珠三角:GDP:第一产业</th>\n      <th>珠三角:GDP:第二产业</th>\n      <th>珠三角:GDP:第三产业</th>\n      <th>长三角:GDP:第一产业</th>\n      <th>长三角:GDP:第二产业:合计</th>\n      <th>长三角:GDP:第三产业:合计</th>\n    </tr>\n    <tr>\n      <th>Year</th>\n      <th></th>\n      <th></th>\n      <th></th>\n      <th></th>\n      <th></th>\n      <th></th>\n      <th></th>\n      <th></th>\n      <th></th>\n      <th></th>\n      <th></th>\n      <th></th>\n      <th></th>\n      <th></th>\n      <th></th>\n      <th></th>\n      <th></th>\n      <th></th>\n      <th></th>\n      <th></th>\n      <th></th>\n    </tr>\n  </thead>\n  <tbody>\n    <tr>\n      <th>1965</th>\n      <td>4.96</td>\n      <td>23.50</td>\n      <td>11.33</td>\n      <td>3.91</td>\n      <td>22.96</td>\n      <td>9.09</td>\n      <td>37.20</td>\n      <td>19.99</td>\n      <td>15.53</td>\n      <td>12.70</td>\n      <td>...</td>\n      <td>4.40</td>\n      <td>NaN</td>\n      <td>NaN</td>\n      <td>NaN</td>\n      <td>NaN</td>\n      <td>NaN</td>\n      <td>NaN</td>\n      <td>NaN</td>\n      <td>NaN</td>\n      <td>NaN</td>\n    </tr>\n    <tr>\n      <th>1966</th>\n      <td>5.24</td>\n      <td>28.41</td>\n      <td>10.76</td>\n      <td>2.69</td>\n      <td>26.87</td>\n      <td>9.75</td>\n      <td>40.12</td>\n      <td>22.42</td>\n      <td>17.70</td>\n      <td>14.22</td>\n      <td>...</td>\n      <td>4.80</td>\n      <td>NaN</td>\n      <td>NaN</td>\n      <td>NaN</td>\n      <td>NaN</td>\n      <td>NaN</td>\n      <td>NaN</td>\n      <td>NaN</td>\n      <td>NaN</td>\n      <td>NaN</td>\n    </tr>\n    <tr>\n      <th>1967</th>\n      <td>5.30</td>\n      <td>22.37</td>\n      <td>10.19</td>\n      <td>3.50</td>\n      <td>20.93</td>\n      <td>9.19</td>\n      <td>40.06</td>\n      <td>21.19</td>\n      <td>16.86</td>\n      <td>14.34</td>\n      <td>...</td>\n      <td>4.03</td>\n      <td>NaN</td>\n      <td>NaN</td>\n      <td>NaN</td>\n      <td>NaN</td>\n      <td>NaN</td>\n      <td>NaN</td>\n      <td>NaN</td>\n      <td>NaN</td>\n      <td>NaN</td>\n    </tr>\n    <tr>\n      <th>1968</th>\n      <td>5.48</td>\n      <td>22.13</td>\n      <td>10.21</td>\n      <td>3.60</td>\n      <td>21.26</td>\n      <td>9.91</td>\n      <td>40.35</td>\n      <td>23.01</td>\n      <td>16.07</td>\n      <td>13.72</td>\n      <td>...</td>\n      <td>3.82</td>\n      <td>NaN</td>\n      <td>NaN</td>\n      <td>NaN</td>\n      <td>NaN</td>\n      <td>NaN</td>\n      <td>NaN</td>\n      <td>NaN</td>\n      <td>NaN</td>\n      <td>NaN</td>\n    </tr>\n    <tr>\n      <th>1969</th>\n      <td>4.71</td>\n      <td>33.60</td>\n      <td>12.32</td>\n      <td>3.46</td>\n      <td>29.03</td>\n      <td>10.38</td>\n      <td>44.11</td>\n      <td>29.47</td>\n      <td>18.58</td>\n      <td>15.68</td>\n      <td>...</td>\n      <td>3.68</td>\n      <td>NaN</td>\n      <td>NaN</td>\n      <td>NaN</td>\n      <td>NaN</td>\n      <td>NaN</td>\n      <td>NaN</td>\n      <td>NaN</td>\n      <td>NaN</td>\n      <td>NaN</td>\n    </tr>\n  </tbody>\n</table>\n<p>5 rows × 101 columns</p>\n</div>"
     },
     "metadata": {},
     "execution_count": 3
    }
   ],
   "source": [
    "# 加载经济数据\n",
    "gdp = (pd.read_excel('../data/GDP.xlsx')  # 读取数据\n",
    "        .drop(0)  # 删除单位行\n",
    "        .astype(float)  # 转为浮点\n",
    "        .rename({'指标名称': 'Year'}, axis=1)  # 将年份列改名\n",
    "        .astype({'Year': int})  # 将年份从浮点改为整形\n",
    "        .set_index('Year')  # 并设置为索引\n",
    "        .replace(0., np.nan)  # 空值是没数据，不可能为 0\n",
    "        .drop(list(np.arange(1949, 1965)), axis=0)  # 删除不考虑的时间范围\n",
    "        )\n",
    "\n",
    "gdp.head()"
   ]
  },
  {
   "source": [
    "**将省份按黄河流域分区归类**"
   ],
   "cell_type": "markdown",
   "metadata": {}
  },
  {
   "cell_type": "code",
   "execution_count": 4,
   "metadata": {
    "tags": []
   },
   "outputs": [
    {
     "output_type": "error",
     "ename": "IndentationError",
     "evalue": "unexpected indent (processing.py, line 93)",
     "traceback": [
      "Traceback \u001b[1;36m(most recent call last)\u001b[0m:\n",
      "  File \u001b[0;32m\"D:\\Programs\\anaconda38\\lib\\site-packages\\IPython\\core\\interactiveshell.py\"\u001b[0m, line \u001b[0;32m3343\u001b[0m, in \u001b[0;35mrun_code\u001b[0m\n    exec(code_obj, self.user_global_ns, self.user_ns)\n",
      "\u001b[1;36m  File \u001b[1;32m\"<ipython-input-4-5c1813a3700f>\"\u001b[1;36m, line \u001b[1;32m8\u001b[1;36m, in \u001b[1;35m<module>\u001b[1;36m\u001b[0m\n\u001b[1;33m    from tools.processing import get_region_by_province_name\u001b[0m\n",
      "\u001b[1;36m  File \u001b[1;32m\"..\\tools\\processing.py\"\u001b[1;36m, line \u001b[1;32m93\u001b[0m\n\u001b[1;33m    x_min, x_max = ax.get_xlim()\u001b[0m\n\u001b[1;37m    ^\u001b[0m\n\u001b[1;31mIndentationError\u001b[0m\u001b[1;31m:\u001b[0m unexpected indent\n"
     ]
    }
   ],
   "source": [
    "# 清洗列名\n",
    "def clean_col_names(name):\n",
    "    elements = col.split(':')  # 分割列名\n",
    "    province = elements[0].strip()  # 地名\n",
    "    industry = elements[-1].strip()  # 产业\n",
    "    return province, industry\n",
    "\n",
    "from tools.processing import get_region_by_province_name\n",
    "\n",
    "regions = ['SR', 'UR', 'MR', 'DR']  # 设置区域\n",
    "region_dict = {region: pd.DataFrame() for region in regions}  # 用来储存每个区域的GDP数据\n",
    "for col in gdp:\n",
    "    province, industry = clean_col_names(col)  # 清洗列名\n",
    "    region = get_region_by_province_name(province)  # 属于哪个区域\n",
    "    if region: region_dict[region][col] = gdp[col]  # 如果是黄河流域的省份，存进对应的字典\n",
    "    else:  gdp.drop(col, axis=1, inplace=True)  # 不是黄河流域的省份，就丢掉\n"
   ]
  },
  {
   "source": [
    "**每个区域的一二三产业对比**"
   ],
   "cell_type": "markdown",
   "metadata": {}
  },
  {
   "cell_type": "code",
   "execution_count": 5,
   "metadata": {},
   "outputs": [],
   "source": [
    "# 根据年份，提取数据\n",
    "def extract_data_by_yr(data, start_yr, end_yr):\n",
    "    # 当需要提取的年份在起点年份之前，采用时间序列中最早的一年\n",
    "    if start_yr not in data.index:\n",
    "        start_yr = data.index[0]\n",
    "    # 同理，如果终点年份超出索引，采用最晚的一年\n",
    "    if end_yr not in data.index:\n",
    "        end_yr = data.index[-1]\n",
    "\n",
    "    # 当两者相等时，无标准差\n",
    "    if start_yr == end_yr:\n",
    "        return data.loc[end_yr], False\n",
    "    else:\n",
    "        use_data = data.loc[start_yr: end_yr]\n",
    "        return np.mean(use_data), np.std(use_data)\n",
    "\n",
    "\n",
    "def plot_bar_by_category(ax, data, categories, colors, position, start_yr, end_yr, **kargs):\n",
    "    \"\"\" 绘制一个分类柱状图，将不同类别画在同一个位置上\n",
    "    ax: 绘图区域\n",
    "    data: 数据，DataFrame，index 是时间（年份），列与 categories 相关\n",
    "    categories: 分类列表，其中的类应该是 data 中出现的列名\n",
    "    colors: 每个类使用的颜色\n",
    "    position: 这个分类柱状图的柱子位置\n",
    "    start_yr: 截取数据的起始年\n",
    "    end_yr: 截取数据的末位年\n",
    "    **kargs: 与绘图相关的参数\n",
    "    ---------------------------------------------\n",
    "    return: 返回图例\n",
    "    \"\"\"\n",
    "    bottom = 0  # 初始的柱状图底\n",
    "    legends = []  # 图例\n",
    "    for i, category in enumerate(categories):  # 对每个分类\n",
    "        use_data = data[category]  # 数据是其中的类\n",
    "        height, std = extract_data_by_yr(use_data, start_yr, end_yr)\n",
    "        if std:  # 如果有标准差，就绘制误差线\n",
    "            bar = ax.bar(\n",
    "                x=position,\n",
    "                bottom=bottom,\n",
    "                height=height, \n",
    "                yerr=std,\n",
    "                color=colors[i],\n",
    "                **kargs\n",
    "            )\n",
    "        else:\n",
    "            bar = ax.bar(\n",
    "                x=position,\n",
    "                bottom=bottom,\n",
    "                height=height, \n",
    "                color=colors[i],\n",
    "                **kargs\n",
    "            )\n",
    "        # 每次循环之后：\n",
    "        bottom += height  # 原先的高作为新的底\n",
    "        legends.append(bar)  # 图像存为图例\n",
    "    return legends"
   ]
  },
  {
   "cell_type": "code",
   "execution_count": 6,
   "metadata": {
    "tags": []
   },
   "outputs": [
    {
     "output_type": "error",
     "ename": "NameError",
     "evalue": "name 'regions' is not defined",
     "traceback": [
      "\u001b[1;31m---------------------------------------------------------------------------\u001b[0m",
      "\u001b[1;31mNameError\u001b[0m                                 Traceback (most recent call last)",
      "\u001b[1;32m<ipython-input-6-2a47c408a88f>\u001b[0m in \u001b[0;36m<module>\u001b[1;34m\u001b[0m\n\u001b[0;32m     54\u001b[0m \u001b[0mstart_yr\u001b[0m\u001b[1;33m,\u001b[0m \u001b[0mend_yr\u001b[0m \u001b[1;33m=\u001b[0m \u001b[1;36m1980\u001b[0m\u001b[1;33m,\u001b[0m \u001b[1;36m2000\u001b[0m  \u001b[1;31m# 决定观察的时间范围\u001b[0m\u001b[1;33m\u001b[0m\u001b[1;33m\u001b[0m\u001b[0m\n\u001b[0;32m     55\u001b[0m \u001b[0mfig\u001b[0m\u001b[1;33m,\u001b[0m \u001b[0max\u001b[0m \u001b[1;33m=\u001b[0m \u001b[0mplt\u001b[0m\u001b[1;33m.\u001b[0m\u001b[0msubplots\u001b[0m\u001b[1;33m(\u001b[0m\u001b[1;33m)\u001b[0m  \u001b[1;31m# 制图\u001b[0m\u001b[1;33m\u001b[0m\u001b[1;33m\u001b[0m\u001b[0m\n\u001b[1;32m---> 56\u001b[1;33m \u001b[0mplot_gdp\u001b[0m\u001b[1;33m(\u001b[0m\u001b[0max\u001b[0m\u001b[1;33m,\u001b[0m \u001b[0mgdp_colors\u001b[0m\u001b[1;33m,\u001b[0m \u001b[0mstart_yr\u001b[0m\u001b[1;33m,\u001b[0m \u001b[0mend_yr\u001b[0m\u001b[1;33m,\u001b[0m \u001b[0mwidth\u001b[0m\u001b[1;33m=\u001b[0m\u001b[1;36m0.8\u001b[0m\u001b[1;33m)\u001b[0m\u001b[1;33m\u001b[0m\u001b[1;33m\u001b[0m\u001b[0m\n\u001b[0m\u001b[0;32m     57\u001b[0m \u001b[0mplt\u001b[0m\u001b[1;33m.\u001b[0m\u001b[0mshow\u001b[0m\u001b[1;33m(\u001b[0m\u001b[1;33m)\u001b[0m\u001b[1;33m;\u001b[0m\u001b[1;33m\u001b[0m\u001b[1;33m\u001b[0m\u001b[0m\n",
      "\u001b[1;32m<ipython-input-6-2a47c408a88f>\u001b[0m in \u001b[0;36mplot_gdp\u001b[1;34m(ax, colors, start_yr, end_yr, **kargs)\u001b[0m\n\u001b[0;32m     22\u001b[0m \u001b[1;33m\u001b[0m\u001b[0m\n\u001b[0;32m     23\u001b[0m     \u001b[1;31m# 对每个区域进行处理\u001b[0m\u001b[1;33m\u001b[0m\u001b[1;33m\u001b[0m\u001b[1;33m\u001b[0m\u001b[0m\n\u001b[1;32m---> 24\u001b[1;33m     \u001b[1;32mfor\u001b[0m \u001b[0mi\u001b[0m\u001b[1;33m,\u001b[0m \u001b[0mregion\u001b[0m \u001b[1;32min\u001b[0m \u001b[0menumerate\u001b[0m\u001b[1;33m(\u001b[0m\u001b[0mregions\u001b[0m\u001b[1;33m)\u001b[0m\u001b[1;33m:\u001b[0m\u001b[1;33m\u001b[0m\u001b[1;33m\u001b[0m\u001b[0m\n\u001b[0m\u001b[0;32m     25\u001b[0m         \u001b[0muse_data\u001b[0m \u001b[1;33m=\u001b[0m \u001b[0mregion_dict\u001b[0m\u001b[1;33m[\u001b[0m\u001b[0mregion\u001b[0m\u001b[1;33m]\u001b[0m  \u001b[1;31m# 某个区域的数据\u001b[0m\u001b[1;33m\u001b[0m\u001b[1;33m\u001b[0m\u001b[0m\n\u001b[0;32m     26\u001b[0m         \u001b[0mindustries_gdp\u001b[0m \u001b[1;33m=\u001b[0m \u001b[1;33m[\u001b[0m\u001b[1;33m]\u001b[0m  \u001b[1;31m# 用来储存该区域的 一、二、三 产业的总平均 gdp\u001b[0m\u001b[1;33m\u001b[0m\u001b[1;33m\u001b[0m\u001b[0m\n",
      "\u001b[1;31mNameError\u001b[0m: name 'regions' is not defined"
     ]
    }
   ],
   "source": [
    "# 根据指定的产业提取数据，计算区域总的 GDP\n",
    "def extract_gdp_by_industry(data, industry):\n",
    "    \"\"\" 根据指定的产业，提取GDP数据\n",
    "    data: GDP 数据，列名格式为：\"地区: GDP: 第X产业\"\n",
    "    industry: 需要提取的产业\n",
    "    --------------------------------\n",
    "    return: 给定数据集中，所有该产业的逐年 GDP\n",
    "    \"\"\"\n",
    "    df = pd.DataFrame()\n",
    "    for col in data:\n",
    "        if industry in col:\n",
    "            df[col] = data[col]\n",
    "        else:\n",
    "            continue\n",
    "    return df.sum(axis=1)\n",
    "\n",
    "\n",
    "# GDP 制图\n",
    "def plot_gdp(ax, colors, start_yr, end_yr, **kargs):\n",
    "    industries = ['第一', '第二', '第三']  # 三个产业\n",
    "    industries_eng = ['Agriculture', 'Industry', 'Services']\n",
    "    \n",
    "    # 对每个区域进行处理\n",
    "    for i, region in enumerate(regions):\n",
    "        use_data = region_dict[region]  # 某个区域的数据\n",
    "        industries_gdp = []  # 用来储存该区域的 一、二、三 产业的总平均 gdp\n",
    "        industries_std = []  # 用来储存该区域的 一、二、三 产业的gdp方差\n",
    "\n",
    "        gdp_region_data = {}\n",
    "        # 对每个产业进行处理\n",
    "        for industry in industries:\n",
    "            # 该区域、该产业的gdp序列，以产业为键存入字典，以供函数调用\n",
    "            gdp_region_data[industry] = extract_gdp_by_industry(use_data, industry)\n",
    "\n",
    "        legends = plot_bar_by_category(\n",
    "            ax=ax,\n",
    "            data=gdp_region_data,\n",
    "            categories=industries, \n",
    "            position=i,\n",
    "            start_yr=start_yr,\n",
    "            end_yr=end_yr,\n",
    "            colors=colors,\n",
    "            **kargs\n",
    "        )\n",
    "        \n",
    "    ax.set_xticks(np.arange(4))\n",
    "    ax.set_xticklabels(regions)\n",
    "    ax.set_xlabel('Regions')\n",
    "    ax.set_ylabel('GDP')\n",
    "    ax.legend(legends, labels=industries_eng)\n",
    "    return industries_gdp\n",
    "\n",
    "gdp_colors = ['#CFA7D1', '#79D6F0', '#E25A53']  # 使用的颜色参数\n",
    "start_yr, end_yr = 1980, 2000  # 决定观察的时间范围\n",
    "fig, ax = plt.subplots()  # 制图\n",
    "plot_gdp(ax, gdp_colors, start_yr, end_yr, width=0.8)\n",
    "plt.show();"
   ]
  },
  {
   "source": [
    "**各区域的人口对比**"
   ],
   "cell_type": "markdown",
   "metadata": {}
  },
  {
   "cell_type": "code",
   "execution_count": 7,
   "metadata": {
    "tags": []
   },
   "outputs": [
    {
     "output_type": "error",
     "ename": "NameError",
     "evalue": "name 'regions' is not defined",
     "traceback": [
      "\u001b[1;31m---------------------------------------------------------------------------\u001b[0m",
      "\u001b[1;31mNameError\u001b[0m                                 Traceback (most recent call last)",
      "\u001b[1;32m<ipython-input-7-073474b47dc7>\u001b[0m in \u001b[0;36m<module>\u001b[1;34m\u001b[0m\n\u001b[0;32m     28\u001b[0m \u001b[1;33m\u001b[0m\u001b[0m\n\u001b[0;32m     29\u001b[0m \u001b[0mfig\u001b[0m\u001b[1;33m,\u001b[0m \u001b[0max\u001b[0m \u001b[1;33m=\u001b[0m \u001b[0mplt\u001b[0m\u001b[1;33m.\u001b[0m\u001b[0msubplots\u001b[0m\u001b[1;33m(\u001b[0m\u001b[1;33m)\u001b[0m\u001b[1;33m\u001b[0m\u001b[1;33m\u001b[0m\u001b[0m\n\u001b[1;32m---> 30\u001b[1;33m \u001b[0mplot_pop\u001b[0m\u001b[1;33m(\u001b[0m\u001b[0max\u001b[0m\u001b[1;33m,\u001b[0m \u001b[0mcolors\u001b[0m\u001b[1;33m=\u001b[0m\u001b[0mgdp_colors\u001b[0m\u001b[1;33m,\u001b[0m \u001b[0mstart_yr\u001b[0m\u001b[1;33m=\u001b[0m\u001b[0mstart_yr\u001b[0m\u001b[1;33m,\u001b[0m \u001b[0mend_yr\u001b[0m\u001b[1;33m=\u001b[0m\u001b[0mend_yr\u001b[0m\u001b[1;33m)\u001b[0m\u001b[1;33m\u001b[0m\u001b[1;33m\u001b[0m\u001b[0m\n\u001b[0m\u001b[0;32m     31\u001b[0m \u001b[0mplt\u001b[0m\u001b[1;33m.\u001b[0m\u001b[0mshow\u001b[0m\u001b[1;33m(\u001b[0m\u001b[1;33m)\u001b[0m\u001b[1;33m;\u001b[0m\u001b[1;33m\u001b[0m\u001b[1;33m\u001b[0m\u001b[0m\n",
      "\u001b[1;32m<ipython-input-7-073474b47dc7>\u001b[0m in \u001b[0;36mplot_pop\u001b[1;34m(ax, colors, start_yr, end_yr, **kargs)\u001b[0m\n\u001b[0;32m      9\u001b[0m \u001b[1;31m# 提取每个区域，特定年份的人口数量\u001b[0m\u001b[1;33m\u001b[0m\u001b[1;33m\u001b[0m\u001b[1;33m\u001b[0m\u001b[0m\n\u001b[0;32m     10\u001b[0m \u001b[1;32mdef\u001b[0m \u001b[0mplot_pop\u001b[0m\u001b[1;33m(\u001b[0m\u001b[0max\u001b[0m\u001b[1;33m,\u001b[0m \u001b[0mcolors\u001b[0m\u001b[1;33m,\u001b[0m \u001b[0mstart_yr\u001b[0m\u001b[1;33m,\u001b[0m \u001b[0mend_yr\u001b[0m\u001b[1;33m,\u001b[0m \u001b[1;33m**\u001b[0m\u001b[0mkargs\u001b[0m\u001b[1;33m)\u001b[0m\u001b[1;33m:\u001b[0m\u001b[1;33m\u001b[0m\u001b[1;33m\u001b[0m\u001b[0m\n\u001b[1;32m---> 11\u001b[1;33m     \u001b[1;32mfor\u001b[0m \u001b[0mi\u001b[0m\u001b[1;33m,\u001b[0m \u001b[0mregion\u001b[0m \u001b[1;32min\u001b[0m \u001b[0menumerate\u001b[0m\u001b[1;33m(\u001b[0m\u001b[0mregions\u001b[0m\u001b[1;33m)\u001b[0m\u001b[1;33m:\u001b[0m\u001b[1;33m\u001b[0m\u001b[1;33m\u001b[0m\u001b[0m\n\u001b[0m\u001b[0;32m     12\u001b[0m         \u001b[0muse_data\u001b[0m \u001b[1;33m=\u001b[0m \u001b[0mpop\u001b[0m\u001b[1;33m.\u001b[0m\u001b[0mgroupby\u001b[0m\u001b[1;33m(\u001b[0m\u001b[1;33m[\u001b[0m\u001b[1;34m'Region'\u001b[0m\u001b[1;33m,\u001b[0m \u001b[1;34m'Year'\u001b[0m\u001b[1;33m]\u001b[0m\u001b[1;33m)\u001b[0m\u001b[1;33m.\u001b[0m\u001b[0msum\u001b[0m\u001b[1;33m(\u001b[0m\u001b[1;33m)\u001b[0m\u001b[1;33m.\u001b[0m\u001b[0mloc\u001b[0m\u001b[1;33m[\u001b[0m\u001b[0mregion\u001b[0m\u001b[1;33m]\u001b[0m  \u001b[1;31m# 关注区域的年人口变化\u001b[0m\u001b[1;33m\u001b[0m\u001b[1;33m\u001b[0m\u001b[0m\n\u001b[0;32m     13\u001b[0m         legends = plot_bar_by_category(\n",
      "\u001b[1;31mNameError\u001b[0m: name 'regions' is not defined"
     ]
    }
   ],
   "source": [
    "# 加载阈值为 0.05的数据，即与黄河流域相交面积大于全市总面积 5% 的所有市\n",
    "city_yr = pd.read_csv('../data/perfectures/yr/perfectures_in_YR_with_threshold_0.05.csv')\n",
    "\n",
    "# 包含人口的列\n",
    "population = ['Urban population', 'Rural population']\n",
    "pop = city_yr[['Year', 'Region'] + population]\n",
    "\n",
    "\n",
    "# 提取每个区域，特定年份的人口数量\n",
    "def plot_pop(ax, colors, start_yr, end_yr, **kargs):\n",
    "    for i, region in enumerate(regions):\n",
    "        use_data = pop.groupby(['Region', 'Year']).sum().loc[region]  # 关注区域的年人口变化\n",
    "        legends = plot_bar_by_category(\n",
    "            ax=ax,\n",
    "            data=use_data,\n",
    "            categories=population,\n",
    "            position=i,\n",
    "            start_yr=start_yr,\n",
    "            end_yr=end_yr,\n",
    "            colors=colors,\n",
    "            **kargs\n",
    "        )\n",
    "    ax.legend(labels=['Urban', 'Rural'])\n",
    "    ax.set_xticks(np.arange(4))\n",
    "    ax.set_xticklabels(regions)\n",
    "    ax.set_xlabel('Regions')\n",
    "    ax.set_ylabel('Population')\n",
    "    \n",
    "fig, ax = plt.subplots()\n",
    "plot_pop(ax, colors=gdp_colors, start_yr=start_yr, end_yr=end_yr)\n",
    "plt.show();"
   ]
  },
  {
   "source": [
    "**耗水量对比**"
   ],
   "cell_type": "markdown",
   "metadata": {
    "tags": []
   }
  },
  {
   "cell_type": "code",
   "execution_count": 8,
   "metadata": {
    "tags": []
   },
   "outputs": [
    {
     "output_type": "error",
     "ename": "NameError",
     "evalue": "name 'regions' is not defined",
     "traceback": [
      "\u001b[1;31m---------------------------------------------------------------------------\u001b[0m",
      "\u001b[1;31mNameError\u001b[0m                                 Traceback (most recent call last)",
      "\u001b[1;32m<ipython-input-8-382b08204070>\u001b[0m in \u001b[0;36m<module>\u001b[1;34m\u001b[0m\n\u001b[0;32m     23\u001b[0m \u001b[0mfig\u001b[0m\u001b[1;33m,\u001b[0m \u001b[0max\u001b[0m \u001b[1;33m=\u001b[0m \u001b[0mplt\u001b[0m\u001b[1;33m.\u001b[0m\u001b[0msubplots\u001b[0m\u001b[1;33m(\u001b[0m\u001b[1;33m)\u001b[0m\u001b[1;33m\u001b[0m\u001b[1;33m\u001b[0m\u001b[0m\n\u001b[0;32m     24\u001b[0m \u001b[0mregion_colors\u001b[0m \u001b[1;33m=\u001b[0m \u001b[1;33m[\u001b[0m\u001b[1;34m\"#0077b6\"\u001b[0m\u001b[1;33m,\u001b[0m \u001b[1;34m\"#e07a5f\"\u001b[0m\u001b[1;33m,\u001b[0m \u001b[1;34m\"#f2cc8f\"\u001b[0m\u001b[1;33m,\u001b[0m\u001b[1;34m\"#81b29a\"\u001b[0m\u001b[1;33m]\u001b[0m\u001b[1;33m\u001b[0m\u001b[1;33m\u001b[0m\u001b[0m\n\u001b[1;32m---> 25\u001b[1;33m \u001b[0mplot_wu\u001b[0m\u001b[1;33m(\u001b[0m\u001b[0max\u001b[0m\u001b[1;33m,\u001b[0m \u001b[0mcolors\u001b[0m\u001b[1;33m=\u001b[0m\u001b[0mregion_colors\u001b[0m\u001b[1;33m,\u001b[0m \u001b[0mstart_yr\u001b[0m\u001b[1;33m=\u001b[0m\u001b[1;36m1980\u001b[0m\u001b[1;33m,\u001b[0m \u001b[0mend_yr\u001b[0m\u001b[1;33m=\u001b[0m\u001b[1;36m1982\u001b[0m\u001b[1;33m)\u001b[0m\u001b[1;33m\u001b[0m\u001b[1;33m\u001b[0m\u001b[0m\n\u001b[0m\u001b[0;32m     26\u001b[0m \u001b[0mplt\u001b[0m\u001b[1;33m.\u001b[0m\u001b[0mshow\u001b[0m\u001b[1;33m(\u001b[0m\u001b[1;33m)\u001b[0m\u001b[1;33m;\u001b[0m\u001b[1;33m\u001b[0m\u001b[1;33m\u001b[0m\u001b[0m\n",
      "\u001b[1;32m<ipython-input-8-382b08204070>\u001b[0m in \u001b[0;36mplot_wu\u001b[1;34m(ax, colors, start_yr, end_yr, **kargs)\u001b[0m\n\u001b[0;32m      5\u001b[0m \u001b[1;32mdef\u001b[0m \u001b[0mplot_wu\u001b[0m\u001b[1;33m(\u001b[0m\u001b[0max\u001b[0m\u001b[1;33m,\u001b[0m \u001b[0mcolors\u001b[0m\u001b[1;33m,\u001b[0m \u001b[0mstart_yr\u001b[0m\u001b[1;33m,\u001b[0m \u001b[0mend_yr\u001b[0m\u001b[1;33m,\u001b[0m \u001b[1;33m**\u001b[0m\u001b[0mkargs\u001b[0m\u001b[1;33m)\u001b[0m\u001b[1;33m:\u001b[0m\u001b[1;33m\u001b[0m\u001b[1;33m\u001b[0m\u001b[0m\n\u001b[0;32m      6\u001b[0m     \u001b[0mlegends\u001b[0m \u001b[1;33m=\u001b[0m \u001b[1;33m[\u001b[0m\u001b[1;33m]\u001b[0m\u001b[1;33m\u001b[0m\u001b[1;33m\u001b[0m\u001b[0m\n\u001b[1;32m----> 7\u001b[1;33m     \u001b[1;32mfor\u001b[0m \u001b[0mi\u001b[0m\u001b[1;33m,\u001b[0m \u001b[0mregion\u001b[0m \u001b[1;32min\u001b[0m \u001b[0menumerate\u001b[0m\u001b[1;33m(\u001b[0m\u001b[0mregions\u001b[0m\u001b[1;33m)\u001b[0m\u001b[1;33m:\u001b[0m\u001b[1;33m\u001b[0m\u001b[1;33m\u001b[0m\u001b[0m\n\u001b[0m\u001b[0;32m      8\u001b[0m         \u001b[0muse_data\u001b[0m \u001b[1;33m=\u001b[0m \u001b[0mwater_use\u001b[0m\u001b[1;33m.\u001b[0m\u001b[0mgroupby\u001b[0m\u001b[1;33m(\u001b[0m\u001b[1;33m[\u001b[0m\u001b[1;34m'Region'\u001b[0m\u001b[1;33m,\u001b[0m \u001b[1;34m'Year'\u001b[0m\u001b[1;33m]\u001b[0m\u001b[1;33m)\u001b[0m\u001b[1;33m.\u001b[0m\u001b[0msum\u001b[0m\u001b[1;33m(\u001b[0m\u001b[1;33m)\u001b[0m\u001b[1;33m.\u001b[0m\u001b[0mloc\u001b[0m\u001b[1;33m[\u001b[0m\u001b[0mregion\u001b[0m\u001b[1;33m]\u001b[0m  \u001b[1;31m# 关注区域的年人口变化\u001b[0m\u001b[1;33m\u001b[0m\u001b[1;33m\u001b[0m\u001b[0m\n\u001b[0;32m      9\u001b[0m         \u001b[0mmean\u001b[0m\u001b[1;33m,\u001b[0m \u001b[0mstd\u001b[0m \u001b[1;33m=\u001b[0m \u001b[0mextract_data_by_yr\u001b[0m\u001b[1;33m(\u001b[0m\u001b[0muse_data\u001b[0m\u001b[1;33m,\u001b[0m \u001b[0mstart_yr\u001b[0m\u001b[1;33m,\u001b[0m \u001b[0mend_yr\u001b[0m\u001b[1;33m)\u001b[0m\u001b[1;33m\u001b[0m\u001b[1;33m\u001b[0m\u001b[0m\n",
      "\u001b[1;31mNameError\u001b[0m: name 'regions' is not defined"
     ]
    }
   ],
   "source": [
    "# 包含人口的列\n",
    "water_use = city_yr[['Year', 'Region', 'Total water use']]\n",
    "\n",
    "# 提取每个区域，特定年份的人口数量\n",
    "def plot_wu(ax, colors, start_yr, end_yr, **kargs):\n",
    "    legends = []\n",
    "    for i, region in enumerate(regions):\n",
    "        use_data = water_use.groupby(['Region', 'Year']).sum().loc[region]  # 关注区域的年人口变化\n",
    "        mean, std = extract_data_by_yr(use_data, start_yr, end_yr)     \n",
    "        bar = ax.bar(\n",
    "                x=i,\n",
    "                height=mean,\n",
    "                yerr=std,\n",
    "                color=colors[i],\n",
    "                **kargs\n",
    "            )\n",
    "        legends.append(bar)\n",
    "    ax.set_xticks(np.arange(4))\n",
    "    ax.set_xticklabels(regions)\n",
    "    ax.set_xlabel('Regions')\n",
    "    ax.set_ylabel('Total water use')\n",
    "    \n",
    "fig, ax = plt.subplots()\n",
    "region_colors = [\"#0077b6\", \"#e07a5f\", \"#f2cc8f\",\"#81b29a\"]\n",
    "plot_wu(ax, colors=region_colors, start_yr=1980, end_yr=1982)\n",
    "plt.show();"
   ]
  },
  {
   "source": [
    "**天然产水量**\n"
   ],
   "cell_type": "markdown",
   "metadata": {}
  },
  {
   "cell_type": "code",
   "execution_count": 9,
   "metadata": {},
   "outputs": [],
   "source": [
    "# 加载实测径流量\n",
    "def get_measured_runoff(region):\n",
    "    use_cols = {\n",
    "        '年份': 'Year',\n",
    "        '唐乃亥': 'SR',  # 唐乃亥控制源区\n",
    "        '头道拐': 'UR',  # 头道拐控制上游\n",
    "        '花园口': 'MR',  # 花园口控制中游\n",
    "        '利津': 'DR'     # 利津控制下游\n",
    "    }\n",
    "    measured_runoff = pd.read_csv(r'../data/hydrology/1956-2016_runoff.csv')\n",
    "    measured_runoff = measured_runoff.loc[:, use_cols.keys()]\n",
    "    measured_runoff.rename(use_cols, axis=1, inplace=True)\n",
    "    measured_runoff.set_index('Year', inplace=True)\n",
    "    return measured_runoff[region]\n",
    "\n",
    "\n",
    "# 获取天然径流量的差值\n",
    "def get_runoff_difference(region):\n",
    "    index = regions.index(region)\n",
    "    if index == 0:\n",
    "        runoff_in = 0\n",
    "    else:\n",
    "        runoff_in = get_measured_runoff(regions[index-1])\n",
    "    runoff_out = get_measured_runoff(region)\n",
    "    return runoff_out - runoff_in\n",
    "\n",
    "\n",
    "# 加载消耗量\n",
    "def get_consumptions(region):\n",
    "    \"\"\"计算从此区域及其上游区域，合计的【水资源】消耗量\"\"\"\n",
    "    consumption = water_use.groupby(['Region', 'Year']).sum().loc[region]['Total water use']\n",
    "    flag = 0\n",
    "    index = regions.index(region)\n",
    "    while flag < index:\n",
    "        consumption += water_use.groupby(['Region', 'Year']).sum().loc[regions[flag]]['Total water use']\n",
    "        flag += 1\n",
    "    return consumption * 10  # 单位由 10^8 变成 10^9\n",
    "\n",
    "\n",
    "# 计算每个区域的地表/地下水修正系数\n",
    "def get_surface_groundwater_coefficient(region):\n",
    "    watersheds = pd.read_csv(r\"../data/watershed_merged.csv\")\n",
    "\n",
    "    def get_type_data(d, p):\n",
    "        return d.groupby(\"项目\").get_group(p)\n",
    "\n",
    "    SR = ['龙羊峡以上', '龙羊峡至兰州', '河源-兰州']\n",
    "    UR = ['兰州至头道拐', '兰州-头道拐']\n",
    "    MR = ['头道拐至龙门', '龙门至三门峡', '三门峡至花园口', '头道拐-龙门', '龙门-三门峡', '三门峡-花园口']\n",
    "    DR = ['花园口以下', '花园口-利津', '利津-河口']\n",
    "    WATERSHED_TO_SUBREGION = {\n",
    "        \"SR\": SR,\n",
    "        \"UR\": UR,\n",
    "        \"MR\": MR,\n",
    "        \"DR\": DR\n",
    "    }\n",
    "\n",
    "    def judge_region(x):\n",
    "        for k, v in WATERSHED_TO_SUBREGION.items():\n",
    "            if x in v:\n",
    "                return k\n",
    "\n",
    "            \n",
    "    watersheds['region'] = watersheds['分区'].apply(judge_region)\n",
    "    watersheds = watersheds[watersheds['region'].notna()]\n",
    "    withdraw = get_type_data(watersheds, \"取水量\")\n",
    "\n",
    "    def calculate_ratio(data, sector):\n",
    "        sur = sector + \"_surface\"\n",
    "        gro = sector + \"_groundwater\"\n",
    "        data[sector+'_sum'] = data[sur] + data[gro]\n",
    "        data[sector+'_ratio'] = data[gro] / data[sector+'_sum']\n",
    "        return data\n",
    "\n",
    "    data = calculate_ratio(withdraw, '合计').groupby(['region', '年份']).mean()['合计_ratio']\n",
    "    return data.loc[region]"
   ]
  },
  {
   "cell_type": "code",
   "execution_count": 10,
   "metadata": {
    "tags": []
   },
   "outputs": [
    {
     "output_type": "error",
     "ename": "NameError",
     "evalue": "name 'regions' is not defined",
     "traceback": [
      "\u001b[1;31m---------------------------------------------------------------------------\u001b[0m",
      "\u001b[1;31mNameError\u001b[0m                                 Traceback (most recent call last)",
      "\u001b[1;32m<ipython-input-10-32f81620c6e2>\u001b[0m in \u001b[0;36m<module>\u001b[1;34m\u001b[0m\n\u001b[0;32m     21\u001b[0m \u001b[1;33m\u001b[0m\u001b[0m\n\u001b[0;32m     22\u001b[0m \u001b[0mfig\u001b[0m\u001b[1;33m,\u001b[0m \u001b[0max\u001b[0m \u001b[1;33m=\u001b[0m \u001b[0mplt\u001b[0m\u001b[1;33m.\u001b[0m\u001b[0msubplots\u001b[0m\u001b[1;33m(\u001b[0m\u001b[1;33m)\u001b[0m\u001b[1;33m\u001b[0m\u001b[1;33m\u001b[0m\u001b[0m\n\u001b[1;32m---> 23\u001b[1;33m \u001b[0mplot_water\u001b[0m\u001b[1;33m(\u001b[0m\u001b[0max\u001b[0m\u001b[1;33m,\u001b[0m \u001b[1;36m1980\u001b[0m\u001b[1;33m,\u001b[0m \u001b[1;36m2010\u001b[0m\u001b[1;33m,\u001b[0m \u001b[0mcolors\u001b[0m\u001b[1;33m=\u001b[0m\u001b[0mregion_colors\u001b[0m\u001b[1;33m)\u001b[0m\u001b[1;33m\u001b[0m\u001b[1;33m\u001b[0m\u001b[0m\n\u001b[0m",
      "\u001b[1;32m<ipython-input-10-32f81620c6e2>\u001b[0m in \u001b[0;36mplot_water\u001b[1;34m(ax, start_yr, end_yr, colors)\u001b[0m\n\u001b[0;32m      1\u001b[0m \u001b[1;32mdef\u001b[0m \u001b[0mplot_water\u001b[0m\u001b[1;33m(\u001b[0m\u001b[0max\u001b[0m\u001b[1;33m,\u001b[0m \u001b[0mstart_yr\u001b[0m\u001b[1;33m,\u001b[0m \u001b[0mend_yr\u001b[0m\u001b[1;33m,\u001b[0m \u001b[0mcolors\u001b[0m\u001b[1;33m)\u001b[0m\u001b[1;33m:\u001b[0m\u001b[1;33m\u001b[0m\u001b[1;33m\u001b[0m\u001b[0m\n\u001b[0;32m      2\u001b[0m     \u001b[0mlegends\u001b[0m \u001b[1;33m=\u001b[0m \u001b[1;33m[\u001b[0m\u001b[1;33m]\u001b[0m  \u001b[1;31m# 图例\u001b[0m\u001b[1;33m\u001b[0m\u001b[1;33m\u001b[0m\u001b[0m\n\u001b[1;32m----> 3\u001b[1;33m     \u001b[1;32mfor\u001b[0m \u001b[0mi\u001b[0m\u001b[1;33m,\u001b[0m \u001b[0mregion\u001b[0m \u001b[1;32min\u001b[0m \u001b[0menumerate\u001b[0m\u001b[1;33m(\u001b[0m\u001b[0mregions\u001b[0m\u001b[1;33m)\u001b[0m\u001b[1;33m:\u001b[0m  \u001b[1;31m# 循环每个区域\u001b[0m\u001b[1;33m\u001b[0m\u001b[1;33m\u001b[0m\u001b[0m\n\u001b[0m\u001b[0;32m      4\u001b[0m         \u001b[0mmeasured_runoff\u001b[0m \u001b[1;33m=\u001b[0m \u001b[0mget_runoff_difference\u001b[0m\u001b[1;33m(\u001b[0m\u001b[0mregion\u001b[0m\u001b[1;33m)\u001b[0m  \u001b[1;31m# 获取这个区域的径流量\u001b[0m\u001b[1;33m\u001b[0m\u001b[1;33m\u001b[0m\u001b[0m\n\u001b[0;32m      5\u001b[0m         \u001b[0mwu\u001b[0m \u001b[1;33m=\u001b[0m \u001b[0mget_consumptions\u001b[0m\u001b[1;33m(\u001b[0m\u001b[0mregion\u001b[0m\u001b[1;33m)\u001b[0m  \u001b[1;31m# 获取该区域的消耗量\u001b[0m\u001b[1;33m\u001b[0m\u001b[1;33m\u001b[0m\u001b[0m\n",
      "\u001b[1;31mNameError\u001b[0m: name 'regions' is not defined"
     ]
    }
   ],
   "source": [
    "def plot_water(ax, start_yr, end_yr, colors):\n",
    "    legends = []  # 图例\n",
    "    for i, region in enumerate(regions):  # 循环每个区域\n",
    "        measured_runoff = get_runoff_difference(region)  # 获取这个区域的径流量\n",
    "        wu = get_consumptions(region)  # 获取该区域的消耗量\n",
    "        c_ser = get_surface_groundwater_coefficient(region)\n",
    "        c = extract_data_by_yr(c_ser, start_yr, end_yr)[0]\n",
    "        natual_runoff = measured_runoff + wu * (1-c)\n",
    "        mean, std = extract_data_by_yr(natual_runoff, start_yr, end_yr)\n",
    "        bar = ax.bar(\n",
    "            x=i,\n",
    "            height=mean,\n",
    "            yerr=std,\n",
    "            color=colors[i]\n",
    "        )\n",
    "        legends.append(bar)\n",
    "    ax.set_xticks(np.arange(4))\n",
    "    ax.set_xticklabels(regions)\n",
    "    ax.set_xlabel('Regions')\n",
    "    ax.set_ylabel('Natural yield')\n",
    "\n",
    "fig, ax = plt.subplots()\n",
    "plot_water(ax, 1980, 2010, colors=region_colors)"
   ]
  },
  {
   "source": [
    "## 区域差异合并作图"
   ],
   "cell_type": "markdown",
   "metadata": {}
  },
  {
   "cell_type": "code",
   "execution_count": 11,
   "metadata": {
    "tags": []
   },
   "outputs": [
    {
     "output_type": "error",
     "ename": "NameError",
     "evalue": "name 'regions' is not defined",
     "traceback": [
      "\u001b[1;31m---------------------------------------------------------------------------\u001b[0m",
      "\u001b[1;31mNameError\u001b[0m                                 Traceback (most recent call last)",
      "\u001b[1;32m<ipython-input-11-8292dce94ca5>\u001b[0m in \u001b[0;36m<module>\u001b[1;34m\u001b[0m\n\u001b[0;32m      2\u001b[0m \u001b[1;33m\u001b[0m\u001b[0m\n\u001b[0;32m      3\u001b[0m \u001b[0mstart_yr\u001b[0m\u001b[1;33m,\u001b[0m \u001b[0mend_yr\u001b[0m \u001b[1;33m=\u001b[0m \u001b[1;36m1980\u001b[0m\u001b[1;33m,\u001b[0m \u001b[1;36m2000\u001b[0m\u001b[1;33m\u001b[0m\u001b[1;33m\u001b[0m\u001b[0m\n\u001b[1;32m----> 4\u001b[1;33m \u001b[0mplot_gdp\u001b[0m\u001b[1;33m(\u001b[0m\u001b[0max1\u001b[0m\u001b[1;33m,\u001b[0m \u001b[0mgdp_colors\u001b[0m\u001b[1;33m,\u001b[0m \u001b[0mstart_yr\u001b[0m\u001b[1;33m,\u001b[0m \u001b[0mend_yr\u001b[0m\u001b[1;33m)\u001b[0m\u001b[1;33m\u001b[0m\u001b[1;33m\u001b[0m\u001b[0m\n\u001b[0m\u001b[0;32m      5\u001b[0m \u001b[0mplot_pop\u001b[0m\u001b[1;33m(\u001b[0m\u001b[0max2\u001b[0m\u001b[1;33m,\u001b[0m \u001b[0mregion_colors\u001b[0m\u001b[1;33m[\u001b[0m\u001b[1;33m-\u001b[0m\u001b[1;36m2\u001b[0m\u001b[1;33m:\u001b[0m\u001b[1;33m]\u001b[0m\u001b[1;33m,\u001b[0m \u001b[0mstart_yr\u001b[0m\u001b[1;33m,\u001b[0m \u001b[0mend_yr\u001b[0m\u001b[1;33m)\u001b[0m\u001b[1;33m\u001b[0m\u001b[1;33m\u001b[0m\u001b[0m\n\u001b[0;32m      6\u001b[0m \u001b[0mplot_water\u001b[0m\u001b[1;33m(\u001b[0m\u001b[0max3\u001b[0m\u001b[1;33m,\u001b[0m \u001b[0mstart_yr\u001b[0m\u001b[1;33m,\u001b[0m \u001b[0mend_yr\u001b[0m\u001b[1;33m,\u001b[0m \u001b[0mregion_colors\u001b[0m\u001b[1;33m)\u001b[0m\u001b[1;33m\u001b[0m\u001b[1;33m\u001b[0m\u001b[0m\n",
      "\u001b[1;32m<ipython-input-6-2a47c408a88f>\u001b[0m in \u001b[0;36mplot_gdp\u001b[1;34m(ax, colors, start_yr, end_yr, **kargs)\u001b[0m\n\u001b[0;32m     22\u001b[0m \u001b[1;33m\u001b[0m\u001b[0m\n\u001b[0;32m     23\u001b[0m     \u001b[1;31m# 对每个区域进行处理\u001b[0m\u001b[1;33m\u001b[0m\u001b[1;33m\u001b[0m\u001b[1;33m\u001b[0m\u001b[0m\n\u001b[1;32m---> 24\u001b[1;33m     \u001b[1;32mfor\u001b[0m \u001b[0mi\u001b[0m\u001b[1;33m,\u001b[0m \u001b[0mregion\u001b[0m \u001b[1;32min\u001b[0m \u001b[0menumerate\u001b[0m\u001b[1;33m(\u001b[0m\u001b[0mregions\u001b[0m\u001b[1;33m)\u001b[0m\u001b[1;33m:\u001b[0m\u001b[1;33m\u001b[0m\u001b[1;33m\u001b[0m\u001b[0m\n\u001b[0m\u001b[0;32m     25\u001b[0m         \u001b[0muse_data\u001b[0m \u001b[1;33m=\u001b[0m \u001b[0mregion_dict\u001b[0m\u001b[1;33m[\u001b[0m\u001b[0mregion\u001b[0m\u001b[1;33m]\u001b[0m  \u001b[1;31m# 某个区域的数据\u001b[0m\u001b[1;33m\u001b[0m\u001b[1;33m\u001b[0m\u001b[0m\n\u001b[0;32m     26\u001b[0m         \u001b[0mindustries_gdp\u001b[0m \u001b[1;33m=\u001b[0m \u001b[1;33m[\u001b[0m\u001b[1;33m]\u001b[0m  \u001b[1;31m# 用来储存该区域的 一、二、三 产业的总平均 gdp\u001b[0m\u001b[1;33m\u001b[0m\u001b[1;33m\u001b[0m\u001b[0m\n",
      "\u001b[1;31mNameError\u001b[0m: name 'regions' is not defined"
     ]
    }
   ],
   "source": [
    "fig, ((ax1, ax2), (ax3, ax4)) = plt.subplots(2, 2, figsize=(8, 6))\n",
    "\n",
    "start_yr, end_yr = 1980, 2000\n",
    "plot_gdp(ax1, gdp_colors, start_yr, end_yr)\n",
    "plot_pop(ax2, region_colors[-2:], start_yr, end_yr)\n",
    "plot_water(ax3, start_yr, end_yr, region_colors)\n",
    "plot_wu(ax4, region_colors, start_yr, end_yr)\n",
    "\n",
    "# 修饰图片\n",
    "from tools.processing import get_position_by_ratio\n",
    "\n",
    "labels = [\"A.\", \"B.\", \"C.\", \"D.\"]\n",
    "for i, ax in enumerate([ax1, ax2, ax3, ax4]):\n",
    "    x, y =get_position_by_ratio(ax, 0.95, 0.93)\n",
    "    ax.text(x, y, labels[i], ha='center', va='center', weight='bold', size='large')\n",
    "\n",
    "    ax.spines['top'].set_visible(False)\n",
    "    ax.spines['left'].set_visible(False)\n",
    "    ax.spines['right'].set_visible(False)\n",
    "    ax.spines['bottom'].set_visible(True)\n",
    "\n",
    "    ax.set_xlabel(\"\")\n",
    "\n",
    "plt.savefig(\"../figures/supplementary_information/region_differences.jpg\", dpi=300)\n",
    "plt.savefig(\"../figures/supplementary_information/region_differences.pdf\", dpi=300)\n",
    "plt.show();"
   ]
  },
  {
   "source": [
    "# Fig. SX 不同时期 GDP 贡献百分比"
   ],
   "cell_type": "markdown",
   "metadata": {}
  },
  {
   "cell_type": "code",
   "execution_count": null,
   "metadata": {},
   "outputs": [],
   "source": []
  }
 ]
}