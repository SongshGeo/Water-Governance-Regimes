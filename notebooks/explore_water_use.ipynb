{
 "cells": [
  {
   "cell_type": "markdown",
   "metadata": {
    "cell_style": "center"
   },
   "source": [
    "# 分区统计"
   ]
  },
  {
   "cell_type": "code",
   "execution_count": null,
   "metadata": {
    "cell_style": "center"
   },
   "outputs": [],
   "source": [
    "import numpy as np\n",
    "import pandas as pd\n",
    "import re\n",
    "from matplotlib import pyplot as plt\n",
    "import matplotlib.colors\n",
    "import sys\n",
    "\n",
    "sys.path.append(\"..\")\n",
    "%matplotlib inline\n",
    "\n",
    "period_colors = [\"#0889A6\", \"#F1801F\", \"#006C43\"]\n",
    "region_colors = [\"#0077b6\", \"#e07a5f\", \"#f2cc8f\", \"#81b29a\"]\n",
    "index_colors = [\"#CFA7D1\", \"#79D6F0\", \"#E25A53\"]\n",
    "index_colormap = matplotlib.colors.ListedColormap(index_colors, \"indexed\")\n",
    "total_water_use_color = \"#D1495B\""
   ]
  },
  {
   "cell_type": "markdown",
   "metadata": {},
   "source": [
    "## 加载数据"
   ]
  },
  {
   "cell_type": "code",
   "execution_count": null,
   "metadata": {
    "cell_style": "center"
   },
   "outputs": [],
   "source": [
    "# 加载阈值为 0.05的数据，即与黄河流域相交面积大于全市总面积 5% 的所有市\n",
    "city_yr = pd.read_csv(\n",
    "    \"../data/perfectures/yr/perfectures_in_YR_with_threshold_0.05.csv\",\n",
    "    index_col=0,\n",
    ")\n",
    "\n",
    "regions = city_yr[\"Region\"].unique()\n",
    "city_yr.shape\n",
    "city_yr.head()"
   ]
  },
  {
   "cell_type": "markdown",
   "metadata": {},
   "source": [
    "## 数据所有列名"
   ]
  },
  {
   "cell_type": "code",
   "execution_count": null,
   "metadata": {
    "cell_style": "center",
    "tags": []
   },
   "outputs": [],
   "source": [
    "for col in city_yr.columns:\n",
    "    print(col)"
   ]
  },
  {
   "cell_type": "code",
   "execution_count": null,
   "metadata": {},
   "outputs": [],
   "source": [
    "# 所有农业、工业wui的列\n",
    "wui_cols = []\n",
    "for col in city_yr:\n",
    "    if \"WUI\" in col:\n",
    "        if \"Irrigat\" in col or \"Industrial\" in col:\n",
    "            wui_cols.append(col)\n",
    "\n",
    "# 将所有WUI的列与相应的\n",
    "import re\n",
    "\n",
    "pattern = re.compile(r\"\\W*WUI\\W*\")\n",
    "match_results = {}\n",
    "for wui_col_name in wui_cols:\n",
    "    wui = wui_col_name.replace(\"Irrigation water-use intensity\", \"Irrigate\")\n",
    "    splited_list = re.split(pattern, wui)\n",
    "    for col in city_yr.drop(wui_cols, axis=1):\n",
    "        bool_list = [_.strip() in col for _ in splited_list]\n",
    "        if all(bool_list):\n",
    "            match_results[wui_col_name] = col\n",
    "            break\n",
    "\n",
    "match_results"
   ]
  },
  {
   "cell_type": "code",
   "execution_count": null,
   "metadata": {},
   "outputs": [],
   "source": [
    "for col in city_yr:\n",
    "    if re.findall(re.compile(r\"\\bWU\\b\"), col):\n",
    "        col"
   ]
  },
  {
   "cell_type": "code",
   "execution_count": null,
   "metadata": {},
   "outputs": [],
   "source": [
    "# 新建一个表，装所有利用 WUI 和存量 相乘得到的 WU\n",
    "multipled_wu = pd.DataFrame(index=city_yr.index)\n",
    "\n",
    "# 把所有农业工业有关的 WU 列存入\n",
    "for wui, stock in match_results.items():\n",
    "    if \"Total\" in wui:\n",
    "        continue\n",
    "    if \"Industrial\" in wui:\n",
    "        wu = city_yr[wui] * city_yr[stock]\n",
    "    if \"Irrigat\" in wui:\n",
    "        wu = city_yr[wui] / 1000 / 1000 * city_yr[stock] * 10\n",
    "    multipled_wu[wui.replace(\"WUI\", \"WU\")] = wu\n",
    "\n",
    "# 把所有人居牲畜服务业有关的 WU 列存入\n",
    "other_wu_cols = []\n",
    "for col in city_yr:\n",
    "    if re.findall(re.compile(r\"\\bWU\\b\"), col):\n",
    "        other_wu_cols.append(col)\n",
    "\n",
    "for col in other_wu_cols:\n",
    "    multipled_wu[col] = city_yr[col]\n",
    "for col in [\"Year\", \"Region\"]:\n",
    "    multipled_wu[col] = city_yr[col]\n",
    "\n",
    "multipled_wu.head()"
   ]
  },
  {
   "cell_type": "markdown",
   "metadata": {},
   "source": [
    "## 数据字典:\n",
    "\n",
    "title | unit | describe\n",
    "-- | -- | --\n",
    "Total water use (WU) |\tkm3 yr-1 \t| The sum of IRR, IND, URB, and RUR\n",
    "Irrigation WU (IRR)|\tkm3 yr-1|\tAnnual quantity of water withdrawn for irrigation including the losses during conveyance and field application, but it does not include water for pasture or aquaculture\n",
    "Irrigated area\t| thousand ha\t| Area equipped for irrigation by crop\n",
    "Irrigation water-use intensity (WUI)|\tmm\t|The water used per unit of irrigated area by crop\n",
    "Industrial WU (IND)\t|km3 yr-1|\tAnnual quantity of water withdrawn for industrial purposes, including self-supplied industries and the industries that are connected to the public supply network\n",
    "Industrial gross value added (GVA)|\tBillion Yuan|\tIndustrial GVA by industries\n",
    "Industrial WUI\t|m3 Yuan-1\t|WU per unit of GVA for all industries\n",
    "Urban WU (URB)\t|km3 yr-1|\tThe sum of water withdrawn for direct uses by urban residents and service activities\n",
    "Urban domestic WU\t|km3 yr-1\t|Annual quantity of water withdrawn by the public supply network for the direct uses by urban residents\n",
    "Urban population\t|million Capita\t|The number of urban residents, including urban residents registered with urban residential permit (‘hukou’) and rural residents who migrate to urban regions no matter what they get urban hukou or not\n",
    "Urban domestic WUI\t|Liter capita-1 day-1|\tUrban domestic WU per capita of urban population\n",
    "Urban service WU\t|km3 yr-1|\tAnnual quantity of water withdrawn by the public supply network for the direct uses by service activities\n",
    "Service GVA\t|billion Yuan|\tGVA of service activities\n",
    "Service WUI \t|m3 Yuan-1|\tWU per unit of GVA of service activities\n",
    "Rural WU (RUR)\t|km3 yr-1|\tAnnual quantity of water withdrawn by the public supply network for the direct uses by rural residents and livestock\n",
    "Rural domestic WU\t|km3 yr-1|\tAnnual quantity of water withdrawn by the public supply network for the direct uses by rural residents\n",
    "Rural population\t|million Capita|\tPopulation living in rural regions\n",
    "Rural domestic WUI\t|Liter capita-1 day-1|\tRural domestic WU per capita of rural population\n",
    "Rural livestock WU\t|km3 yr-1|\tAnnual quantity of water withdrawn by the public supply network for livestock drinking and cleaning\n",
    "Livestock population\t|billion KJ\t|Livestock commodity calories summed from 7 types of animal \n",
    "Livestock WUI\t|Liter KJ-1|\tWU per unit of livestock commodity calories"
   ]
  },
  {
   "cell_type": "markdown",
   "metadata": {},
   "source": [
    "## 总用水量趋势"
   ]
  },
  {
   "cell_type": "code",
   "execution_count": null,
   "metadata": {},
   "outputs": [],
   "source": [
    "from tools.statistic import plot_pittitt_change_points\n",
    "\n",
    "twu = city_yr.groupby(\"Year\")[\"Total water use\"].sum()\n",
    "twu_slopes = plot_pittitt_change_points(\n",
    "    twu, change_points=[1977, 1993], colors=period_colors\n",
    ")\n",
    "plt.xlabel(\"Year\")\n",
    "plt.ylabel(\"Total water use\")\n",
    "\n",
    "# plt.savefig(\"../figures/sup/total_water_use.jpg\", dpi=300)\n",
    "plt.show();"
   ]
  },
  {
   "cell_type": "markdown",
   "metadata": {},
   "source": [
    "## 各区域总用水量"
   ]
  },
  {
   "cell_type": "code",
   "execution_count": null,
   "metadata": {},
   "outputs": [],
   "source": [
    "twu_regions = city_yr.groupby([\"Region\", \"Year\"])[\"Total water use\"].sum()\n",
    "twu_regions = pd.DataFrame({r: twu_regions.loc[r] for r in regions})\n",
    "\n",
    "fig, axs = plt.subplots(1, 3, figsize=(6, 2))\n",
    "endpoints = [1977, 1993, 2013]\n",
    "markers = [\"a.\", \"b.\", \"c.\"]\n",
    "startpoint = twu_regions.index.min()\n",
    "for i, endpoint in enumerate(endpoints):\n",
    "    ax = axs[i]\n",
    "    use_data = twu_regions.loc[startpoint:endpoint, :]\n",
    "    use_data.mean().plot.bar(yerr=use_data.std(), ax=ax, color=region_colors)\n",
    "    ax.set_ylim(0, 27)\n",
    "    ax.text(\n",
    "        1.2,\n",
    "        24,\n",
    "        \"{} {}-{}\".format(markers[i], startpoint, endpoint),\n",
    "        ha=\"center\",\n",
    "        va=\"center\",\n",
    "        weight=\"bold\",\n",
    "    )\n",
    "    startpoint = endpoint\n",
    "    ax.axes.get_yaxis().set_visible(False)\n",
    "    ax.tick_params(axis=\"x\", tickdir=\"in\", bottom=False, labelrotation=0)\n",
    "    ax.tick_params(axis=\"y\", tickdir=\"in\", bottom=False, labelrotation=0)\n",
    "\n",
    "axs[0].set_ylabel(\"Total water use ($km^3$)\")\n",
    "axs[0].axes.get_yaxis().set_visible(True)\n",
    "# plt.savefig(\"../figures/sup/sf_total_water_use_regions.jpg\", dpi=300)\n",
    "plt.show();"
   ]
  },
  {
   "cell_type": "markdown",
   "metadata": {},
   "source": [
    "## 分部门用水量"
   ]
  },
  {
   "cell_type": "code",
   "execution_count": null,
   "metadata": {},
   "outputs": [],
   "source": [
    "def plot_percentages(\n",
    "    data, years=[1965, 1977, 1993, 2013], ax=None, colors=None\n",
    "):\n",
    "    percentage = data.apply(lambda row: row / row.sum(), axis=1).loc[years]\n",
    "    if ax is None:\n",
    "        fig, ax = plt.subplots()\n",
    "    bottom = np.zeros(data.shape[1])\n",
    "    for i, col in enumerate(percentage):\n",
    "        y = percentage[col]\n",
    "        if colors is None:\n",
    "            ax.bar(x=np.arange(data.shape[1]), height=y, bottom=bottom)\n",
    "        else:\n",
    "            ax.bar(\n",
    "                x=np.arange(data.shape[1]),\n",
    "                height=y,\n",
    "                bottom=bottom,\n",
    "                color=colors[i],\n",
    "            )\n",
    "        bottom += y\n",
    "    ax.set_ylim(0, 1)\n",
    "    ax.set_ylabel(\"Proportion\")\n",
    "    ax.set_xticks(np.arange(data.shape[1]))\n",
    "    ax.set_xticklabels(years)\n",
    "    return percentage"
   ]
  },
  {
   "cell_type": "code",
   "execution_count": null,
   "metadata": {},
   "outputs": [],
   "source": [
    "wu_cols = [\"IND\", \"RUR\", \"URB\", \"IRR\"]\n",
    "wu_sections = city_yr.groupby([\"Year\"])[wu_cols].sum()\n",
    "\n",
    "# 绘图\n",
    "fig, (ax1, ax2) = plt.subplots(2, 1, figsize=(4, 7))\n",
    "ax1.stackplot(\n",
    "    wu_sections.index,\n",
    "    wu_sections.T,\n",
    "    labels=wu_cols,\n",
    "    colors=[\"#e07a5f\", \"#f2cc8f\", \"#81b29a\", \"#EDAE49\"],\n",
    ")\n",
    "ax1.set_xlabel(\"Year\")\n",
    "ax1.set_ylabel(\"Total water use ($km^3$)\")\n",
    "ax1.set_xlim(wu_sections.index.min(), wu_sections.index.max())\n",
    "ax1.set_yticks(np.arange(0, 61, 15))\n",
    "ax1.set_ylim(0, 65)\n",
    "ax1.yaxis.grid(color=\"white\", linestyle=\"-.\", linewidth=0.5)\n",
    "ax1.axvline(x=1977, ls=\":\", lw=1.5, c=\"black\")\n",
    "ax1.axvline(x=1993, ls=\":\", lw=1.5, c=\"black\")\n",
    "ax1.legend(loc=2)\n",
    "\n",
    "percentages = plot_percentages(\n",
    "    wu_sections, colors=[\"#e07a5f\", \"#f2cc8f\", \"#81b29a\", \"#EDAE49\"], ax=ax2\n",
    ")\n",
    "plt.savefig(\"../figures/sup/sf_wu_sections_stackplot.jpg\", dpi=300)\n",
    "plt.show();"
   ]
  },
  {
   "cell_type": "code",
   "execution_count": null,
   "metadata": {},
   "outputs": [],
   "source": [
    "wu_sections = city_yr.groupby([\"Year\", \"Region\"])[wu_cols].sum()\n",
    "check_years = [1965, 1977, 1993, 2013]\n",
    "\n",
    "fig, axs = plt.subplots(1, 4, figsize=(6, 2), constrained_layout=True)\n",
    "for i, yr in enumerate(check_years):\n",
    "    use_data = wu_sections.loc[yr, wu_cols]\n",
    "    benchmark = use_data.sum() / use_data.sum().sum()\n",
    "    plot_percentages(\n",
    "        use_data,\n",
    "        years=use_data.index.tolist(),\n",
    "        ax=axs[i],\n",
    "        colors=[\"#e07a5f\", \"#f2cc8f\", \"#81b29a\", \"#EDAE49\"],\n",
    "    )\n",
    "    axs[i].axes.get_yaxis().set_visible(False)\n",
    "    axs[i].tick_params(axis=\"x\", tickdir=\"in\", bottom=False, labelrotation=0)\n",
    "    axs[i].tick_params(axis=\"y\", tickdir=\"in\", bottom=False, labelrotation=0)\n",
    "    axs[i].set_xlabel(yr)\n",
    "    axs[i].axhline(1 - benchmark.max(), ls=\":\", c=\"black\")\n",
    "\n",
    "axs[0].axes.get_yaxis().set_visible(True)\n",
    "# plt.savefig(\"../figures/sup/sf_proportion_regions.jpg\", dpi=300)\n",
    "plt.show();"
   ]
  },
  {
   "cell_type": "code",
   "execution_count": null,
   "metadata": {},
   "outputs": [],
   "source": [
    "# 整个流域的农业、工业用水\n",
    "gva_sum = city_yr.groupby([\"Year\"]).sum()[[\"RUR\", \"IND\"]]\n",
    "fig, axs = plt.subplots(1, 2, figsize=(6, 2), constrained_layout=True)\n",
    "\n",
    "for i, ax in enumerate(axs):\n",
    "    ax.plot(gva_sum.iloc[:, i], \"-.\")\n",
    "    ax.set_xlabel(\"Year\")\n",
    "    ax.axvline(x=1977, ls=\":\", lw=1.5, c=\"black\")\n",
    "    ax.axvline(x=1993, ls=\":\", lw=1.5, c=\"black\")\n",
    "\n",
    "axs[0].set_ylabel(\"Irrigated water use\")\n",
    "axs[1].set_ylabel(\"Industrial water use\")\n",
    "# plt.savefig(\"../figures/sup/rur_and_ind_YRB.jpg\", dpi=300)\n",
    "plt.show();"
   ]
  },
  {
   "cell_type": "markdown",
   "metadata": {},
   "source": [
    "# 用水密度"
   ]
  },
  {
   "cell_type": "markdown",
   "metadata": {},
   "source": [
    "## 自动作折线图比较函数"
   ]
  },
  {
   "cell_type": "code",
   "execution_count": null,
   "metadata": {},
   "outputs": [],
   "source": [
    "# 一共将黄河流域分为“源区 Source Region”，“上游 Upper Region”，“中游 Middle Region”，“下游 Down Region”四个区\n",
    "# 每个区都有近60年的数据，所以先考虑采用折线图进行绘图比较趋势\n",
    "\n",
    "regions = [\"SR\", \"UR\", \"MR\", \"DR\"]\n",
    "# colors = ['']  # 将来可以设置自定义四个区域的颜色\n",
    "\n",
    "\n",
    "def compare_regions_lineplot(data, col=None, ax=None):\n",
    "    # data 应该是根据 ['Region', 'Year'] 进行groupby之后的数据\n",
    "    # col是需要对比的变量\n",
    "    \"\"\"自动生成对比四个区域某变量变化的折线图\"\"\"\n",
    "    if ax is None:\n",
    "        fig, ax = plt.subplots()\n",
    "    for i in range(len(regions)):\n",
    "        region = regions[i]\n",
    "        if col is None:\n",
    "            data[region].plot(ax=ax, label=region)\n",
    "        else:\n",
    "            data[col][region].plot(ax=ax, label=region)\n",
    "    ax.set_ylabel(col)"
   ]
  },
  {
   "cell_type": "markdown",
   "metadata": {},
   "source": [
    "## 提取 “WUI” 有关的列"
   ]
  },
  {
   "cell_type": "code",
   "execution_count": null,
   "metadata": {
    "pycharm": {
     "name": "#%%\n"
    },
    "tags": []
   },
   "outputs": [],
   "source": [
    "# 提取所有包含“用水密度”的列名\n",
    "water_use_density = []\n",
    "for col in city_yr.columns:\n",
    "    if \"WUI\" in col:\n",
    "        water_use_density.append(col)\n",
    "\n",
    "print(\"包含“用水密度”的列：\")\n",
    "water_use_density"
   ]
  },
  {
   "cell_type": "markdown",
   "metadata": {
    "pycharm": {
     "name": "#%% md\n"
    }
   },
   "source": [
    "- 灌溉有关的用水密度：总农业用水密度（单位有效灌溉面积的耗水量），以及水稻、小麦、玉米、蔬菜水果、其它，这五类各自的单位有效灌溉面积耗水量。\n",
    "- 工业有关的用水密度：总工业用水密度，（每元产出耗水），以及分行业，纺织、造纸、化工、冶金、采矿、粮食、水泥、机械、电子、发电、其它\n",
    "- 城市居民用水密度：平均每人每天的用水量\n",
    "- 服务业用水密度：每元产出耗水\n",
    "- 农村居民\n",
    "- 牲畜"
   ]
  },
  {
   "cell_type": "markdown",
   "metadata": {},
   "source": [
    "## 各行业WUI比较"
   ]
  },
  {
   "cell_type": "code",
   "execution_count": null,
   "metadata": {
    "pycharm": {
     "name": "#%%\n"
    }
   },
   "outputs": [],
   "source": [
    "# 各个区域的不同类别 WUI 的平均值比较\n",
    "WUI_mean = city_yr.groupby([\"Region\", \"Year\"]).mean()[water_use_density]\n",
    "\n",
    "fig, ((ax1, ax2, ax3), (ax4, ax5, ax6)) = plt.subplots(2, 3, figsize=(10, 6))\n",
    "axs = [ax1, ax2, ax3, ax4, ax5, ax6]\n",
    "\n",
    "# 对比各行业总列，先不细分到二级\n",
    "wui_cols = [\n",
    "    \"Irrigation water-use intensity (WUI): Total\",\n",
    "    \"Industrial WUI: Total\",\n",
    "    \"Urban domestic WUI\",\n",
    "    \"Service WUI\",\n",
    "    \"Rural domestic WUI\",\n",
    "    \"Livestock WUI\",\n",
    "]\n",
    "\n",
    "# 绘图\n",
    "for i in range(6):\n",
    "    ax, wui_col = axs[i], wui_cols[i]\n",
    "    compare_regions_lineplot(WUI_mean, wui_col, ax)\n",
    "\n",
    "    # 增加辅助线\n",
    "    ax.axvline(x=1977, ls=\":\", c=\"black\", lw=2, label=\"Breakpoint_1: 1978\")\n",
    "    ax.axvline(x=1993, ls=\":\", c=\"black\", lw=2, label=\"Breakpoint_2: 1993\")\n",
    "\n",
    "plt.show();"
   ]
  },
  {
   "cell_type": "code",
   "execution_count": null,
   "metadata": {},
   "outputs": [],
   "source": [
    "# 对比农业和工业WUI\n",
    "WUI_mean = city_yr.groupby([\"Region\", \"Year\"]).mean()[water_use_density[:2]]\n",
    "\n",
    "fig, (ax1, ax2) = plt.subplots(1, 2, figsize=(6, 2), constrained_layout=True)\n",
    "axs = [ax1, ax2]\n",
    "for i in range(2):\n",
    "    gva_col = WUI_mean.columns[i]\n",
    "    ax = axs[i]\n",
    "    compare_regions_lineplot(WUI_mean, gva_col, ax)\n",
    "    ax.axvline(x=1977.5, ls=\":\", c=\"black\", lw=2, label=\"Breakpoint_1: 1977\")\n",
    "    ax.axvline(x=1992.5, ls=\":\", c=\"black\", lw=2, label=\"Breakpoint_2: 1993\")\n",
    "\n",
    "ax1.set_ylabel(\"Agricultural WUI\")\n",
    "ax2.set_ylabel(\"Industrial WUI\")\n",
    "\n",
    "# plt.savefig(\"../figures/sup/sf_wui.jpg\", dpi=300)\n",
    "plt.show();"
   ]
  },
  {
   "cell_type": "code",
   "execution_count": null,
   "metadata": {},
   "outputs": [],
   "source": [
    "WUI_mean = city_yr.groupby([\"Year\"]).mean()[water_use_density]\n",
    "\n",
    "fig, ((ax1, ax2, ax3), (ax4, ax5, ax6)) = plt.subplots(2, 3, figsize=(10, 6))\n",
    "axs = [ax1, ax2, ax3, ax4, ax5, ax6]\n",
    "\n",
    "# 对比各行业总列，先不细分到二级\n",
    "wui_cols = [\n",
    "    \"Irrigation water-use intensity (WUI): Total\",\n",
    "    \"Industrial WUI: Total\",\n",
    "    \"Urban domestic WUI\",\n",
    "    \"Service WUI\",\n",
    "    \"Rural domestic WUI\",\n",
    "    \"Livestock WUI\",\n",
    "]\n",
    "\n",
    "# 绘图\n",
    "for i, ax in enumerate(axs):\n",
    "    wui_col = wui_cols[i]\n",
    "    ax.plot(WUI_mean[wui_col], \"-.\")\n",
    "\n",
    "    # 增加辅助线\n",
    "    ax.axvline(x=1977, ls=\":\", c=\"black\", lw=2, label=\"Breakpoint_1: 1978\")\n",
    "    ax.axvline(x=1993, ls=\":\", c=\"black\", lw=2, label=\"Breakpoint_2: 1993\")\n",
    "\n",
    "plt.show();"
   ]
  },
  {
   "cell_type": "code",
   "execution_count": null,
   "metadata": {},
   "outputs": [],
   "source": [
    "WUI_mean = city_yr.groupby([\"Year\"]).mean()[water_use_density[:2]]\n",
    "\n",
    "fig, axs = plt.subplots(1, 2, figsize=(6, 2), constrained_layout=True)\n",
    "\n",
    "for i, ax in enumerate(axs):\n",
    "    ax.plot(WUI_mean.iloc[:, i], \"-.\")\n",
    "    ax.set_xlabel(\"Year\")\n",
    "    ax.axvline(x=1977, ls=\":\", lw=1.5, c=\"black\")\n",
    "    ax.axvline(x=1993, ls=\":\", lw=1.5, c=\"black\")\n",
    "\n",
    "axs[0].set_ylabel(\"Irrigated WUI\")\n",
    "axs[1].set_ylabel(\"Industrial WUI\")\n",
    "# plt.savefig(\"../figures/sup/rur_and_ind_YRB_WUI.jpg\", dpi=300)\n",
    "plt.show();"
   ]
  },
  {
   "cell_type": "markdown",
   "metadata": {
    "pycharm": {
     "name": "#%% md\n"
    }
   },
   "source": [
    "## 结果分析\n",
    "\n",
    "- Service的变化虽然猛烈，但量太少了，不怎么影响。\n",
    "- 工业的变化也有，但这个时期工业产值的体量太小了\n",
    "- 其余基本上没什么变化"
   ]
  },
  {
   "cell_type": "markdown",
   "metadata": {},
   "source": [
    "## 经济社会体量"
   ]
  },
  {
   "cell_type": "markdown",
   "metadata": {},
   "source": [
    "### 人口总数对比"
   ]
  },
  {
   "cell_type": "code",
   "execution_count": null,
   "metadata": {
    "pycharm": {
     "name": "#%%\n"
    }
   },
   "outputs": [],
   "source": [
    "# 提取所有人口有关的列名\n",
    "pop_cols = []\n",
    "for col in city_yr.columns:\n",
    "    if \"population\" in col:\n",
    "        pop_cols.append(col)\n",
    "\n",
    "# 各区域的总人口\n",
    "population_sum = city_yr.groupby([\"Region\", \"Year\"]).sum()[pop_cols]\n",
    "population_sum.head()"
   ]
  },
  {
   "cell_type": "code",
   "execution_count": null,
   "metadata": {},
   "outputs": [],
   "source": [
    "# 对比不同区域的人口数量变化\n",
    "\n",
    "fig, (ax1, ax2, ax3) = plt.subplots(1, 3, figsize=(10, 3))\n",
    "axs = [ax1, ax2, ax3]\n",
    "for i in range(3):\n",
    "    ax = axs[i]\n",
    "    pop_col = pop_cols[i]\n",
    "    compare_regions_lineplot(population_sum, pop_col, ax)\n",
    "    ax.axvline(x=1977.5, ls=\":\", c=\"red\", lw=2, label=\"Breakpoint_1: 1978\")\n",
    "    ax.axvline(x=1992.5, ls=\":\", c=\"red\", lw=2, label=\"Breakpoint_2: 1993\")\n",
    "plt.show();"
   ]
  },
  {
   "cell_type": "markdown",
   "metadata": {},
   "source": [
    "### 经济体量对比"
   ]
  },
  {
   "cell_type": "code",
   "execution_count": null,
   "metadata": {
    "pycharm": {
     "name": "#%%\n"
    }
   },
   "outputs": [],
   "source": [
    "# 提取所有经济总量有关的列名\n",
    "\n",
    "gva_cols = []\n",
    "for col in city_yr.columns:\n",
    "    if \"GVA\" in col and \"Total\" in col:\n",
    "        gva_cols.append(col)\n",
    "    if \"area\" in col and \"Total\" in col:\n",
    "        gva_cols.append(col)\n",
    "\n",
    "gva_cols  # 只有两个与经济总量相关的，分别是农业和工业\n",
    "\n",
    "# 各区域的经济指标总量\n",
    "gva_sum = city_yr.groupby([\"Region\", \"Year\"]).sum()[gva_cols]\n",
    "gva_sum.head(3)"
   ]
  },
  {
   "cell_type": "code",
   "execution_count": null,
   "metadata": {
    "pycharm": {
     "name": "#%%\n"
    }
   },
   "outputs": [],
   "source": [
    "# 作图比较经济体量\n",
    "\n",
    "fig, (ax1, ax2) = plt.subplots(1, 2, figsize=(6, 2), constrained_layout=True)\n",
    "axs = [ax1, ax2]\n",
    "for i in range(2):\n",
    "    gva_col = gva_cols[i]\n",
    "    ax = axs[i]\n",
    "    compare_regions_lineplot(gva_sum, gva_col, ax)\n",
    "    ax.axvline(x=1977.5, ls=\":\", c=\"black\", lw=2)\n",
    "    ax.axvline(x=1992.5, ls=\":\", c=\"black\", lw=2)\n",
    "ax2.set_ylabel(\"Total industrial GVA\")\n",
    "ax1.set_ylabel(\"Total irrigated area\")\n",
    "ax2.legend()\n",
    "# plt.savefig(\"../figures/sup/sf_total_values.jpg\", dpi=300)\n",
    "plt.show();"
   ]
  },
  {
   "cell_type": "code",
   "execution_count": null,
   "metadata": {},
   "outputs": [],
   "source": [
    "# 整个流域的经济总量\n",
    "gva_sum = city_yr.groupby([\"Year\"]).sum()[gva_cols]\n",
    "fig, axs = plt.subplots(1, 2, figsize=(6, 2), constrained_layout=True)\n",
    "\n",
    "for i, ax in enumerate(axs):\n",
    "    plot_pittitt_change_points(\n",
    "        gva_sum.iloc[:, i],\n",
    "        change_points=[1977, 1993],\n",
    "        ax=ax,\n",
    "        colors=period_colors,\n",
    "    )\n",
    "    ax.set_xlabel(\"Year\")\n",
    "\n",
    "axs[0].set_ylabel(\"Irrigated area\")\n",
    "axs[1].set_ylabel(\"Industrial GVA\")\n",
    "# plt.savefig(\"../figures/sup/sf_values_YRB.jpg\", dpi=300)\n",
    "plt.show();"
   ]
  },
  {
   "cell_type": "markdown",
   "metadata": {},
   "source": [
    "## 地表水总用量"
   ]
  },
  {
   "cell_type": "code",
   "execution_count": null,
   "metadata": {
    "pycharm": {
     "name": "#%%\n"
    }
   },
   "outputs": [],
   "source": [
    "# 提取总用水量有关的列名\n",
    "wu_cols = [\"IRR\", \"IND\", \"RUR\", \"URB\"]\n",
    "\n",
    "# 地表水总用量\n",
    "water_use_sum = city_yr.groupby([\"Region\", \"Year\"]).sum()[wu_cols]\n",
    "water_use_sum.head(3)"
   ]
  },
  {
   "cell_type": "code",
   "execution_count": null,
   "metadata": {
    "pycharm": {
     "name": "#%%\n"
    },
    "tags": []
   },
   "outputs": [],
   "source": [
    "# 对比各领域的地表水总耗水量\n",
    "\n",
    "fig, ((ax1, ax2), (ax3, ax4)) = plt.subplots(2, 2, figsize=(6, 5))\n",
    "axs = [ax1, ax2, ax3, ax4]\n",
    "\n",
    "print(\"各行业的耗水量：\")\n",
    "for i in range(4):\n",
    "    wu_col = wu_cols[i]\n",
    "    ax = axs[i]\n",
    "    compare_regions_lineplot(water_use_sum, wu_col, ax)\n",
    "    ax.axvline(x=1977.5, ls=\":\", c=\"red\", lw=2, label=\"Breakpoint_1: 1978\")\n",
    "    ax.axvline(x=1992.5, ls=\":\", c=\"red\", lw=2, label=\"Breakpoint_2: 1993\")\n",
    "plt.show();"
   ]
  },
  {
   "cell_type": "markdown",
   "metadata": {},
   "source": [
    "# 间接用水部分的变化\n"
   ]
  },
  {
   "cell_type": "markdown",
   "metadata": {},
   "source": [
    "## 类型的划分"
   ]
  },
  {
   "cell_type": "markdown",
   "metadata": {},
   "source": [
    "直接由水提供的生态系统惠益：\n",
    "- 城市、农村居民用水\n",
    "- 农业灌溉用水\n",
    "- 牲畜用水"
   ]
  },
  {
   "cell_type": "code",
   "execution_count": null,
   "metadata": {},
   "outputs": [],
   "source": [
    "direct = [\n",
    "    \"IRR\",\n",
    "    \"Urban domestic WU\",\n",
    "    \"Rural domestic WU\",\n",
    "    \"Rural livestock WU\",\n",
    "]"
   ]
  },
  {
   "cell_type": "markdown",
   "metadata": {},
   "source": [
    "\n",
    "\n",
    "\n",
    "间接由水资源提供的生态系统惠益：\n",
    "- 工业用水\n",
    "- 服务业用水"
   ]
  },
  {
   "cell_type": "code",
   "execution_count": null,
   "metadata": {},
   "outputs": [],
   "source": [
    "undirect = [\"IND\", \"Urban service WU\"]"
   ]
  },
  {
   "cell_type": "markdown",
   "metadata": {},
   "source": [
    "## 非直接用水的比例"
   ]
  },
  {
   "cell_type": "code",
   "execution_count": null,
   "metadata": {},
   "outputs": [],
   "source": [
    "# 计算间接比例的变化\n",
    "def direct_undirect_water_use(row):\n",
    "    \"\"\"直接、非直接的用水总量\"\"\"\n",
    "    direct_sum = sum([row[col] for col in direct])\n",
    "    undirect_sum = sum([row[col] for col in undirect])\n",
    "    return direct_sum, undirect_sum\n",
    "\n",
    "\n",
    "# 每行数据是每年，计算每年的非直接用水占比\n",
    "def undirect_proportion(row):\n",
    "    \"\"\"每年的非直接用水比例\"\"\"\n",
    "    direct, undirect = direct_undirect_water_use(row)\n",
    "    return undirect / (direct + undirect)"
   ]
  },
  {
   "cell_type": "markdown",
   "metadata": {},
   "source": [
    "## 全流域间接用水占比"
   ]
  },
  {
   "cell_type": "code",
   "execution_count": null,
   "metadata": {},
   "outputs": [],
   "source": [
    "# 整个流域的间接用水占比\n",
    "undirect_water_proportion_yr = (\n",
    "    city_yr.groupby(\"Year\").sum().apply(undirect_proportion, axis=1)\n",
    ")\n",
    "\n",
    "# 作图\n",
    "plt.scatter(\n",
    "    x=undirect_water_proportion_yr.index, y=undirect_water_proportion_yr.values\n",
    ")\n",
    "plt.title(\"Undirect water use proportion in the Yellow River Basin\")\n",
    "plt.axvline(x=1977.5, ls=\":\", c=\"red\", lw=2, label=\"Breakpoint_1: 1978\")\n",
    "plt.axvline(x=1992.5, ls=\":\", c=\"red\", lw=2, label=\"Breakpoint_2: 1993\")\n",
    "plt.ylabel(\"Proportion\")\n",
    "plt.xlabel(\"Year\")\n",
    "plt.show();"
   ]
  },
  {
   "cell_type": "markdown",
   "metadata": {},
   "source": [
    "## 分区域间接用水占比"
   ]
  },
  {
   "cell_type": "code",
   "execution_count": null,
   "metadata": {},
   "outputs": [],
   "source": [
    "# 分区域间接用水占比\n",
    "undirect_proportion_regions = city_yr.groupby([\"Region\", \"Year\"]).sum()\n",
    "\n",
    "# 绘图\n",
    "fig = plt.figure(figsize=(8, 6))\n",
    "for i in range(4):\n",
    "    ax = fig.add_subplot(2, 2, i + 1)\n",
    "    region = regions[i]\n",
    "    data = undirect_proportion_regions.loc[region].apply(\n",
    "        undirect_proportion, axis=1\n",
    "    )\n",
    "    plot_pittitt_change_points(data, ax)\n",
    "    ax.set_ylabel(\"Proportion\")\n",
    "    ax.set_xlabel(region)\n",
    "\n",
    "plt.show();"
   ]
  },
  {
   "cell_type": "markdown",
   "metadata": {},
   "source": [
    "1978年以前，下游的非直接比例下降（农业比例上升更快）；1993年后，中游的非直接比例下降（转移）"
   ]
  },
  {
   "cell_type": "markdown",
   "metadata": {},
   "source": [
    "# 城市与农村用水"
   ]
  },
  {
   "cell_type": "markdown",
   "metadata": {},
   "source": [
    "## 用水量之比"
   ]
  },
  {
   "cell_type": "code",
   "execution_count": null,
   "metadata": {},
   "outputs": [],
   "source": [
    "# 用水总量之比\n",
    "\n",
    "\n",
    "def urban_rural_ratio(row):\n",
    "    return row[\"Urban domestic WU\"] / row[\"Rural domestic WU\"]\n",
    "\n",
    "\n",
    "urban_rural_wu = (\n",
    "    city_yr.groupby([\"Region\", \"Year\"]).sum().apply(urban_rural_ratio, axis=1)\n",
    ")\n",
    "\n",
    "fig, ax = plt.subplots()\n",
    "compare_regions_lineplot(data=urban_rural_wu, ax=ax)  # 绘图\n",
    "\n",
    "# 修饰\n",
    "ax.axvline(x=1977.5, ls=\":\", c=\"red\", lw=2, label=\"Breakpoint_1: 1978\")\n",
    "ax.axvline(x=1992.5, ls=\":\", c=\"red\", lw=2, label=\"Breakpoint_2: 1993\")\n",
    "plt.show();"
   ]
  },
  {
   "cell_type": "markdown",
   "metadata": {},
   "source": [
    "## 人均用水量之比"
   ]
  },
  {
   "cell_type": "code",
   "execution_count": null,
   "metadata": {},
   "outputs": [],
   "source": [
    "# 人均用水量之比\n",
    "def urban_rural_wui_ratio(row):\n",
    "    return row[\"Urban domestic WUI\"] / row[\"Rural domestic WUI\"]\n",
    "\n",
    "\n",
    "urban_rural_wui = (\n",
    "    city_yr.groupby([\"Region\", \"Year\"])\n",
    "    .sum()\n",
    "    .apply(urban_rural_wui_ratio, axis=1)\n",
    ")\n",
    "\n",
    "fig, ax = plt.subplots()\n",
    "compare_regions_lineplot(data=urban_rural_wui, ax=ax)  # 绘图\n",
    "\n",
    "# 修饰\n",
    "ax.axvline(x=1977.5, ls=\":\", c=\"red\", lw=2, label=\"Breakpoint_1: 1978\")\n",
    "ax.axvline(x=1992.5, ls=\":\", c=\"red\", lw=2, label=\"Breakpoint_2: 1993\")\n",
    "plt.show();"
   ]
  },
  {
   "cell_type": "markdown",
   "metadata": {},
   "source": [
    "# 探索数据总结：\n",
    "\n",
    "## 三个阶段的变化\n",
    "\n",
    "分三个阶段来探讨变化：\n",
    "\n",
    "**第一阶段：1978年以前**\n",
    "\n",
    "- 下游农业灌溉面积、农业耗水总量激增\n",
    "- 下游非直接灌溉用水占比下降（因为农业水增）\n",
    "\n",
    "**第二阶段：1978--1993**\n",
    "\n",
    "- 下游农业耗水总量趋于稳定\n",
    "- 上游农业耗水总量（WU）激增，灌溉面积不变，WUI激增\n",
    "\n",
    "**第三阶段：1993年以后**\n",
    "\n",
    "- 上游的农业灌溉单位面积用水量迅速下降（应该是科技原因）\n",
    "- 工业用水单位用量（WUI）与服务业WUI都趋于稳定。\n",
    "- 三个区域的城市居民人均用水WUI都快速上升\n",
    "- 上游农村人均用水量WUI飙升\n",
    "- 下游牲畜WUI飙升\n",
    "- 上中下游都到了农村人口下降的拐点\n",
    "- 工业总产值激增\n",
    "- 中游的非直接耗水比例快速下降\n",
    "\n"
   ]
  },
  {
   "cell_type": "markdown",
   "metadata": {},
   "source": [
    "## 通过哪几个维度分析系统回路"
   ]
  },
  {
   "cell_type": "markdown",
   "metadata": {},
   "source": [
    "- 首先，“非生态系统服务”的部分在社会-生态系统中的比例不断增长。\n",
    "- 其次，该过程伴随着专业分工深化和城市不断发展。\n",
    "- 最后，参与供求关系的地理范围扩大，资源在更大尺度上实现远程耦合。"
   ]
  }
 ],
 "metadata": {
  "kernelspec": {
   "display_name": "Python 3 (ipykernel)",
   "language": "python",
   "name": "python3"
  },
  "language_info": {
   "codemirror_mode": {
    "name": "ipython",
    "version": 3
   },
   "file_extension": ".py",
   "mimetype": "text/x-python",
   "name": "python",
   "nbconvert_exporter": "python",
   "pygments_lexer": "ipython3",
   "version": "3.11.2"
  },
  "pycharm": {
   "stem_cell": {
    "cell_type": "raw",
    "metadata": {
     "collapsed": false
    },
    "source": []
   }
  },
  "toc": {
   "base_numbering": 1,
   "nav_menu": {},
   "number_sections": true,
   "sideBar": true,
   "skip_h1_title": false,
   "title_cell": "Table of Contents",
   "title_sidebar": "Contents",
   "toc_cell": false,
   "toc_position": {
    "height": "calc(100% - 180px)",
    "left": "10px",
    "top": "150px",
    "width": "323.075px"
   },
   "toc_section_display": true,
   "toc_window_display": true
  }
 },
 "nbformat": 4,
 "nbformat_minor": 4
}
