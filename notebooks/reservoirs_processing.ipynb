{
 "cells": [
  {
   "cell_type": "markdown",
   "metadata": {},
   "source": [
    "# 清洗水库数据"
   ]
  },
  {
   "cell_type": "code",
   "execution_count": null,
   "metadata": {},
   "outputs": [],
   "source": [
    "import pandas as pd\n",
    "import numpy as np\n",
    "from matplotlib import pyplot as plt\n",
    "\n",
    "%matplotlib inline"
   ]
  },
  {
   "cell_type": "code",
   "execution_count": null,
   "metadata": {},
   "outputs": [],
   "source": [
    "reservoir = pd.read_csv(r\"../data/hydrology/reservoir.csv\", index_col=0)\n",
    "reservoir.head()"
   ]
  },
  {
   "cell_type": "code",
   "execution_count": null,
   "metadata": {},
   "outputs": [],
   "source": [
    "import requests\n",
    "import json\n",
    "\n",
    "\n",
    "def convert_name_to_gps(address):\n",
    "    secret_key = \"tSdDxv3r1hRtOZ2LGQG5pSyavKSx4Ia3\"  # 我的百度API token\n",
    "    api = (\n",
    "        \"http://api.map.baidu.com/geocoding/v3/?address={0}&output=json&ak={1}\"\n",
    "    )\n",
    "    baidu_map_api = api.format(address, secret_key)\n",
    "    content = json.loads(requests.get(baidu_map_api).text)\n",
    "    if content[\"status\"] is 0:\n",
    "        gps = content[\"result\"][\"location\"]\n",
    "        lng, lat = gps[\"lng\"], gps[\"lat\"]\n",
    "        if content[\"result\"][\"precise\"] is 0:\n",
    "            if content[\"result\"][\"confidence\"] < 30:\n",
    "                print(\n",
    "                    \"{} is not precise, error > 5km, please check\".format(\n",
    "                        address\n",
    "                    )\n",
    "                )\n",
    "    else:\n",
    "        print(\"{} is not match, please check\".format(address))\n",
    "        return 0.0, 0.0\n",
    "    return lng, lat\n",
    "\n",
    "\n",
    "def convert_name_to_province(name):\n",
    "    lng, lat = convert_name_to_gps(name)\n",
    "    secret_key = \"tSdDxv3r1hRtOZ2LGQG5pSyavKSx4Ia3\"  # 百度密钥\n",
    "    # 注意coordtype为wgs84ll(GPS经纬度),否则定位会出现偏差\n",
    "    api = \"http://api.map.baidu.com/reverse_geocoding/v3/?ak={2}&output=json&coordtype=wgs84ll&location={0},{1}\"\n",
    "    baidu_map_api = api.format(lat, lng, secret_key)\n",
    "    content = requests.get(baidu_map_api).text\n",
    "    gps_address = json.loads(content)\n",
    "    # 结构化的地址\n",
    "    formatted_address = gps_address[\"result\"][\"formatted_address\"]\n",
    "    # 国家（若需访问境外POI，需申请逆地理编码境外POI服务权限）\n",
    "    country = gps_address[\"result\"][\"addressComponent\"][\"country\"]\n",
    "    # 省\n",
    "    province = gps_address[\"result\"][\"addressComponent\"][\"province\"]\n",
    "    # 城市\n",
    "    city = gps_address[\"result\"][\"addressComponent\"][\"city\"]\n",
    "    return province\n",
    "\n",
    "\n",
    "convert_name_to_province(\"红领巾水库\")"
   ]
  },
  {
   "cell_type": "code",
   "execution_count": null,
   "metadata": {
    "tags": []
   },
   "outputs": [],
   "source": [
    "reservoir_names = []\n",
    "for col in [\"名称\", \"名称.1\", \"名称.2\", \"名称.3\"]:\n",
    "    reservoir_names.extend(reservoir[col].dropna().unique())\n",
    "\n",
    "name_province = {}\n",
    "for name in reservoir_names:\n",
    "    name_province[name] = convert_name_to_province(name)\n",
    "\n",
    "name_province"
   ]
  },
  {
   "cell_type": "code",
   "execution_count": null,
   "metadata": {
    "tags": []
   },
   "outputs": [],
   "source": [
    "correct = {\n",
    "    \"盐锅峡\": \"甘肃省\",\n",
    "    \"巴家嘴水库\": \"甘肃省\",\n",
    "    \"陆浑水库\": \"河南省\",\n",
    "    \"雪野水库\": \"山东省\",\n",
    "    \"羊毛湾水库\": \"山西省\",\n",
    "    \"天桥水电站\": \"山西省\",\n",
    "    \"冯家山水库\": \"陕西省\",\n",
    "    \"八盘峡水电站\": \"甘肃省\",\n",
    "    \"东大滩水库\": \"青海省\",\n",
    "    \"王瑶水库\": \"陕西省\",\n",
    "    \"李家峡水电站\": \"青海省\",\n",
    "    \"克孜尔水库\": \"UnKnown\",\n",
    "    \"万家寨水利枢纽工程\": \"山西省\",\n",
    "    \"济南鹊山引黄调蓄水库\": \"山东省\",\n",
    "    \"黄河源水电站\": \"青海省\",\n",
    "    \"尼那水电站\": \"青海省\",\n",
    "    \"苏只水电站\": \"青海省\",\n",
    "    \"乌金峡水电站\": \"甘肃省\",\n",
    "    \"黄河龙口水利枢纽\": \"山西省\",\n",
    "    \"沁河河口村水库\": \"山西省\",\n",
    "    \"大峡水电站\": \"甘肃省\",\n",
    "    \"黄丰水电站\": \"青海省\",\n",
    "    \"卧虎山水库\": \"山东省\",\n",
    "    \"三盛公枢纽\": \"内蒙古\",\n",
    "    \"文峪河水库\": \"山西省\",\n",
    "    \"黑泉水利枢纽工程\": \"青海省\",\n",
    "    \"直岗拉卡水电站\": \"青海省\",\n",
    "    \"康扬水电站\": \"青海省\",\n",
    "    \"寺沟峡水电站\": \"甘肃省\",\n",
    "    \"拉西瓦水电站\": \"青海省\",\n",
    "    \"班多水电站\": \"青海省\",\n",
    "    \"小峡水电站\": \"甘肃省\",\n",
    "}\n",
    "\n",
    "# 修改不正确的判断\n",
    "for k, v in correct.items():\n",
    "    if k in name_province:\n",
    "        name_province[k] = v\n",
    "\n",
    "print(\"There are total {} reservoires.\".format(len(reservoir_names)))\n",
    "print(\n",
    "    \"There are {} ({:.2%}) reservoires' name need correction.\".format(\n",
    "        len(correct), len(correct) / len(reservoir_names)\n",
    "    )\n",
    ")"
   ]
  },
  {
   "cell_type": "code",
   "execution_count": null,
   "metadata": {},
   "outputs": [],
   "source": [
    "year_list = []\n",
    "data_list = []\n",
    "for row in (\n",
    "    reservoir[[\"亿立方米\", \"亿立方米.1\", \"亿立方米.2\", \"亿立方米.3\"]]\n",
    "    .fillna(0.0)\n",
    "    .set_index(reservoir[\"年\"])\n",
    "    .itertuples(index=True)\n",
    "):\n",
    "    yr = row[0]\n",
    "    for i in row[1:]:\n",
    "        if i > 0:\n",
    "            year_list.append(yr)\n",
    "            data_list.append(i)\n",
    "\n",
    "fig, ax = plt.subplots(figsize=(4, 3))\n",
    "plt.hist(year_list, 20)"
   ]
  },
  {
   "cell_type": "code",
   "execution_count": null,
   "metadata": {},
   "outputs": [],
   "source": [
    "plt.scatter(x=year_list, y=np.log10(np.array(data_list)))"
   ]
  },
  {
   "cell_type": "code",
   "execution_count": null,
   "metadata": {},
   "outputs": [],
   "source": [
    "PROVINCE_LIST = [\n",
    "    \"青海省\",\n",
    "    \"甘肃省\",\n",
    "    \"宁夏回族自治区\",\n",
    "    \"内蒙古自治区\",\n",
    "    \"陕西省\",\n",
    "    \"山西省\",\n",
    "    \"河南省\",\n",
    "    \"河北省\",\n",
    "    \"山东省\",\n",
    "]\n",
    "\n",
    "PROVINCE_TO_SUBREGION = {\n",
    "    \"SR\": [PROVINCE_LIST[0]] + [\"青海\", \"Qinghai\"],\n",
    "    \"UR\": PROVINCE_LIST[1:4]\n",
    "    + [\"甘肃\", \"宁夏\", \"内蒙\", \"Gansu\", \"Ningxia\", \"Neimeng\"],\n",
    "    \"MR\": PROVINCE_LIST[4:6] + [\"陕西\", \"山西\", \"Shanxi\", \"Shaanxi\"],\n",
    "    \"DR\": PROVINCE_LIST[6:] + [\"河南\", \"河北\", \"天津\", \"山东\", \"Henan\", \"Shandong\"],\n",
    "}\n",
    "\n",
    "\n",
    "def judge_province(row, how=\"capacity\"):\n",
    "    result = {region: 0 for region in [\"SR\", \"UR\", \"MR\", \"DR\"]}\n",
    "    result2 = {region: 0 for region in [\"SR\", \"UR\", \"MR\", \"DR\"]}\n",
    "    names = [row[col] for col in [\"名称\", \"名称.1\", \"名称.2\", \"名称.3\"]]\n",
    "    rcs = [row[col] for col in [\"亿立方米\", \"亿立方米.1\", \"亿立方米.2\", \"亿立方米.3\"]]\n",
    "    for name, rc in zip(names, rcs):\n",
    "        if name is np.nan or rc is np.nan:\n",
    "            continue\n",
    "        else:\n",
    "            province = name_province.get(name)\n",
    "            for k, v in PROVINCE_TO_SUBREGION.items():\n",
    "                if province in v:\n",
    "                    result[k] += rc\n",
    "                    result2[k] += 1\n",
    "    if how == \"capacity\":\n",
    "        return result\n",
    "    elif how == \"amount\":\n",
    "        return result2\n",
    "\n",
    "\n",
    "new_reservoirs = pd.DataFrame(\n",
    "    reservoir.apply(judge_province, axis=1).values.tolist(),\n",
    "    index=reservoir[\"年\"].tolist(),\n",
    ")\n",
    "new_reservoirs.head()"
   ]
  },
  {
   "cell_type": "code",
   "execution_count": null,
   "metadata": {},
   "outputs": [],
   "source": [
    "num_reservoirs = pd.DataFrame(\n",
    "    reservoir.apply(judge_province, axis=1, how=\"amount\").values.tolist(),\n",
    "    index=reservoir[\"年\"].tolist(),\n",
    ")\n",
    "num_reservoirs.head()"
   ]
  },
  {
   "cell_type": "code",
   "execution_count": null,
   "metadata": {},
   "outputs": [],
   "source": [
    "new_reservoirs.sum(axis=1).plot()\n",
    "plt.show();"
   ]
  },
  {
   "cell_type": "code",
   "execution_count": null,
   "metadata": {},
   "outputs": [],
   "source": [
    "new_reservoirs"
   ]
  },
  {
   "cell_type": "code",
   "execution_count": null,
   "metadata": {},
   "outputs": [],
   "source": [
    "reservoirs_capacity_cumulating = new_reservoirs.cumsum()\n",
    "reservoirs_capacity_cumulating.plot()\n",
    "plt.title(\"Accumulating reservoirs' capacity of each region\")\n",
    "plt.ylabel(\"Reservoir capacities (10^8 m3)\")\n",
    "plt.show();"
   ]
  },
  {
   "cell_type": "markdown",
   "metadata": {},
   "source": [
    "# 最终作图"
   ]
  },
  {
   "cell_type": "code",
   "execution_count": null,
   "metadata": {},
   "outputs": [],
   "source": [
    "# 全局变量\n",
    "import matplotlib.colors as col\n",
    "\n",
    "period_colors = [\"#0889A6\", \"#F1801F\", \"#006C43\"]\n",
    "\n",
    "region_colors = [\"#0077b6\", \"#e07a5f\", \"#f2cc8f\", \"#81b29a\"]\n",
    "index_colors = [\"#7D9DB5\", \"#B8B08D\", \"#F2D492\"]\n",
    "regional_colormap = col.ListedColormap(region_colors, \"indexed\")\n",
    "\n",
    "bins = 7"
   ]
  },
  {
   "cell_type": "code",
   "execution_count": null,
   "metadata": {},
   "outputs": [],
   "source": [
    "num = np.array(year_list)\n",
    "# p0 = num[num<1965]\n",
    "# p1 = num[(num<1978)&(num>=1965)]\n",
    "p1 = num[num < 1978]\n",
    "p2 = num[(num < 2002) & (num >= 1978)]\n",
    "p3 = num[(num >= 2002) & (num <= 2013)]"
   ]
  },
  {
   "cell_type": "code",
   "execution_count": null,
   "metadata": {},
   "outputs": [],
   "source": [
    "len(p1)\n",
    "len(p2)\n",
    "len(p3)"
   ]
  },
  {
   "cell_type": "code",
   "execution_count": null,
   "metadata": {},
   "outputs": [],
   "source": [
    "# %config InlineBackend.figure_format ='retina'\n",
    "import seaborn as sns\n",
    "from matplotlib.gridspec import GridSpec\n",
    "\n",
    "# 配置画布\n",
    "fig, ax1 = plt.subplots(figsize=(3, 2.6), constrained_layout=True)\n",
    "\n",
    "# 作图 1\n",
    "# ax1.hist(p0, bins=7, histtype=\"stepfilled\", alpha=0.6, color='lightgray', label='Others')\n",
    "ax1.hist(\n",
    "    p1,\n",
    "    bins=7,\n",
    "    histtype=\"stepfilled\",\n",
    "    alpha=0.6,\n",
    "    color=period_colors[0],\n",
    "    label=\"Before 1977\",\n",
    ")\n",
    "ax1.hist(\n",
    "    p2,\n",
    "    bins=7,\n",
    "    histtype=\"stepfilled\",\n",
    "    alpha=0.6,\n",
    "    color=period_colors[1],\n",
    "    label=\"P2: 1978-2001\",\n",
    ")\n",
    "ax1.hist(\n",
    "    p3,\n",
    "    bins=7,\n",
    "    histtype=\"stepfilled\",\n",
    "    alpha=0.6,\n",
    "    color=period_colors[2],\n",
    "    label=\"P3: 2002-2013\",\n",
    ")\n",
    "\n",
    "# 作图2\n",
    "ax2 = ax1.twinx()\n",
    "sns.kdeplot(year_list, shade=True, ax=ax2, alpha=0.05)\n",
    "\n",
    "# 作图3\n",
    "reservoirs_capacity_cumulating.plot(ax=ax3, colormap=regional_colormap, lw=2.5)\n",
    "\n",
    "\n",
    "# 修饰图1\n",
    "ax1.set_yticks(np.arange(0, 7.9, 2))\n",
    "ax1.set_xticks(np.arange(1955, 2016, 15))\n",
    "ax1.legend(loc=2)\n",
    "ax1.yaxis.grid(color=\"white\", linestyle=\"-.\", linewidth=0.5)\n",
    "ax1.set_ylabel(\"Number of new reservoirs\")\n",
    "# ax1.text(2014, 6.9, 'a.', ha='center', va='center', weight='bold', size='large')\n",
    "\n",
    "# 修饰图2\n",
    "ax2.set_xlim(1955, 2015)\n",
    "ax2.axes.get_yaxis().set_visible(False)\n",
    "\n",
    "for ax in [ax1]:\n",
    "    ax.axvline(1978, color=\"gray\", ls=\":\", lw=1.5)\n",
    "    ax.axvline(2001, color=\"gray\", ls=\":\", lw=1.5)\n",
    "    ax.set_xlabel(\"Year\")\n",
    "\n",
    "for ax in [ax1, ax2]:\n",
    "    ax.spines[\"top\"].set_visible(False)\n",
    "    ax.spines[\"bottom\"].set_visible(True)\n",
    "    ax.spines[\"left\"].set_visible(False)\n",
    "    ax.spines[\"right\"].set_visible(False)\n",
    "\n",
    "plt.savefig(\"../figures/sup/reservoirs.jpg\", dpi=300)\n",
    "plt.savefig(\"../figures/sup/reservoirs.pdf\", dpi=300)\n",
    "plt.show();"
   ]
  }
 ],
 "metadata": {
  "kernelspec": {
   "display_name": "Python 3 (ipykernel)",
   "language": "python",
   "name": "python3"
  },
  "language_info": {
   "codemirror_mode": {
    "name": "ipython",
    "version": 3
   },
   "file_extension": ".py",
   "mimetype": "text/x-python",
   "name": "python",
   "nbconvert_exporter": "python",
   "pygments_lexer": "ipython3",
   "version": "3.11.2"
  },
  "toc": {
   "base_numbering": 1,
   "nav_menu": {},
   "number_sections": true,
   "sideBar": true,
   "skip_h1_title": false,
   "title_cell": "Table of Contents",
   "title_sidebar": "Contents",
   "toc_cell": false,
   "toc_position": {},
   "toc_section_display": true,
   "toc_window_display": false
  }
 },
 "nbformat": 4,
 "nbformat_minor": 4
}
