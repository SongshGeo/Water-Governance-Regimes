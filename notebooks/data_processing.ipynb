{
 "cells": [
  {
   "cell_type": "markdown",
   "metadata": {},
   "source": [
    "# 加载Zhou数据并分区"
   ]
  },
  {
   "cell_type": "code",
   "execution_count": null,
   "metadata": {},
   "outputs": [],
   "source": [
    "import numpy as np\n",
    "import pandas as pd\n",
    "import os\n",
    "import sys\n",
    "\n",
    "sys.path.append(\"..\")\n",
    "from tools.processing import dbf_data_list, pd_read_dbf\n",
    "\n",
    "from matplotlib import pyplot as plt\n",
    "\n",
    "%matplotlib inline"
   ]
  },
  {
   "cell_type": "markdown",
   "metadata": {},
   "source": [
    "## PNAS数据"
   ]
  },
  {
   "cell_type": "code",
   "execution_count": null,
   "metadata": {},
   "outputs": [],
   "source": [
    "pns = pd.read_excel(\n",
    "    io=r\"../data/Zhou et al_2020_PNAS_dataset.xlsx\", sheet_name=\"D1\"\n",
    ")\n",
    "\n",
    "# 清洗数据的头部，让两行头部变一行\n",
    "change_name_dic = {}\n",
    "last_item = \"None\"\n",
    "for col in pns:\n",
    "    second_row = pns.loc[0, col]\n",
    "    if \"Unnamed\" in col:\n",
    "        change_name_dic[col] = last_item + \": \" + second_row\n",
    "    else:\n",
    "        if type(second_row) is str:\n",
    "            change_name_dic[col] = col + \": \" + second_row\n",
    "        last_item = col\n",
    "\n",
    "pns.rename(change_name_dic, axis=1, inplace=True)\n",
    "pns = pns.drop(0)\n",
    "\n",
    "# 重命名表头，取消两边的空格\n",
    "pns.rename({col: col.strip() for col in pns}, axis=1, inplace=True)\n",
    "\n",
    "# 更改正确的数据类型\n",
    "pns = pns.astype(float, errors=\"ignore\")\n",
    "pns[\"Year\"] = pns[\"Year\"].astype(int)\n",
    "pns.iloc[:, 2:] = pns.iloc[:, 2:].astype(float)\n",
    "\n",
    "pns.head()"
   ]
  },
  {
   "cell_type": "markdown",
   "metadata": {},
   "source": [
    "## 判断黄河流域黄河的分区\n",
    "\n",
    "- 分别加载源区、上游、中游、下游\n",
    "- 对每一个与黄河流域相交的市，判断其与四个区域中的哪个相交\n",
    "- 如果相交，则提取相交部分的面积\n",
    "- 对单一相交的，进行区域标记，记录面积为其相交面积\n",
    "- 对重复相交的，判断哪个相交部分面积更大，进行区域标记，以该面积为相交面积\n",
    "- 对标记好的区域，按照相交部分面积，计算修正比例系数"
   ]
  },
  {
   "cell_type": "code",
   "execution_count": null,
   "metadata": {},
   "outputs": [],
   "source": [
    "# 分别加载每个区域的相交市县\n",
    "regions = [\"SR\", \"UR\", \"MR\", \"DR\"]\n",
    "\n",
    "# 对每个市县计算其与各个流域相交部分的面积\n",
    "intersect_area = {region: {} for region in regions}\n",
    "for region in regions:\n",
    "    file_path = r\"../data/perfectures/yr_regions/{}_Intersect.dbf\".format(\n",
    "        region\n",
    "    )\n",
    "    df = pd_read_dbf(file_path)\n",
    "    area_index = df.columns.tolist().index(\"Area_calcu\")  # 面积的索引\n",
    "    city_index = df.columns.tolist().index(\"Perfecture\")  # 市ID的索引\n",
    "    for row in df.itertuples(index=False):\n",
    "        city = row[city_index]\n",
    "        area = row[area_index]\n",
    "        intersect_area[region][city] = area\n",
    "\n",
    "perfectures = pd.DataFrame(intersect_area).fillna(0.0)\n",
    "perfectures.head()"
   ]
  },
  {
   "cell_type": "code",
   "execution_count": null,
   "metadata": {},
   "outputs": [],
   "source": [
    "# 对每个市县，比较其在每个区域的面积，取其中最大的\n",
    "fn = r\"../data/perfectures/yr/perfectures_YR.dbf\"\n",
    "yr = pd_read_dbf(fn)\n",
    "yr = yr.set_index(yr[\"Perfecture\"], drop=True).drop(\"Perfecture\", axis=1)\n",
    "\n",
    "for row in perfectures.itertuples():\n",
    "    city_id = row[0]\n",
    "    area_tuple = row[1:]\n",
    "    max_area = max(area_tuple)\n",
    "    region = perfectures.columns[area_tuple.index(max_area)]\n",
    "    yr.loc[city_id, \"Region\"] = region\n",
    "    yr.loc[city_id, \"Intersect_area\"] = max_area\n",
    "\n",
    "yr[\"Ratio\"] = yr[\"Intersect_area\"] / yr[\"Area_calcu\"]  # 计算最大面积占比\n",
    "yr.head()"
   ]
  },
  {
   "cell_type": "code",
   "execution_count": null,
   "metadata": {},
   "outputs": [],
   "source": [
    "# 获得某个阈值的数据\n",
    "def get_data_with_threshold(threshold):\n",
    "    filtered_yr = yr[yr[\"Ratio\"] > threshold].copy()\n",
    "    filtered_yr.drop(\"Province_n\", axis=1, inplace=True)\n",
    "    filtered_yr.reset_index(inplace=True)\n",
    "    data = pns[pns.City_ID.isin(filtered_yr[\"Perfecture\"].values)]\n",
    "    return pd.merge(\n",
    "        left=data, right=yr, left_on=\"City_ID\", right_on=\"Perfecture\"\n",
    "    )\n",
    "\n",
    "\n",
    "shresh_05_data = get_data_with_threshold(0.05)\n",
    "shresh_05_data.head()"
   ]
  },
  {
   "cell_type": "code",
   "execution_count": null,
   "metadata": {},
   "outputs": [],
   "source": [
    "# shresh_05_data.to_csv(r\"../data/perfectures/yr/perfectures_in_YR_with_threshold_0.05.csv\")"
   ]
  }
 ],
 "metadata": {
  "kernelspec": {
   "display_name": "Python 3 (ipykernel)",
   "language": "python",
   "name": "python3"
  },
  "language_info": {
   "codemirror_mode": {
    "name": "ipython",
    "version": 3
   },
   "file_extension": ".py",
   "mimetype": "text/x-python",
   "name": "python",
   "nbconvert_exporter": "python",
   "pygments_lexer": "ipython3",
   "version": "3.11.2"
  }
 },
 "nbformat": 4,
 "nbformat_minor": 4
}
