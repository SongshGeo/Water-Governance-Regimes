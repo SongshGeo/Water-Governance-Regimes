{
 "cells": [
  {
   "cell_type": "markdown",
   "metadata": {},
   "source": [
    "# 全局设置"
   ]
  },
  {
   "cell_type": "code",
   "execution_count": null,
   "metadata": {
    "tags": []
   },
   "outputs": [],
   "source": [
    "%load_ext autoreload\n",
    "%autoreload 2\n",
    "%matplotlib inline\n",
    "%config InlineBackend.figure_format = 'retina'\n",
    "from IPython.core.interactiveshell import InteractiveShell\n",
    "\n",
    "InteractiveShell.ast_node_interactivity = \"all\"\n",
    "\n",
    "import pandas as pd\n",
    "import numpy as np"
   ]
  },
  {
   "cell_type": "code",
   "execution_count": null,
   "metadata": {
    "tags": []
   },
   "outputs": [],
   "source": [
    "from hydra import compose, initialize\n",
    "import os\n",
    "\n",
    "# 加载项目层面的配置\n",
    "with initialize(version_base=None, config_path=\"../config\"):\n",
    "    cfg = compose(config_name=\"config\")\n",
    "os.chdir(cfg.root)"
   ]
  },
  {
   "cell_type": "markdown",
   "metadata": {
    "tags": []
   },
   "source": [
    "## 加载数据"
   ]
  },
  {
   "cell_type": "code",
   "execution_count": null,
   "metadata": {
    "tags": []
   },
   "outputs": [],
   "source": [
    "from regimes_yrb.tools.statistic import (\n",
    "    ratio_contribution,\n",
    "    plot_pettitt_change_points,\n",
    "    plot_ratio_contribution,\n",
    "    pettitt_changes,\n",
    ")\n",
    "import matplotlib\n",
    "from matplotlib import pyplot as plt\n",
    "from matplotlib.gridspec import GridSpec\n",
    "\n",
    "\n",
    "plt.rcParams[\"xtick.direction\"] = \"in\"\n",
    "plt.rcParams[\"ytick.direction\"] = \"out\"\n",
    "\n",
    "COLORS = cfg.style.colors\n",
    "period_colors = COLORS.period\n",
    "region_colors = COLORS.region\n",
    "index_colors = COLORS.index\n",
    "\n",
    "index_colormap = matplotlib.colors.ListedColormap(index_colors, \"indexed\")\n",
    "total_water_use_color = COLORS.total_WU"
   ]
  },
  {
   "cell_type": "code",
   "execution_count": null,
   "metadata": {
    "tags": []
   },
   "outputs": [],
   "source": [
    "# 加载阈值为 0.05的数据，即与黄河流域相交面积大于全市总面积 5% 的所有市\n",
    "city_yr = pd.read_csv(cfg.db.perfectures)"
   ]
  },
  {
   "cell_type": "code",
   "execution_count": null,
   "metadata": {
    "tags": []
   },
   "outputs": [],
   "source": [
    "city_yr.head()"
   ]
  },
  {
   "cell_type": "markdown",
   "metadata": {},
   "source": [
    "## IWGI计算\n",
    "\n",
    "我们认为水资源利用制度，与水资源利用的三个维度紧密相关：\n",
    "- 用水压力（stress, S）\n",
    "- 用水优先性（configuration, P）\n",
    "- 用水配置（priority, C）\n",
    "\n",
    "根据经验，我们认为这三者与社会发展$(Dev.)$具有方向性关系:\n",
    "\n",
    "- 社会的发展通常伴随着用水向社会经济系统倾斜，用水方式优先向收益更高的非供给性方式倾斜：\n",
    "$$ Dev \\propto P $$\n",
    "- 社会发展通常伴随着更具结构性的水资源配置，如区域部门之间的分工合作，以及区域的统筹配置：\n",
    "$$ Dev \\propto C $$ \n",
    "- 可持续的社会发展应该通过技术手段有效缓解发展过程中产生的水资源压力，才能实现可持续发展：\n",
    "$$ Dev \\propto S^{-1} $$\n",
    "\n",
    "将三者合一起，即：\n",
    "$$ Dev. \\propto P*C*S^{-1} $$\n",
    "\n",
    "在上述假设的基础上，我们要构建流域综合耦合指数(Integrated Water Resources Utilization, IWRU)，使 IWRU 有效表征与用水相关的三个维度。首先为每个维度选择一个合适的指示因子（indicator, $I_x$, 其中$x=P, C or S$）。将上式进行自然对数转换，从而让三个维度之间变成加减关系：\n",
    "$$ Dev. \\propto ln(I_P) + ln(I_C) - ln(I_S) $$\n",
    "\n",
    "然后为了给定 IWRU 确定的值域，同时让三个维度之间等权重，对三者进行标准化处理，得到我们的综合耦合指数 IWRU：\n",
    "$$ IWRU = norm(ln(I_P)) + norm(ln(I_C)) - norm(ln(I_S)) $$"
   ]
  },
  {
   "cell_type": "code",
   "execution_count": null,
   "metadata": {
    "tags": []
   },
   "outputs": [],
   "source": [
    "from regimes_yrb.index import integrated_water_governance_index\n",
    "\n",
    "sfv = pd.read_csv(cfg.db.results.S, index_col=0).iloc[:, 0]\n",
    "priority = pd.read_csv(cfg.db.results.P, index_col=0).iloc[:, 0]\n",
    "allocation = pd.read_csv(cfg.db.results.A, index_col=0).iloc[:, 0]\n",
    "\n",
    "iwgi = integrated_water_governance_index(\n",
    "    priority=priority,\n",
    "    scarcity=sfv,\n",
    "    allocation=allocation,\n",
    ")\n",
    "\n",
    "# 导出数据\n",
    "iwgi.to_csv(cfg.db.results.IWGI)"
   ]
  },
  {
   "cell_type": "markdown",
   "metadata": {},
   "source": [
    "## Fig.3 三元图"
   ]
  },
  {
   "cell_type": "markdown",
   "metadata": {},
   "source": [
    "对三元图来说，计算的是每个维度 $X$ 对 regime 的影响（Impact）\n",
    "\n",
    "$$ Impact_X = \\frac{I'_X}{\\sum_X I'_X} $$"
   ]
  },
  {
   "cell_type": "code",
   "execution_count": null,
   "metadata": {
    "tags": []
   },
   "outputs": [],
   "source": [
    "from regimes_yrb.plot import plot_ternary\n",
    "\n",
    "ax = plot_ternary(iwgi)\n",
    "# plt.savefig(\"../figures/main/phases.jpg\", dpi=300)\n",
    "# plt.savefig(\"../figures/main/phases.pdf\", dpi=300)\n",
    "plt.show();"
   ]
  },
  {
   "cell_type": "markdown",
   "metadata": {},
   "source": [
    "## 计算贡献度\n",
    "\n",
    "首先是计算各个指标（$I_x, x = P, S, or C$）的贡献度：\n",
    "\n",
    "$$ IWRU = I'_P + I'_C - I'_S $$\n",
    "\n",
    "对每个起始年份为$y1$，截止年份为$y2$的时间段，有：\n",
    "\n",
    "$$ \\Delta IWRU = IWRU_{y2} - IWRU_{y1} $$\n",
    "\n",
    "即：\n",
    "\n",
    "$$ \\Delta IWRU = (I'_{P_{y2}} + I'_{C_{y2}} - I'_{S_{y2}}) - (I'_{P_{y1}} + I'_{C_{y1}} - I'_{S_{y1}}) = \\Delta I'_P + \\Delta I'_C + (-\\Delta I'_S) $$\n",
    "\n",
    "则每个指标$x$ ($P$, $C$, or $S$)对IWRU变化量的贡献度$Contribution_x$为：\n",
    "\n",
    "$$ Contribution_x = \\frac{\\Delta I'_x}{|\\Delta IWRU|} $$\n",
    "\n",
    "其影响是：\n",
    "\n",
    "$$ Impact_X = \\frac{\\Delta I'_X}{\\sum_X |\\Delta I'_X|} $$"
   ]
  },
  {
   "cell_type": "code",
   "execution_count": null,
   "metadata": {
    "tags": []
   },
   "outputs": [],
   "source": [
    "from regimes_yrb.index import calc_contribution\n",
    "\n",
    "changes_contribution = calc_contribution(iwgi, threshold=cfg.alpha_threshold)\n",
    "changes_contribution\n",
    "\n",
    "# 各个指数对 iwru 在每个阶段发生变化的贡献量\n",
    "print(\"第三阶段 Allocation(A) 的贡献是较第二阶段增长的倍数：\")\n",
    "changes_contribution[\"A\"].iloc[2] / changes_contribution[\"A\"].iloc[1] - 1\n",
    "\n",
    "print(\"第三阶段 Priority (P) 的贡献是较第二阶段增长的倍数：\")\n",
    "changes_contribution[\"P\"].iloc[2] / changes_contribution[\"P\"].iloc[1] - 1\n",
    "\n",
    "print(\"第三阶段 Stress (S) 的贡献是较第二阶段增长的倍数：\")\n",
    "changes_contribution[\"S\"].iloc[2] / changes_contribution[\"S\"].iloc[1] - 1"
   ]
  },
  {
   "cell_type": "markdown",
   "metadata": {},
   "source": [
    "## 计算相关系数"
   ]
  },
  {
   "cell_type": "code",
   "execution_count": null,
   "metadata": {
    "tags": []
   },
   "outputs": [],
   "source": [
    "from regimes_yrb.index import calc_index_correlation\n",
    "\n",
    "corr_results, k_results, p_results = calc_index_correlation(iwgi)"
   ]
  },
  {
   "cell_type": "markdown",
   "metadata": {},
   "source": [
    "## 最终作图"
   ]
  },
  {
   "cell_type": "code",
   "execution_count": null,
   "metadata": {
    "tags": []
   },
   "outputs": [],
   "source": [
    "from regimes_yrb.plot import plot_demonstrate, plot_pettitt_change_points\n",
    "from regimes_yrb.tools.plot_support import get_position_by_ratio\n",
    "\n",
    "\n",
    "# 绘图\n",
    "fig = plt.figure(constrained_layout=False, figsize=(8, 4.4))\n",
    "fig.subplots_adjust(left=0.10, right=0.95, top=0.95, bottom=0.10)\n",
    "\n",
    "gs = GridSpec(\n",
    "    5,\n",
    "    2,\n",
    "    figure=fig,\n",
    "    width_ratios=[4, 5],\n",
    "    height_ratios=[0.05, 1, 0.05, 1, 0.0],\n",
    ")\n",
    "ax1 = fig.add_subplot(gs[0:2, 0])\n",
    "ax2 = fig.add_subplot(gs[3:5, 0])\n",
    "ax3 = fig.add_subplot(gs[1:-1, 1])\n",
    "ax4 = fig.add_subplot(355)\n",
    "plot_demonstrate(ax4)\n",
    "\n",
    "tax = plot_ternary(iwgi, ax=ax3)\n",
    "\n",
    "# 使用【堆积图】绘制子区域\n",
    "labels = [\"P\", \"A\", \"S\"]\n",
    "ys = [iwgi[col] / 3 for col in labels]\n",
    "ax1.stackplot(\n",
    "    iwgi.index,\n",
    "    *ys,\n",
    "    colors=index_colors,\n",
    "    alpha=0.6,\n",
    "    zorder=0,\n",
    "    labels=labels,\n",
    "    edgecolor=\"white\",\n",
    ")\n",
    "wcci_slopes = plot_pettitt_change_points(\n",
    "    iwgi[\"IWGI\"],\n",
    "    ax=ax1,\n",
    "    colors=period_colors,\n",
    "    p_shr=cfg.alpha_threshold,\n",
    "    edgecolor=\"white\",\n",
    "    s=40,\n",
    ")\n",
    "\n",
    "# 绘制相关系数\n",
    "# corr_results.columns = [\"scarcity\", \"priority\", \"allocation\"]\n",
    "corr_results[labels].plot.bar(\n",
    "    ax=ax2, colormap=index_colormap, edgecolor=\"white\", width=0.9\n",
    ")\n",
    "\n",
    "ys = [iwgi[col] / 3 for col in labels]\n",
    "\n",
    "\n",
    "# 修饰图片1\n",
    "# ax1.set_xlabel('Year')\n",
    "ax1.set_ylabel(\"Index\")\n",
    "ax1.set_xlim(1965, 2014)\n",
    "# ax1.set_ylim(0.04, 0.105)\n",
    "# ax1.set_yticks(np.arange(0.04, 0.105, 0.02))\n",
    "# ax1.text(1968, 0.4, 'A.', ha='center', va='center', weight='bold', size='large')\n",
    "ax1.legend(loc=\"upper right\", ncol=2)\n",
    "\n",
    "# 修饰图片3\n",
    "# ax3.set_xlabel(\"Different periods\")\n",
    "ax2.set_ylabel(\"Correlations\")\n",
    "for tick in ax3.get_xticklabels():  # 旋转角度\n",
    "    tick.set_rotation(0)  # 轴标签旋转\n",
    "ax2.axhline(y=0, c=\"gray\", lw=1, ls=\"--\")\n",
    "# ax3.set_xticklabels([\"1965-1977\", \"1978-2000\", \"2001-2013\"])\n",
    "ax2.set_yticks(np.arange(-0.5, 0.8, 0.3))\n",
    "ax2.set_yticklabels([\"-.5\", \"-.2\", \"0.1\", \"0.4\", \"0.7\"])\n",
    "ax2.tick_params(axis=\"x\", tickdir=\"in\", bottom=False, labelrotation=0)\n",
    "# ax3.text(-0.2, 0.7, 'B.', ha='center', va='center', weight='bold', size='large')\n",
    "ax2.axvline(1.5, ls=\":\", color=\"gray\")\n",
    "ax2.axvline(0.5, ls=\":\", color=\"gray\")\n",
    "ax2.set_xlim(-0.5, 2.5)\n",
    "\n",
    "v_space = 0.01\n",
    "for i, period in enumerate(corr_results.index):\n",
    "    for j, indicator in enumerate(corr_results.columns):\n",
    "        height = corr_results[labels].iloc[i, j] + v_space\n",
    "        location = i + (-0.3, 0, 0.3)[j]\n",
    "        if p_results[labels].iloc[i, j] < 0.05:\n",
    "            ax2.text(\n",
    "                location,\n",
    "                height,\n",
    "                \"* *\",\n",
    "                horizontalalignment=\"center\",\n",
    "                weight=\"bold\",\n",
    "                color=\"black\",\n",
    "            )\n",
    "\n",
    "# 调整坐标轴显示\n",
    "for ax in [ax1, ax2, ax4]:\n",
    "    ax.spines[\"top\"].set_visible(False)\n",
    "    ax.spines[\"bottom\"].set_visible(False)\n",
    "    ax.spines[\"left\"].set_visible(True)\n",
    "    ax.spines[\"right\"].set_visible(False)\n",
    "    ax.grid(True, axis=\"y\", color=\"white\", ls=\":\")\n",
    "\n",
    "ax1.spines[\"bottom\"].set_visible(True)\n",
    "ax4.spines[\"left\"].set_visible(False)\n",
    "\n",
    "legend_handles = []\n",
    "legend_labels = []\n",
    "for handle, label in zip(*ax2.get_legend_handles_labels()):\n",
    "    legend_handles.append(handle)\n",
    "    legend_labels.append(label.title() + f\" ({label[0].title()})\")\n",
    "\n",
    "for handle, label in zip(*ax3.get_legend_handles_labels()):\n",
    "    legend_handles.append(handle)\n",
    "    legend_labels.append(label)\n",
    "\n",
    "for i, ax in enumerate([ax1, ax2, ax3]):\n",
    "    ax.get_legend().remove()\n",
    "    ratio_x, ratio_y = 0.95, 0.9\n",
    "    if i == 2:\n",
    "        ratio_x = 0.05\n",
    "        ratio_y = 0.406\n",
    "    x, y = get_position_by_ratio(ax, ratio_x, ratio_y)\n",
    "    label = [\"A.\", \"B.\", \"C.\"][i]\n",
    "    ax.text(x, y, label, ha=\"center\", va=\"center\", weight=\"bold\", size=\"large\")\n",
    "\n",
    "fig.legend(\n",
    "    loc=(0.46, 0.60),\n",
    "    ncol=1,\n",
    "    handles=legend_handles,\n",
    "    labels=legend_labels,\n",
    "    handletextpad=1,\n",
    "    handleheight=1,\n",
    "    markerscale=1,\n",
    "    frameon=False,\n",
    "    title=\"Legend:\",\n",
    "    title_fontproperties={\"weight\": \"bold\", \"size\": 10},\n",
    ")\n",
    "\n",
    "# 储存和显示图片\n",
    "# plt.savefig(\"../figures/main/index.pdf\", dpi=300)\n",
    "# plt.savefig(\"../figures/main/index.jpg\", dpi=300)\n",
    "plt.show();"
   ]
  },
  {
   "cell_type": "code",
   "execution_count": null,
   "metadata": {
    "tags": []
   },
   "outputs": [],
   "source": [
    "corr_results"
   ]
  },
  {
   "cell_type": "markdown",
   "metadata": {},
   "source": [
    "## 对阈值变化的敏感性分析"
   ]
  },
  {
   "cell_type": "raw",
   "metadata": {},
   "source": [
    "from tools.statistic import Pettitt_change_points\n",
    "fig, ax = plt.subplots()\n",
    "x = np.linspace(0.000001, 0.05, 50000)\n",
    "y = []\n",
    "for p in x:\n",
    "    periods = Pettitt_change_points(iwru, p_shr=p)\n",
    "    y.append(len(periods))\n",
    "\n",
    "ax.scatter(np.log10(x), y, color='gray', s=5)\n",
    "ax.set_xlabel(\"The shreshold of p-value\")\n",
    "ax.set_ylabel(\"Number of the breakpoints\")"
   ]
  },
  {
   "cell_type": "raw",
   "metadata": {},
   "source": [
    "# 绘图\n",
    "fig = plt.figure(constrained_layout=True, figsize=(6, 4))\n",
    "# fig.subplots_adjust(left=0.15, right=0.95, top=.95, bottom=.10)\n",
    "\n",
    "gs = GridSpec(2, 2, figure=fig)\n",
    "ax1 = fig.add_subplot(gs[0, :])\n",
    "ax2 = fig.add_subplot(gs[1, 0])\n",
    "ax3 = fig.add_subplot(gs[1, 1])\n",
    "\n",
    "ax1.semilogx(x, y, color='gray', ls='-.', )\n",
    "ax1.set_xlabel(\"Threshold of $p$\")\n",
    "ax1.set_ylabel(\"Breakpoints\")\n",
    "ax1.set_yticks(range(0, 3, 1))\n",
    "ax1.set_ylim(-0.5, 2.5)\n",
    "\n",
    "for ax in [ax2, ax3]:\n",
    "    ax.set_xlabel(\"Year\")\n",
    "    ax.set_ylabel(\"IWGI\")\n",
    "    \n",
    "plot_pittitt_change_points(iwru, ax=ax2, p_shr=0.0005, edgecolor='white', alpha=0.6)\n",
    "plot_pittitt_change_points(iwru, ax=ax3, p_shr=0.05, edgecolor='white', alpha=0.6)\n",
    "\n",
    "plt.savefig(\"../figures/sup/sensitivity.pdf\", format='pdf')\n",
    "plt.show();"
   ]
  }
 ],
 "metadata": {
  "kernelspec": {
   "display_name": "Python 3 (ipykernel)",
   "language": "python",
   "name": "python3"
  },
  "language_info": {
   "codemirror_mode": {
    "name": "ipython",
    "version": 3
   },
   "file_extension": ".py",
   "mimetype": "text/x-python",
   "name": "python",
   "nbconvert_exporter": "python",
   "pygments_lexer": "ipython3",
   "version": "3.11.2"
  },
  "toc": {
   "base_numbering": 1,
   "nav_menu": {},
   "number_sections": true,
   "sideBar": true,
   "skip_h1_title": false,
   "title_cell": "Table of Contents",
   "title_sidebar": "Contents",
   "toc_cell": false,
   "toc_position": {
    "height": "calc(100% - 180px)",
    "left": "10px",
    "top": "150px",
    "width": "165px"
   },
   "toc_section_display": true,
   "toc_window_display": false
  }
 },
 "nbformat": 4,
 "nbformat_minor": 4
}
