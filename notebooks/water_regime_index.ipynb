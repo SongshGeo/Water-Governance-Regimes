{
 "cells": [
  {
   "cell_type": "markdown",
   "metadata": {},
   "source": [
    "# 全局设置"
   ]
  },
  {
   "cell_type": "code",
   "execution_count": null,
   "metadata": {
    "tags": []
   },
   "outputs": [],
   "source": [
    "%load_ext autoreload\n",
    "%autoreload 2\n",
    "%matplotlib inline\n",
    "%config InlineBackend.figure_format = 'retina'\n",
    "from IPython.core.interactiveshell import InteractiveShell\n",
    "\n",
    "InteractiveShell.ast_node_interactivity = \"all\"\n",
    "\n",
    "import pandas as pd\n",
    "import numpy as np"
   ]
  },
  {
   "cell_type": "code",
   "execution_count": null,
   "metadata": {
    "tags": []
   },
   "outputs": [],
   "source": [
    "from hydra import compose, initialize\n",
    "import os\n",
    "\n",
    "# 加载项目层面的配置\n",
    "with initialize(version_base=None, config_path=\"../config\"):\n",
    "    cfg = compose(config_name=\"config\")\n",
    "os.chdir(cfg.root)"
   ]
  },
  {
   "cell_type": "markdown",
   "metadata": {
    "tags": []
   },
   "source": [
    "## 加载数据"
   ]
  },
  {
   "cell_type": "code",
   "execution_count": null,
   "metadata": {
    "tags": []
   },
   "outputs": [],
   "source": [
    "from regimes_yrb.tools.statistic import (\n",
    "    ratio_contribution,\n",
    "    plot_pittitt_change_points,\n",
    "    plot_ratio_contribution,\n",
    "    pettitt_change_points,\n",
    ")\n",
    "import matplotlib\n",
    "from matplotlib import pyplot as plt\n",
    "from matplotlib.gridspec import GridSpec\n",
    "\n",
    "\n",
    "plt.rcParams[\"xtick.direction\"] = \"in\"\n",
    "plt.rcParams[\"ytick.direction\"] = \"out\"\n",
    "\n",
    "COLORS = cfg.style.colors\n",
    "period_colors = COLORS.period\n",
    "region_colors = COLORS.region\n",
    "index_colors = COLORS.index\n",
    "\n",
    "index_colormap = matplotlib.colors.ListedColormap(index_colors, \"indexed\")\n",
    "total_water_use_color = COLORS.total_WU"
   ]
  },
  {
   "cell_type": "code",
   "execution_count": null,
   "metadata": {
    "tags": []
   },
   "outputs": [],
   "source": [
    "# 加载阈值为 0.05的数据，即与黄河流域相交面积大于全市总面积 5% 的所有市\n",
    "city_yr = pd.read_csv(cfg.db.perfectures)"
   ]
  },
  {
   "cell_type": "code",
   "execution_count": null,
   "metadata": {
    "tags": []
   },
   "outputs": [],
   "source": [
    "city_yr.head()"
   ]
  },
  {
   "cell_type": "markdown",
   "metadata": {},
   "source": [
    "# 非直接用水比例\n",
    "\n",
    "## 方法介绍\n",
    "\n",
    "间接用水比例（Indirect Proportion of Water Use）来指示供水优先性，用于描述被消耗的水资源中，以间接形式惠益于人类的部分。\n",
    "\n",
    "计算方法：\n",
    "$$ I_{P} = \\frac{WU_{non-pro}}{WU_{pro} + WU_{non-pro}} $$\n",
    "\n",
    "其中i是年份，indirect和direct分别是为人类间接带来惠益的取用水方式和带来直接惠益取用水方式\n",
    "\n",
    "indirect包括： \n",
    "- 工业用水量（IND），每年用于工业目的的取水量，包括自给自足的工业和与公共供水网络连接的工业。\n",
    "- 城市服务业用水量（Urban service WU），指公共供水网络每年用于服务活动的直接用水量。\n",
    "\n",
    "direct包括：\n",
    "- 农业灌溉用水总量（IRR）：每年抽取的灌溉用水量，包括运输和田间施用期间的损失，但不包括牧场或水产养殖用水\n",
    "- 城市居民用水（Urban domestic WU）：公共供水网络每年用于城镇居民直接取水的水量\n",
    "- 农村居民用水（Rural domestic WU）：公共供水网络每年用于农村居民和牲畜直接使用的取水量\n",
    "- 农村牲畜用水（Rural livestock WU）：公共供水网络用于牲畜饮水和清洁的年度取水量"
   ]
  },
  {
   "cell_type": "code",
   "execution_count": null,
   "metadata": {
    "tags": []
   },
   "outputs": [],
   "source": [
    "from regimes_yrb.priority import direct_ratio\n",
    "\n",
    "# 产生直接惠益的用水方式\n",
    "direct = [\n",
    "    \"IRR\",\n",
    "    \"Urban domestic WU\",\n",
    "    \"Rural domestic WU\",\n",
    "    \"Rural livestock WU\",\n",
    "]\n",
    "\n",
    "# 产生间接惠益的用水方式\n",
    "indirect = [\"IND\", \"Urban service WU\"]\n",
    "\n",
    "# 数据是用水量，每年加总\n",
    "data = city_yr.groupby(\"Year\").sum(numeric_only=True)\n",
    "\n",
    "# 计算比例\n",
    "priority, priority_contributions = direct_ratio(\n",
    "    data, indirect=indirect, direct=direct\n",
    ")"
   ]
  },
  {
   "cell_type": "code",
   "execution_count": null,
   "metadata": {
    "tags": []
   },
   "outputs": [],
   "source": [
    "priority_contributions"
   ]
  },
  {
   "cell_type": "code",
   "execution_count": null,
   "metadata": {
    "tags": []
   },
   "outputs": [],
   "source": [
    "from regimes_yrb.plot import plot_data\n",
    "\n",
    "plot_data(\n",
    "    priority,\n",
    "    priority_contributions,\n",
    "    [1977, 1993],\n",
    "    \"Indirect Proportion of Water Use, configuration\",\n",
    "    \"Changes of configuration\",\n",
    "    \"Total\",\n",
    ")"
   ]
  },
  {
   "cell_type": "markdown",
   "metadata": {},
   "source": [
    "# 配水指数\n",
    "\n",
    "## 方法介绍\n",
    "\n",
    "模仿熵的公式，我们设计了一个衡量分配平均度的指标“配水指数(Water Distribution Index, WDI)”。我们假设最平均的水分配情况是，为每个行政区域某个部门分配到的用水量，都等于全流域该部门的平均用水比例。但实际上区域有别，有的区域会更集中发展某个用水部门，这就导致了水的分配不够平均，使得分配熵增大。而实际的分配情况与假设的平均分配情况，即为配水指数WDI，**WDI越大代表分配越平均，越小代表分配越不均匀**\n",
    "\n",
    "![entropy](https://gitee.com/SongshGeo/PicGo_picbed/raw/master/img/diagram_water_distribution_index.jpg)\n",
    "\n",
    "例如在上图中，左边展示的是假设的区域间均匀分配的情况。后者则是实际中分工各有差异，发展各有先后的情况。"
   ]
  },
  {
   "cell_type": "markdown",
   "metadata": {},
   "source": [
    "我们使用 Configuration Entropy Metric $CEM$ 来表达这种配置上的均匀性\n",
    "\n",
    "$$ CEM = \\sum_{i=1}^n -log(p_{i}) * p_{i} $$\n",
    "\n",
    "其中$i$ 代表配置水资源的单位（区域 or 部门） $p_i$ 代表了其中一个单位$i$分到水的比例。\n",
    "对不同区域来说，当水资源完全平均分配，即对任意区域$i$，都有$p_i = 1/n $时，$Entropy$取最大值：\n",
    "\n",
    "$$ CEM_{max} = \\sum_{i=1}^n -log(p_{i}) * p_{i} = - log(\\frac{1}{n}) $$"
   ]
  },
  {
   "cell_type": "markdown",
   "metadata": {},
   "source": [
    "可见，$CEM$ 指标度量的是水资源配置“不均匀”的程度，类似于信息熵是对“混乱程度”的度量，即参与分配的各个单位之间，分配比例差距越大，则熵越小。\n",
    "而我们的指标应反映随着社会发展，水资源配置在区域之间更加均衡（比例差距小）、整体满足不同用水部门的发展需求（比例差距减小）、但不同区域存在部门分工（比例差距增大）的趋势。\n",
    "\n",
    "因此，用$CEM_r$代表流域各区域间的CEM，$CEM_s$代表流域各部门间的CEM, $CEM_{rs}$代表区域各部门间的CEM（详见附录）我们获得了表征流域用水配置的指标$I_C$：\n",
    "\n",
    "$$ I_C = \\frac{CEM_{r}*CEM_{s}}{CEM_{rs}}$$\n"
   ]
  },
  {
   "cell_type": "markdown",
   "metadata": {},
   "source": [
    "### 配置熵指标：补充材料部分\n",
    "衡量水资源配置的指标$I_C$由三部分水资源配置熵指标（CEM）构成：\n",
    "\n",
    "$$ I_C = \\frac{CEM_{r}*CEM_{s}}{CEM_{rs}}$$\n",
    "\n",
    "(1) 描述区域间水资源配置的 $CEM_r$：\n",
    "\n",
    "$$ CEM_r = \\sum_{i=1}^4 -log(p_{i}) * p_{i} $$\n",
    "\n",
    "其中$p_i$是区域$i$（$i=1$ to $4$ 分别代表 SR, UR, MR, or, DR）的水资源使用量（$WU_i$）在所有区域水资源消耗总量中所占的比例，即:\n",
    "\n",
    "$$ p_i = \\frac{WU_i}{\\sum_{i=1}^4 WU_i} $$\n",
    "\n",
    "(2) 描述部门间水资源配置的 $CEM_s$:\n",
    "\n",
    "$$ CEM_s = \\sum_{j=1}^3 -log(p_{j}) * p_{j} $$\n",
    "\n",
    "其中$p_j$是用水部门$j$（$j=1$ to $3$ 分别代表 agriculture, industry, domestic and services）的水资源使用量（$WU_j$）在所有部门水资源消耗总量中所占的比例，即:\n",
    "\n",
    "$$ p_j = \\frac{WU_j}{\\sum_{j=1}^3 WU_j} $$\n"
   ]
  },
  {
   "cell_type": "markdown",
   "metadata": {},
   "source": [
    "(3) 描述区域各部门间水资源配置分工的 $CEM_{rs}$:\n",
    "\n",
    "$$ CEM_{rs} = \\frac{1}{3} * \\sum_{j=1}^3 \\sum_{i=1}^4 -log(p_{ij} * p_{ij})$$\n",
    "\n",
    "其中$p_{ij}$是区域$i$在部门$j$上的用水$WU_{ij}$占所有区域在部门$j$上总用水的比例，即：\n",
    "\n",
    "$$ p_{ij} = \\frac{WU_ij}{\\sum_{i=1}^4 WU_ij} $$"
   ]
  },
  {
   "cell_type": "code",
   "execution_count": null,
   "metadata": {
    "tags": []
   },
   "outputs": [],
   "source": [
    "from regimes_yrb.allocation import entropy_and_contribution\n",
    "\n",
    "allocation, entropy_contributions = entropy_and_contribution(city_yr)\n",
    "plot_data(\n",
    "    allocation,\n",
    "    entropy_contributions,\n",
    "    [1977, 1993],\n",
    "    \"Water Distribution Index, WDI\",\n",
    "    \"Changes of WDI\",\n",
    "    \"Divisions\",\n",
    ")"
   ]
  },
  {
   "cell_type": "markdown",
   "metadata": {},
   "source": [
    "# SFV结构性缺水指数\n",
    "\n",
    "## 方法介绍\n",
    "\n",
    "人类利用科技手段不断的管理水资源，因此简单的物理缺水指数无法合理评估结构性水资源短缺在社会-水系统演化与过渡中所起的作用。因此，我们参考 Qin et al., 2019中提出的结构性缺水指数来评价流域缺水。该指数考虑了修建水库等管理措施，以及用水结构变化对水资源短缺情况评价的影响。\n",
    "\n",
    "利用该方法指示水资源压力$I_S$，认为全流域的水资源压力是各区域SFV指数的均值，即：\n",
    "\n",
    "$$ I_S = \\frac{1}{4} * \\sum_{i=1}^4 SFV_{i} $$\n",
    "\n",
    "而计算某区域$i$的SFV指数，需要考虑三个权重相等的方面，标准化后计算SFV指数：\n",
    "$$ SFV_i = a * V_i + b $$\n",
    "$$ V_i = \\frac{A_{i, normalize} + B_{i, normalize} + C_{i, normalize}}{3} $$\n",
    "$$ a = \\frac{1}{V_{max} - V_{min}}; $$\n",
    "$$ b = \\frac{1}{V_{min} - V_{max}} * V_{min} $$\n",
    "\n",
    "（注：原文献中使用的常数为100，得到的指数结果位于$0~100$之间，这里为了和其余两指数保持$0~1$的相同数量级，将该系数调整为1）\n",
    "- 首先是总的耗水量占区域多年平均径流量的比例：\n",
    "$$ A_{i, j} = \\frac{WU_{i,j}}{R_{i, avg}} $$\n",
    "\n",
    "其中平均径流量用如下公式计算：\n",
    "$$ R_{i, avg} = \\frac{1}{j} * \\sum_{j=1}^j R_{i} $$\n",
    "\n",
    "- 其次是非弹性用水量占多年平均径流量的比例：\n",
    "$$ B_{i, j} = \\frac{WU_{inflexible}}{R_{i, avg}} $$\n",
    "\n",
    "对于非弹性用水，Qin在文章中给出了如下划分：\n",
    "For inflexible consumption, we include (according to Qin et al., 2019):    \n",
    "- (1) Freshwater consumed for irrigation of perennial crops.\n",
    "- (2) Water  evaporated during cooling of thermal power plants. √\n",
    "- (3) Water evaporated from reservoirs.\n",
    "- (4) Basic water allotments for humans and livestock. √\n",
    "\n",
    "由于数据限制，本研究中，取其中（2）、（4）的和为非弹性用水。\n",
    "\n",
    "- 最后，还要考虑水库的库容能力及调蓄作用对应对天然径流波动的积极影响：\n",
    "$$ C1_{i, j} = \\frac{R_{i, std}}{R_{i, avg}} $$\n",
    "\n",
    "$$ C2_{i} = \\frac{RC_{i}}{R_{i, avg}}, \\ if RC < R_{i, avg} $$\n",
    "\n",
    "$$ C2_{i} = 1, \\ if RC >= R_{i, avg} $$\n",
    "\n",
    "$$ C_i = C1_i * (1 - C2_i) $$\n",
    "\n",
    "其中$RC_i$是该区域的水库总库容，$R_{i, std}$是多年径流的标准差，衡量天然径流的波动。\n",
    "\n",
    "Qin, Y. et al. Flexibility and intensity of global water use. Nature Sustainability 2, 515–523 (2019)."
   ]
  },
  {
   "cell_type": "markdown",
   "metadata": {},
   "source": [
    "### 加载径流和水库数据"
   ]
  },
  {
   "cell_type": "code",
   "execution_count": null,
   "metadata": {
    "tags": []
   },
   "outputs": [],
   "source": [
    "# 加载径流和水库数据\n",
    "use_cols = {\n",
    "    \"唐乃亥\": \"SR\",  # 唐乃亥控制源区\n",
    "    \"头道拐\": \"UR\",  # 头道拐控制上游\n",
    "    \"花园口\": \"MR\",  # 花园口控制中游\n",
    "    \"利津\": \"DR\",  # 利津控制下游\n",
    "}\n",
    "measured_runoff = pd.read_csv(cfg.db.runoff, index_col=\"年份\")\n",
    "measured_runoff = measured_runoff.loc[:, use_cols.keys()]\n",
    "measured_runoff.rename(use_cols, axis=1, inplace=True)"
   ]
  },
  {
   "cell_type": "code",
   "execution_count": null,
   "metadata": {
    "tags": []
   },
   "outputs": [],
   "source": [
    "# 水库库容数据\n",
    "reservoirs_capacity = pd.read_csv(cfg.db.reservoirs, index_col=0)\n",
    "\n",
    "# 水库库容累积相加数据\n",
    "reservoirs_capacity_cumulating = reservoirs_capacity.cumsum()"
   ]
  },
  {
   "cell_type": "code",
   "execution_count": null,
   "metadata": {
    "tags": []
   },
   "outputs": [],
   "source": [
    "consumptions = pd.read_csv(cfg.db.consumptions)"
   ]
  },
  {
   "cell_type": "markdown",
   "metadata": {},
   "source": [
    "## 计算三部分指数"
   ]
  },
  {
   "cell_type": "code",
   "execution_count": null,
   "metadata": {
    "tags": []
   },
   "outputs": [],
   "source": [
    "## 计算三个部分的指数\n",
    "from regimes_yrb.scarcity import (\n",
    "    calculate_index_c,\n",
    "    calculate_index_a,\n",
    "    calculate_index_b,\n",
    ")\n",
    "\n",
    "\n",
    "index_a = calculate_index_a(runoff=measured_runoff, consumptions=consumptions)\n",
    "index_b = calculate_index_b(\n",
    "    runoff=measured_runoff,\n",
    "    consumptions=consumptions,\n",
    "    inflexible_wu=cfg.inflexible_wu,\n",
    ")\n",
    "index_c = calculate_index_c(\n",
    "    runoff=measured_runoff, reservoirs=reservoirs_capacity_cumulating\n",
    ")"
   ]
  },
  {
   "cell_type": "code",
   "execution_count": null,
   "metadata": {
    "tags": []
   },
   "outputs": [],
   "source": [
    "from regimes_yrb.scarcity import calc_sfv\n",
    "\n",
    "sfv, sfv_contribution = calc_sfv(\n",
    "    measured_runoff,\n",
    "    consumptions,\n",
    "    reservoirs_capacity_cumulating,\n",
    "    cfg.inflexible_wu,\n",
    ")"
   ]
  },
  {
   "cell_type": "markdown",
   "metadata": {},
   "source": [
    "# 综合耦合指数\n",
    "\n",
    "我们认为水资源利用制度，与水资源利用的三个维度紧密相关：\n",
    "- 用水压力（stress, S）\n",
    "- 用水优先性（configuration, P）\n",
    "- 用水配置（priority, C）\n",
    "\n",
    "根据经验，我们认为这三者与社会发展$(Dev.)$具有方向性关系:\n",
    "\n",
    "- 社会的发展通常伴随着用水向社会经济系统倾斜，用水方式优先向收益更高的非供给性方式倾斜：\n",
    "$$ Dev \\propto P $$\n",
    "- 社会发展通常伴随着更具结构性的水资源配置，如区域部门之间的分工合作，以及区域的统筹配置：\n",
    "$$ Dev \\propto C $$ \n",
    "- 可持续的社会发展应该通过技术手段有效缓解发展过程中产生的水资源压力，才能实现可持续发展：\n",
    "$$ Dev \\propto S^{-1} $$\n",
    "\n",
    "将三者合一起，即：\n",
    "$$ Dev. \\propto P*C*S^{-1} $$\n",
    "\n",
    "在上述假设的基础上，我们要构建流域综合耦合指数(Integrated Water Resources Utilization, IWRU)，使 IWRU 有效表征与用水相关的三个维度。首先为每个维度选择一个合适的指示因子（indicator, $I_x$, 其中$x=P, C or S$）。将上式进行自然对数转换，从而让三个维度之间变成加减关系：\n",
    "$$ Dev. \\propto ln(I_P) + ln(I_C) - ln(I_S) $$\n",
    "\n",
    "然后为了给定 IWRU 确定的值域，同时让三个维度之间等权重，对三者进行标准化处理，得到我们的综合耦合指数 IWRU：\n",
    "$$ IWRU = norm(ln(I_P)) + norm(ln(I_C)) - norm(ln(I_S)) $$"
   ]
  },
  {
   "cell_type": "code",
   "execution_count": null,
   "metadata": {
    "tags": []
   },
   "outputs": [],
   "source": [
    "from regimes_yrb.index import integrated_water_governance_index\n",
    "\n",
    "iwgi = integrated_water_governance_index(\n",
    "    priority=priority, scarcity=sfv, allocation=allocation\n",
    ")\n",
    "iwgi.loc[iwgi.index < 1986, \"stage\"] = \"P1\"\n",
    "iwgi.loc[(1986 <= iwgi.index) & (iwgi.index < 2001), \"stage\"] = \"P2\"\n",
    "iwgi.loc[2001 <= iwgi.index, \"stage\"] = \"P3\""
   ]
  },
  {
   "cell_type": "code",
   "execution_count": null,
   "metadata": {
    "tags": []
   },
   "outputs": [],
   "source": [
    "import seaborn as sns\n",
    "\n",
    "sns.pairplot(iwgi, hue=\"stage\")"
   ]
  },
  {
   "cell_type": "markdown",
   "metadata": {},
   "source": [
    "## Fig.3 三元图"
   ]
  },
  {
   "cell_type": "markdown",
   "metadata": {},
   "source": [
    "对三元图来说，计算的是每个维度 $X$ 对 regime 的影响（Impact）\n",
    "\n",
    "$$ Impact_X = \\frac{I'_X}{\\sum_X I'_X} $$"
   ]
  },
  {
   "cell_type": "code",
   "execution_count": null,
   "metadata": {
    "tags": []
   },
   "outputs": [],
   "source": [
    "from regimes_yrb.plot import plot_ternary\n",
    "\n",
    "ax = plot_ternary(iwgi)\n",
    "# plt.savefig(\"../figures/main/phases.jpg\", dpi=300)\n",
    "# plt.savefig(\"../figures/main/phases.pdf\", dpi=300)\n",
    "plt.show();"
   ]
  },
  {
   "cell_type": "markdown",
   "metadata": {},
   "source": [
    "## 计算贡献度\n",
    "\n",
    "首先是计算各个指标（$I_x, x = P, S, or C$）的贡献度：\n",
    "\n",
    "$$ IWRU = I'_P + I'_C - I'_S $$\n",
    "\n",
    "对每个起始年份为$y1$，截止年份为$y2$的时间段，有：\n",
    "\n",
    "$$ \\Delta IWRU = IWRU_{y2} - IWRU_{y1} $$\n",
    "\n",
    "即：\n",
    "\n",
    "$$ \\Delta IWRU = (I'_{P_{y2}} + I'_{C_{y2}} - I'_{S_{y2}}) - (I'_{P_{y1}} + I'_{C_{y1}} - I'_{S_{y1}}) = \\Delta I'_P + \\Delta I'_C + (-\\Delta I'_S) $$\n",
    "\n",
    "则每个指标$x$ ($P$, $C$, or $S$)对IWRU变化量的贡献度$Contribution_x$为：\n",
    "\n",
    "$$ Contribution_x = \\frac{\\Delta I'_x}{|\\Delta IWRU|} $$\n",
    "\n",
    "其影响是：\n",
    "\n",
    "$$ Impact_X = \\frac{\\Delta I'_X}{\\sum_X |\\Delta I'_X|} $$"
   ]
  },
  {
   "cell_type": "code",
   "execution_count": null,
   "metadata": {
    "tags": []
   },
   "outputs": [],
   "source": [
    "from regimes_yrb.index import calc_contribution\n",
    "\n",
    "changes_contribution = calc_contribution(iwgi, threshold=cfg.alpha_threshold)\n",
    "changes_contribution\n",
    "\n",
    "# 各个指数对 iwru 在每个阶段发生变化的贡献量\n",
    "print(\"第三阶段 WDI 的贡献是较第二阶段增长的倍数：\")\n",
    "changes_contribution[\"A\"].iloc[2] / changes_contribution[\"A\"].iloc[1] - 1\n",
    "\n",
    "print(\"第三阶段 configuration 的贡献是较第二阶段增长的倍数：\")\n",
    "changes_contribution[\"P\"].iloc[2] / changes_contribution[\"P\"].iloc[1] - 1\n",
    "\n",
    "print(\"第三阶段 SFV 的贡献是较第二阶段增长的倍数：\")\n",
    "changes_contribution[\"S\"].iloc[2] / changes_contribution[\"S\"].iloc[1] - 1"
   ]
  },
  {
   "cell_type": "code",
   "execution_count": null,
   "metadata": {
    "tags": []
   },
   "outputs": [],
   "source": [
    "fig, ax = plt.subplots()\n",
    "\n",
    "labels = [\"P\", \"A\", \"S\"]\n",
    "ys = [iwgi[col] / 3 for col in labels]\n",
    "# 使用【堆积图】绘制子区域\n",
    "ax.stackplot(\n",
    "    iwgi.index, *ys, colors=index_colors, alpha=0.4, zorder=0, labels=labels\n",
    ")\n",
    "# 使用【散点图】绘制黄河流域总体值\n",
    "# ax.scatter(x, y_all, zorder=2, edgecolor=\"#39AEA9\", color=\"#39AEA9\", s=50, alpha=.4)\n",
    "# 使用【直线图】展示拟合的直线\n",
    "# ax.plot(x, y_linear_fit, ls=\"--\", lw=2, zorder=3)\n",
    "ax.axvline(1978, ls=\":\", color=\"gray\")\n",
    "ax.axvline(2001, ls=\":\", color=\"gray\")\n",
    "ax.legend()"
   ]
  },
  {
   "cell_type": "code",
   "execution_count": null,
   "metadata": {
    "tags": []
   },
   "outputs": [],
   "source": [
    "from regimes_yrb.tools.statistic import zscore, get_optimal_fit_linear\n",
    "from scipy import stats\n",
    "\n",
    "k_results = pd.DataFrame(index=[\"P1\", \"P2\", \"P3\"])\n",
    "# b_results = pd.DataFrame(index=[\"P1\", \"P2\", \"P3\"])\n",
    "corr_results = pd.DataFrame(index=[\"P1\", \"P2\", \"P3\"])\n",
    "p_results = pd.DataFrame(index=[\"P1\", \"P2\", \"P3\"])\n",
    "breakpoints = [1965, 1978, 2001, 2013]\n",
    "\n",
    "_, axs = plt.subplots(1, 3, figsize=(10, 3))\n",
    "for i, yr_start in enumerate(breakpoints[:3]):\n",
    "    ax = axs[i]\n",
    "    yr_end = breakpoints[i + 1]\n",
    "    temp_data = iwgi.loc[yr_start:yr_end]\n",
    "    for col in iwgi.iloc[:, :3]:\n",
    "        x, y = temp_data.index, temp_data[col].values\n",
    "        y_sim, k, _ = get_optimal_fit_linear(x, y)\n",
    "        k_results.loc[f\"P{i+1}\", col] = k\n",
    "        ax.scatter(zscore(temp_data[col]), zscore(y_sim), label=f\"{col}\")\n",
    "        if col != \"IWGI\":\n",
    "            corr, p_val = stats.spearmanr(\n",
    "                temp_data[col].values, temp_data[\"IWGI\"].values\n",
    "            )\n",
    "            corr_results.loc[f\"P{i+1}\", col] = corr\n",
    "            p_results.loc[f\"P{i+1}\", col] = p_val\n",
    "plt.show();"
   ]
  },
  {
   "cell_type": "code",
   "execution_count": null,
   "metadata": {
    "tags": []
   },
   "outputs": [],
   "source": [
    "from regimes_yrb.plot import plot_demonstrate\n",
    "\n",
    "\n",
    "plot_demonstrate()"
   ]
  },
  {
   "cell_type": "markdown",
   "metadata": {},
   "source": [
    "## 最终作图"
   ]
  },
  {
   "cell_type": "code",
   "execution_count": null,
   "metadata": {
    "tags": []
   },
   "outputs": [],
   "source": [
    "# 使用图片的比例来定位\n",
    "def get_position_by_ratio(ax, x_ratio, y_ratio):\n",
    "    \"\"\"\n",
    "    使用图片的比例来返回定位，从而更好的控制说明文字的位置\n",
    "    ax: 一个 matplotlib 的画图轴对象\n",
    "    x_ratio: 横坐标的比例位置\n",
    "    y_ratio: 纵坐标的比例位置\n",
    "    \"\"\"\n",
    "    x_min, x_max = ax.get_xlim()\n",
    "    y_min, y_max = ax.get_ylim()\n",
    "    x = (x_max - x_min) * x_ratio + x_min\n",
    "    y = (y_max - y_min) * y_ratio + y_min\n",
    "    return x, y"
   ]
  },
  {
   "cell_type": "code",
   "execution_count": null,
   "metadata": {
    "tags": []
   },
   "outputs": [],
   "source": [
    "# 绘图\n",
    "fig = plt.figure(constrained_layout=False, figsize=(8, 4.4))\n",
    "fig.subplots_adjust(left=0.10, right=0.95, top=0.95, bottom=0.10)\n",
    "\n",
    "gs = GridSpec(\n",
    "    5,\n",
    "    2,\n",
    "    figure=fig,\n",
    "    width_ratios=[4, 5],\n",
    "    height_ratios=[0.05, 1, 0.05, 1, 0.0],\n",
    ")\n",
    "ax1 = fig.add_subplot(gs[0:2, 0])\n",
    "ax2 = fig.add_subplot(gs[3:5, 0])\n",
    "ax3 = fig.add_subplot(gs[1:-1, 1])\n",
    "ax4 = fig.add_subplot(355)\n",
    "plot_demonstrate(ax4)\n",
    "\n",
    "tax = plot_ternary(iwgi, ax=ax3)\n",
    "\n",
    "# 使用【堆积图】绘制子区域\n",
    "ax1.stackplot(\n",
    "    iwgi.index,\n",
    "    *ys,\n",
    "    colors=index_colors,\n",
    "    alpha=0.6,\n",
    "    zorder=0,\n",
    "    labels=labels,\n",
    "    edgecolor=\"white\",\n",
    ")\n",
    "wcci_slopes = plot_pittitt_change_points(\n",
    "    iwgi[\"IWGI\"],\n",
    "    ax=ax1,\n",
    "    colors=period_colors,\n",
    "    p_shr=cfg.alpha_threshold,\n",
    "    edgecolor=\"white\",\n",
    "    s=40,\n",
    ")\n",
    "\n",
    "# 绘制相关系数\n",
    "labels = [\"P\", \"A\", \"S\"]\n",
    "# corr_results.columns = [\"scarcity\", \"priority\", \"allocation\"]\n",
    "corr_results[labels].plot.bar(\n",
    "    ax=ax2, colormap=index_colormap, edgecolor=\"white\", width=0.9\n",
    ")\n",
    "\n",
    "ys = [iwgi[col] / 3 for col in labels]\n",
    "\n",
    "\n",
    "# 修饰图片1\n",
    "# ax1.set_xlabel('Year')\n",
    "ax1.set_ylabel(\"Index\")\n",
    "ax1.set_xlim(1965, 2014)\n",
    "# ax1.set_ylim(0.04, 0.105)\n",
    "# ax1.set_yticks(np.arange(0.04, 0.105, 0.02))\n",
    "# ax1.text(1968, 0.4, 'A.', ha='center', va='center', weight='bold', size='large')\n",
    "ax1.legend(loc=\"upper right\", ncol=2)\n",
    "\n",
    "# 修饰图片3\n",
    "# ax3.set_xlabel(\"Different periods\")\n",
    "ax2.set_ylabel(\"Correlations\")\n",
    "for tick in ax3.get_xticklabels():  # 旋转角度\n",
    "    tick.set_rotation(0)  # 轴标签旋转\n",
    "ax2.axhline(y=0, c=\"gray\", lw=1, ls=\"--\")\n",
    "# ax3.set_xticklabels([\"1965-1977\", \"1978-2000\", \"2001-2013\"])\n",
    "ax2.set_yticks(np.arange(-0.5, 0.8, 0.3))\n",
    "ax2.set_yticklabels([\"-.5\", \"-.2\", \"0.1\", \"0.4\", \"0.7\"])\n",
    "ax2.tick_params(axis=\"x\", tickdir=\"in\", bottom=False, labelrotation=0)\n",
    "# ax3.text(-0.2, 0.7, 'B.', ha='center', va='center', weight='bold', size='large')\n",
    "ax2.axvline(1.5, ls=\":\", color=\"gray\")\n",
    "ax2.axvline(0.5, ls=\":\", color=\"gray\")\n",
    "ax2.set_xlim(-0.5, 2.5)\n",
    "\n",
    "v_space = 0.01\n",
    "for i, period in enumerate(corr_results.index):\n",
    "    for j, indicator in enumerate(corr_results.columns):\n",
    "        height = corr_results[labels].iloc[i, j] + v_space\n",
    "        location = i + (-0.3, 0, 0.3)[j]\n",
    "        if p_results[labels].iloc[i, j] < 0.05:\n",
    "            ax2.text(\n",
    "                location,\n",
    "                height,\n",
    "                \"* *\",\n",
    "                horizontalalignment=\"center\",\n",
    "                weight=\"bold\",\n",
    "                color=\"black\",\n",
    "            )\n",
    "\n",
    "# 调整坐标轴显示\n",
    "for ax in [ax1, ax2, ax4]:\n",
    "    ax.spines[\"top\"].set_visible(False)\n",
    "    ax.spines[\"bottom\"].set_visible(False)\n",
    "    ax.spines[\"left\"].set_visible(True)\n",
    "    ax.spines[\"right\"].set_visible(False)\n",
    "    ax.grid(True, axis=\"y\", color=\"white\", ls=\":\")\n",
    "\n",
    "ax1.spines[\"bottom\"].set_visible(True)\n",
    "ax4.spines[\"left\"].set_visible(False)\n",
    "\n",
    "legend_handles = []\n",
    "legend_labels = []\n",
    "for handle, label in zip(*ax2.get_legend_handles_labels()):\n",
    "    legend_handles.append(handle)\n",
    "    legend_labels.append(label.title() + f\" ({label[0].title()})\")\n",
    "\n",
    "for handle, label in zip(*ax3.get_legend_handles_labels()):\n",
    "    legend_handles.append(handle)\n",
    "    legend_labels.append(label)\n",
    "\n",
    "for i, ax in enumerate([ax1, ax2, ax3]):\n",
    "    ax.get_legend().remove()\n",
    "    ratio_x, ratio_y = 0.95, 0.9\n",
    "    if i == 2:\n",
    "        ratio_x = 0.05\n",
    "        ratio_y = 0.406\n",
    "    x, y = get_position_by_ratio(ax, ratio_x, ratio_y)\n",
    "    label = [\"A.\", \"B.\", \"C.\"][i]\n",
    "    ax.text(x, y, label, ha=\"center\", va=\"center\", weight=\"bold\", size=\"large\")\n",
    "\n",
    "fig.legend(\n",
    "    loc=(0.46, 0.60),\n",
    "    ncol=1,\n",
    "    handles=legend_handles,\n",
    "    labels=legend_labels,\n",
    "    handletextpad=1,\n",
    "    handleheight=1,\n",
    "    markerscale=1,\n",
    "    frameon=False,\n",
    "    title=\"Legend:\",\n",
    "    title_fontproperties={\"weight\": \"bold\", \"size\": 10},\n",
    ")\n",
    "\n",
    "# 储存和显示图片\n",
    "# plt.savefig(\"../figures/main/index.pdf\", dpi=300)\n",
    "# plt.savefig(\"../figures/main/index.jpg\", dpi=300)\n",
    "plt.show();"
   ]
  },
  {
   "cell_type": "code",
   "execution_count": null,
   "metadata": {
    "tags": []
   },
   "outputs": [],
   "source": [
    "temp_df = iwgi.loc[2001:2013, [\"P\", \"A\", \"S\"]].mean()\n",
    "\n",
    "temp_df / temp_df.sum()"
   ]
  },
  {
   "cell_type": "code",
   "execution_count": null,
   "metadata": {
    "tags": []
   },
   "outputs": [],
   "source": [
    "corr_results"
   ]
  },
  {
   "cell_type": "markdown",
   "metadata": {},
   "source": [
    "## 对阈值变化的敏感性分析"
   ]
  },
  {
   "cell_type": "raw",
   "metadata": {},
   "source": [
    "from tools.statistic import Pettitt_change_points\n",
    "fig, ax = plt.subplots()\n",
    "x = np.linspace(0.000001, 0.05, 50000)\n",
    "y = []\n",
    "for p in x:\n",
    "    periods = Pettitt_change_points(iwru, p_shr=p)\n",
    "    y.append(len(periods))\n",
    "\n",
    "ax.scatter(np.log10(x), y, color='gray', s=5)\n",
    "ax.set_xlabel(\"The shreshold of p-value\")\n",
    "ax.set_ylabel(\"Number of the breakpoints\")"
   ]
  },
  {
   "cell_type": "raw",
   "metadata": {},
   "source": [
    "# 绘图\n",
    "fig = plt.figure(constrained_layout=True, figsize=(6, 4))\n",
    "# fig.subplots_adjust(left=0.15, right=0.95, top=.95, bottom=.10)\n",
    "\n",
    "gs = GridSpec(2, 2, figure=fig)\n",
    "ax1 = fig.add_subplot(gs[0, :])\n",
    "ax2 = fig.add_subplot(gs[1, 0])\n",
    "ax3 = fig.add_subplot(gs[1, 1])\n",
    "\n",
    "ax1.semilogx(x, y, color='gray', ls='-.', )\n",
    "ax1.set_xlabel(\"Threshold of $p$\")\n",
    "ax1.set_ylabel(\"Breakpoints\")\n",
    "ax1.set_yticks(range(0, 3, 1))\n",
    "ax1.set_ylim(-0.5, 2.5)\n",
    "\n",
    "for ax in [ax2, ax3]:\n",
    "    ax.set_xlabel(\"Year\")\n",
    "    ax.set_ylabel(\"IWGI\")\n",
    "    \n",
    "plot_pittitt_change_points(iwru, ax=ax2, p_shr=0.0005, edgecolor='white', alpha=0.6)\n",
    "plot_pittitt_change_points(iwru, ax=ax3, p_shr=0.05, edgecolor='white', alpha=0.6)\n",
    "\n",
    "plt.savefig(\"../figures/sup/sensitivity.pdf\", format='pdf')\n",
    "plt.show();"
   ]
  }
 ],
 "metadata": {
  "kernelspec": {
   "display_name": "Python 3 (ipykernel)",
   "language": "python",
   "name": "python3"
  },
  "language_info": {
   "codemirror_mode": {
    "name": "ipython",
    "version": 3
   },
   "file_extension": ".py",
   "mimetype": "text/x-python",
   "name": "python",
   "nbconvert_exporter": "python",
   "pygments_lexer": "ipython3",
   "version": "3.11.2"
  },
  "toc": {
   "base_numbering": 1,
   "nav_menu": {},
   "number_sections": true,
   "sideBar": true,
   "skip_h1_title": false,
   "title_cell": "Table of Contents",
   "title_sidebar": "Contents",
   "toc_cell": false,
   "toc_position": {
    "height": "calc(100% - 180px)",
    "left": "10px",
    "top": "150px",
    "width": "165px"
   },
   "toc_section_display": true,
   "toc_window_display": false
  }
 },
 "nbformat": 4,
 "nbformat_minor": 4
}
