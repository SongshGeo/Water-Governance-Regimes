{
 "cells": [
  {
   "cell_type": "markdown",
   "metadata": {},
   "source": [
    "# 全局设置"
   ]
  },
  {
   "cell_type": "code",
   "execution_count": 1,
   "metadata": {},
   "outputs": [],
   "source": [
    "# 加载必要的包\n",
    "import pandas as pd\n",
    "import numpy as np\n",
    "from matplotlib import pyplot as plt\n",
    "%matplotlib inline\n",
    "import matplotlib.colors\n",
    "import sys\n",
    "sys.path.append(\"..\")\n",
    "\n",
    "# 自己写的，Pettitt方法检测时间序列断点\n",
    "from tools.statistic import plot_pittitt_change_points, Pettitt_change_points, plot_slopes\n",
    "from tools.statistic import ratio_contribution, plot_ratio_contribution\n",
    "from tools.processing import get_position_by_ratio"
   ]
  },
  {
   "cell_type": "code",
   "execution_count": 2,
   "metadata": {},
   "outputs": [],
   "source": [
    "# 绘图全局设置\n",
    "# %config InlineBackend.figure_format ='retina'\n",
    "import matplotlib.colors as col\n",
    "from matplotlib.gridspec import GridSpec\n",
    "plt.rcParams['xtick.direction'] = 'in'\n",
    "plt.rcParams['ytick.direction'] = 'out'\n",
    "\n",
    "period_colors = ['#0889A6', '#F1801F', '#006C43']\n",
    "region_colors = [\"#0077b6\", \"#e07a5f\", \"#f2cc8f\",\"#81b29a\"]\n",
    "index_colors = ['#CFA7D1', '#79D6F0', '#E25A53']\n",
    "index_colormap = matplotlib.colors.ListedColormap(index_colors, 'indexed')\n",
    "total_water_use_color = '#D1495B'"
   ]
  },
  {
   "cell_type": "markdown",
   "metadata": {},
   "source": [
    "## 加载数据"
   ]
  },
  {
   "cell_type": "code",
   "execution_count": 3,
   "metadata": {},
   "outputs": [],
   "source": [
    "# 加载阈值为 0.05的数据，即与黄河流域相交面积大于全市总面积 5% 的所有市\n",
    "city_yr = pd.read_csv('../data/perfectures/yr/perfectures_in_YR_with_threshold_0.05.csv')"
   ]
  },
  {
   "cell_type": "markdown",
   "metadata": {},
   "source": [
    "# 非直接用水比例\n",
    "\n",
    "## 方法介绍\n",
    "\n",
    "间接用水比例（Indirect Proportion of Water Use）来指示供水优先性，用于描述被消耗的水资源中，以间接形式惠益于人类的部分。\n",
    "\n",
    "计算方法：\n",
    "$$ I_{P} = \\frac{WU_{non-pro}}{WU_{pro} + WU_{non-pro}} $$\n",
    "\n",
    "其中i是年份，indirect和direct分别是为人类间接带来惠益的取用水方式和带来直接惠益取用水方式\n",
    "\n",
    "indirect包括： \n",
    "- 工业用水量（IND），每年用于工业目的的取水量，包括自给自足的工业和与公共供水网络连接的工业。\n",
    "- 城市服务业用水量（Urban service WU），指公共供水网络每年用于服务活动的直接用水量。\n",
    "\n",
    "direct包括：\n",
    "- 农业灌溉用水总量（IRR）：每年抽取的灌溉用水量，包括运输和田间施用期间的损失，但不包括牧场或水产养殖用水\n",
    "- 城市居民用水（Urban domestic WU）：公共供水网络每年用于城镇居民直接取水的水量\n",
    "- 农村居民用水（Rural domestic WU）：公共供水网络每年用于农村居民和牲畜直接使用的取水量\n",
    "- 农村牲畜用水（Rural livestock WU）：公共供水网络用于牲畜饮水和清洁的年度取水量"
   ]
  },
  {
   "cell_type": "code",
   "execution_count": 4,
   "metadata": {},
   "outputs": [],
   "source": [
    "# 产生直接惠益的用水方式\n",
    "direct = ['IRR', 'Urban domestic WU', 'Rural domestic WU', 'Rural livestock WU']\n",
    "\n",
    "# 产生间接惠益的用水方式\n",
    "undirect = ['IND', 'Urban service WU']\n",
    "\n",
    "# 间接用水量\n",
    "undirect_water_use = city_yr.groupby('Year').sum()[undirect]\n",
    "\n",
    "# 总用水量\n",
    "total_water_use = city_yr.groupby('Year').sum()['Total water use']\n",
    " \n",
    "# 整个流域的间接惠益用水占比\n",
    "priority = undirect_water_use.sum(axis=1) / total_water_use\n",
    "\n",
    "# 计算贡献\n",
    "undirect_water_use.columns = [\"Industry\", \"Service\"]\n",
    "priority_contributions = ratio_contribution(numerator=undirect_water_use, denominator=total_water_use)"
   ]
  },
  {
   "cell_type": "code",
   "execution_count": 5,
   "metadata": {
    "tags": []
   },
   "outputs": [
    {
     "data": {
      "image/png": "[encoded data removed]",
      "text/plain": [
       "<Figure size 576x216 with 2 Axes>"
      ]
     },
     "metadata": {
      "needs_background": "light"
     },
     "output_type": "display_data"
    }
   ],
   "source": [
    "# 绘图\n",
    "fig = plt.figure(figsize=(8, 3), constrained_layout=True)\n",
    "gs = GridSpec(1, 2, figure=fig, width_ratios=[3, 4])\n",
    "ax1 = fig.add_subplot(gs[0, 0])\n",
    "ax2 = fig.add_subplot(gs[0, 1])\n",
    "\n",
    "# 绘制图1\n",
    "plot_pittitt_change_points(priority, change_points=[1977, 1993], ax=ax1, colors=period_colors)\n",
    "\n",
    "# 绘制图2\n",
    "plot_ratio_contribution(priority_contributions,\n",
    "                        ax=ax2,\n",
    "                        colors=region_colors,\n",
    "                        denominator_color=total_water_use_color,\n",
    "                        denominator_label='Total')\n",
    "\n",
    "# 修饰图1\n",
    "ax1.set_ylabel(\"Indirect Proportion of Water Use, configuration\")\n",
    "ax1.set_xlabel(\"Year\")\n",
    "ax1.set_yticks(np.arange(0.08, 0.21, 0.04))\n",
    "ax1.set_ylim(0.08, 0.21)\n",
    "ax1.text(1968, 0.2, 'a.', ha='center', va='center', weight='bold', size='large')\n",
    "\n",
    "# 修饰图2\n",
    "ax2.set_xlabel(\"Different periods\")\n",
    "ax2.set_ylabel(\"Changes of configuration\")\n",
    "ax2.tick_params(axis='x', tickdir='in', bottom=False, labelrotation=0)\n",
    "ax2.axhline(0., lw=2, color='gray')\n",
    "ax2.set_ylim(-0.08, 0.08)\n",
    "ax2.set_yticks(np.arange(-0.08, 0.081, 0.04))\n",
    "ax2.axvline(1.5, ls=':', color='gray', lw=1.5)\n",
    "ax2.axvline(0.5, ls=':', color='gray', lw=1.5)\n",
    "ax2.text(2.4, 0.065, 'b.', ha='center', va='center', weight='bold', size='large')\n",
    "\n",
    "# 调整坐标轴显示\n",
    "for ax in [ax1, ax2]:\n",
    "    ax.spines['top'].set_visible(False)\n",
    "    ax.spines['bottom'].set_visible(False)\n",
    "    ax.spines['left'].set_visible(True)\n",
    "    ax.spines['right'].set_visible(False)\n",
    "ax1.spines['bottom'].set_visible(True)\n",
    "\n",
    "# 出图\n",
    "plt.show();"
   ]
  },
  {
   "cell_type": "markdown",
   "metadata": {},
   "source": [
    "# 配水指数\n",
    "\n",
    "## 方法介绍\n",
    "\n",
    "模仿熵的公式，我们设计了一个衡量分配平均度的指标“配水指数(Water Distribution Index, WDI)”。我们假设最平均的水分配情况是，为每个行政区域某个部门分配到的用水量，都等于全流域该部门的平均用水比例。但实际上区域有别，有的区域会更集中发展某个用水部门，这就导致了水的分配不够平均，使得分配熵增大。而实际的分配情况与假设的平均分配情况，即为配水指数WDI，**WDI越大代表分配越平均，越小代表分配越不均匀**\n",
    "\n",
    "![entropy](https://gitee.com/SongshGeo/PicGo_picbed/raw/master/img/diagram_water_distribution_index.jpg)\n",
    "\n",
    "例如在上图中，左边展示的是假设的区域间均匀分配的情况。后者则是实际中分工各有差异，发展各有先后的情况。"
   ]
  },
  {
   "cell_type": "markdown",
   "metadata": {},
   "source": [
    "我们使用 Configuration Entropy Metric $CEM$ 来表达这种配置上的均匀性\n",
    "\n",
    "$$ CEM = \\sum_{i=1}^n -log(p_{i}) * p_{i} $$\n",
    "\n",
    "其中$i$ 代表配置水资源的单位（区域 or 部门） $p_i$ 代表了其中一个单位$i$分到水的比例。\n",
    "对不同区域来说，当水资源完全平均分配，即对任意区域$i$，都有$p_i = 1/n $时，$Entropy$取最大值：\n",
    "\n",
    "$$ CEM_{max} = \\sum_{i=1}^n -log(p_{i}) * p_{i} = - log(\\frac{1}{n}) $$"
   ]
  },
  {
   "cell_type": "markdown",
   "metadata": {},
   "source": [
    "可见，$CEM$ 指标度量的是水资源配置“不均匀”的程度，类似于信息熵是对“混乱程度”的度量，即参与分配的各个单位之间，分配比例差距越大，则熵越小。\n",
    "而我们的指标应反映随着社会发展，水资源配置在区域之间更加均衡（比例差距小）、整体满足不同用水部门的发展需求（比例差距减小）、但不同区域存在部门分工（比例差距增大）的趋势。\n",
    "\n",
    "因此，用$CEM_r$代表流域各区域间的CEM，$CEM_s$代表流域各部门间的CEM, $CEM_{rs}$代表区域各部门间的CEM（详见附录）我们获得了表征流域用水配置的指标$I_C$：\n",
    "\n",
    "$$ I_C = \\frac{CEM_{r}*CEM_{s}}{CEM_{rs}}$$\n"
   ]
  },
  {
   "cell_type": "markdown",
   "metadata": {},
   "source": [
    "### 配置熵指标：补充材料部分\n",
    "衡量水资源配置的指标$I_C$由三部分水资源配置熵指标（CEM）构成：\n",
    "\n",
    "$$ I_C = \\frac{CEM_{r}*CEM_{s}}{CEM_{rs}}$$\n",
    "\n",
    "(1) 描述区域间水资源配置的 $CEM_r$：\n",
    "\n",
    "$$ CEM_r = \\sum_{i=1}^4 -log(p_{i}) * p_{i} $$\n",
    "\n",
    "其中$p_i$是区域$i$（$i=1$ to $4$ 分别代表 SR, UR, MR, or, DR）的水资源使用量（$WU_i$）在所有区域水资源消耗总量中所占的比例，即:\n",
    "\n",
    "$$ p_i = \\frac{WU_i}{\\sum_{i=1}^4 WU_i} $$\n",
    "\n",
    "(2) 描述部门间水资源配置的 $CEM_s$:\n",
    "\n",
    "$$ CEM_s = \\sum_{j=1}^3 -log(p_{j}) * p_{j} $$\n",
    "\n",
    "其中$p_j$是用水部门$j$（$j=1$ to $3$ 分别代表 agriculture, industry, domestic and services）的水资源使用量（$WU_j$）在所有部门水资源消耗总量中所占的比例，即:\n",
    "\n",
    "$$ p_j = \\frac{WU_j}{\\sum_{j=1}^3 WU_j} $$\n"
   ]
  },
  {
   "cell_type": "markdown",
   "metadata": {},
   "source": [
    "(3) 描述区域各部门间水资源配置分工的 $CEM_{rs}$:\n",
    "\n",
    "$$ CEM_{rs} = \\frac{1}{3} * \\sum_{j=1}^3 \\sum_{i=1}^4 -log(p_{ij} * p_{ij})$$\n",
    "\n",
    "其中$p_{ij}$是区域$i$在部门$j$上的用水$WU_{ij}$占所有区域在部门$j$上总用水的比例，即：\n",
    "\n",
    "$$ p_{ij} = \\frac{WU_ij}{\\sum_{i=1}^4 WU_ij} $$"
   ]
  },
  {
   "cell_type": "code",
   "execution_count": 6,
   "metadata": {},
   "outputs": [],
   "source": [
    "# 各区域每年的总用水\n",
    "wu_cols = ['IRR', 'IND', 'DOM']\n",
    "city_yr['DOM'] = city_yr['RUR'] + city_yr['URB']  # 人居耗水\n",
    "region_consumption = city_yr.groupby(['Year', 'Region'])[wu_cols].sum()  # 每个区域的总耗水量\n",
    "\n",
    "results = {}\n",
    "for yr in city_yr['Year'].unique():\n",
    "    \n",
    "    data = region_consumption.loc[yr].replace(0., 0.0000000001)  # 有一些数值为0的数据，填补为很小\n",
    "    # 区域之间的指数\n",
    "    region_p = data.sum(axis=1) / data.sum().sum()  # 每个区域分到的水资源比例\n",
    "    region_entropy = np.sum(- region_p * np.log(region_p))  # 区域之间分配水资源的熵\n",
    "    \n",
    "    # 对每个区域：将各部门的用水量换算成比率 p，计算每个区域不同用水部门之间分配的熵，再取各个区域的均值\n",
    "    section_entropy = (\n",
    "        data\n",
    "        .apply(lambda row: row/row.sum(), axis=0)  # 某个行业上用的水，在各个区域之间的分配比例\n",
    "        .apply(lambda row: row.apply(lambda p: -p*np.log(p)).sum(), axis=0)  # 每一列计算熵（同行业在不同区域之间的分配均匀性）\n",
    "        .mean()  # 再全流域（四个区域之间）平均\n",
    "    )\n",
    "    section_max_p = data.sum() / data.sum().sum()  # 每个行业的耗水比例\n",
    "    section_max_entropy = section_max_p.apply(lambda p: -p*np.log(p)).sum()  # 每个行业，全流域的平均分配比例上\n",
    "    section_index = section_entropy / section_max_entropy\n",
    " \n",
    "    # 区域的指数 / 部门的指数\n",
    "    index_ratio = region_entropy / section_index\n",
    "\n",
    "    results[yr] = {\n",
    "        'Regions': region_entropy,\n",
    "        'Divisions': section_entropy,\n",
    "        'Sectors': section_max_entropy,\n",
    "        'Ratio': index_ratio,\n",
    "    }\n",
    "    \n",
    "index_result = pd.DataFrame(results).T\n",
    "\n",
    "entropy_contributions = ratio_contribution(numerator=index_result[['Sectors', 'Regions']], denominator=index_result['Divisions'])\n",
    "\n",
    "# Configuration\n",
    "configuration = index_result['Ratio']"
   ]
  },
  {
   "cell_type": "code",
   "execution_count": 7,
   "metadata": {
    "tags": []
   },
   "outputs": [
    {
     "data": {
      "image/png": "[encoded data removed]",
      "text/plain": [
       "<Figure size 576x216 with 2 Axes>"
      ]
     },
     "metadata": {
      "needs_background": "light"
     },
     "output_type": "display_data"
    }
   ],
   "source": [
    "# 绘图\n",
    "fig = plt.figure(figsize=(8, 3), constrained_layout=True)\n",
    "gs = GridSpec(1, 2, figure=fig, width_ratios=[3, 4])\n",
    "ax1 = fig.add_subplot(gs[0, 0])\n",
    "ax2 = fig.add_subplot(gs[0, 1])\n",
    "\n",
    "# 绘图ax1\n",
    "configuration_slopes = plot_pittitt_change_points(index_result['Ratio'], change_points=[1977, 1993], ax=ax1, colors=period_colors)\n",
    "# 绘图ax2\n",
    "plot_ratio_contribution(entropy_contributions, denominator_color=region_colors[2], denominator_label=\"Divisions\", ax=ax2)\n",
    "\n",
    "# 修饰图1\n",
    "ax1.set_ylabel(\"Water Distribution Index, WDI\")\n",
    "ax1.set_xlabel(\"Year\")\n",
    "# ax1.set_yticks(np.arange(0.28, 0.62, 0.10))\n",
    "# ax1.set_ylim(0.28, 0.64)\n",
    "# ax1.text(1998, 0.60, 'a.', ha='center', va='center', weight='bold', size='large')\n",
    "\n",
    "# 修饰图2\n",
    "ax2.set_xlabel(\"Different periods\")\n",
    "ax2.set_ylabel(\"Changes of WDI\")\n",
    "ax2.tick_params(axis='x', tickdir='in', bottom=False, labelrotation=0)\n",
    "ax2.axhline(0., lw=2, color='gray')\n",
    "ax2.axvline(1.5, ls=':', color='gray', lw=1.5)\n",
    "ax2.axvline(0.5, ls=':', color='gray', lw=1.5)\n",
    "# ax2.text(2.4, 0.140, 'b.', ha='center', va='center', weight='bold', size='large')\n",
    "\n",
    "# 调整坐标轴显示\n",
    "for ax in [ax1, ax2]:\n",
    "    ax.spines['top'].set_visible(False)\n",
    "    ax.spines['bottom'].set_visible(False)\n",
    "    ax.spines['left'].set_visible(True)\n",
    "    ax.spines['right'].set_visible(False)\n",
    "ax1.spines['bottom'].set_visible(True)\n",
    "\n",
    "# 出图\n",
    "plt.show();"
   ]
  },
  {
   "cell_type": "markdown",
   "metadata": {},
   "source": [
    "# SFV结构性缺水指数\n",
    "\n",
    "## 方法介绍\n",
    "\n",
    "人类利用科技手段不断的管理水资源，因此简单的物理缺水指数无法合理评估结构性水资源短缺在社会-水系统演化与过渡中所起的作用。因此，我们参考 Qin et al., 2019中提出的结构性缺水指数来评价流域缺水。该指数考虑了修建水库等管理措施，以及用水结构变化对水资源短缺情况评价的影响。\n",
    "\n",
    "利用该方法指示水资源压力$I_S$，认为全流域的水资源压力是各区域SFV指数的均值，即：\n",
    "\n",
    "$$ I_S = \\frac{1}{4} * \\sum_{i=1}^4 SFV_{i} $$\n",
    "\n",
    "而计算某区域$i$的SFV指数，需要考虑三个权重相等的方面，标准化后计算SFV指数：\n",
    "$$ SFV_i = a * V_i + b $$\n",
    "$$ V_i = \\frac{A_{i, normalize} + B_{i, normalize} + C_{i, normalize}}{3} $$\n",
    "$$ a = \\frac{1}{V_{max} - V_{min}}; $$\n",
    "$$ b = \\frac{1}{V_{min} - V_{max}} * V_{min} $$\n",
    "\n",
    "（注：原文献中使用的常数为100，得到的指数结果位于$0~100$之间，这里为了和其余两指数保持$0~1$的相同数量级，将该系数调整为1）\n",
    "- 首先是总的耗水量占区域多年平均径流量的比例：\n",
    "$$ A_{i, j} = \\frac{WU_{i,j}}{R_{i, avg}} $$\n",
    "\n",
    "其中平均径流量用如下公式计算：\n",
    "$$ R_{i, avg} = \\frac{1}{j} * \\sum_{j=1}^j R_{i} $$\n",
    "\n",
    "- 其次是非弹性用水量占多年平均径流量的比例：\n",
    "$$ B_{i, j} = \\frac{WU_{inflexible}}{R_{i, avg}} $$\n",
    "\n",
    "对于非弹性用水，Qin在文章中给出了如下划分：\n",
    "For inflexible consumption, we include (according to Qin et al., 2019):    \n",
    "- (1) Freshwater consumed for irrigation of perennial crops.\n",
    "- (2) Water  evaporated during cooling of thermal power plants. √\n",
    "- (3) Water evaporated from reservoirs.\n",
    "- (4) Basic water allotments for humans and livestock. √\n",
    "\n",
    "由于数据限制，本研究中，取其中（2）、（4）的和为非弹性用水。\n",
    "\n",
    "- 最后，还要考虑水库的库容能力及调蓄作用对应对天然径流波动的积极影响：\n",
    "$$ C1_{i, j} = \\frac{R_{i, std}}{R_{i, avg}} $$\n",
    "\n",
    "$$ C2_{i} = \\frac{RC_{i}}{R_{i, avg}}, \\ if RC < R_{i, avg} $$\n",
    "\n",
    "$$ C2_{i} = 1, \\ if RC >= R_{i, avg} $$\n",
    "\n",
    "$$ C_i = C1_i * (1 - C2_i) $$\n",
    "\n",
    "其中$RC_i$是该区域的水库总库容，$R_{i, std}$是多年径流的标准差，衡量天然径流的波动。\n",
    "\n",
    "Qin, Y. et al. Flexibility and intensity of global water use. Nature Sustainability 2, 515–523 (2019)."
   ]
  },
  {
   "cell_type": "code",
   "execution_count": 8,
   "metadata": {},
   "outputs": [],
   "source": [
    "# 加载径流和水库数据\n",
    "use_cols = {\n",
    "    '唐乃亥': 'SR',  # 唐乃亥控制源区\n",
    "    '头道拐': 'UR',  # 头道拐控制上游\n",
    "    '花园口': 'MR',  # 花园口控制中游\n",
    "    '利津': 'DR'     # 利津控制下游\n",
    "}\n",
    "measured_runoff = pd.read_csv(r'../data/hydrology/1956-2016_runoff.csv', index_col='年份')\n",
    "measured_runoff = measured_runoff.loc[:, use_cols.keys()]\n",
    "measured_runoff.rename(use_cols, axis=1, inplace=True)"
   ]
  },
  {
   "cell_type": "code",
   "execution_count": 9,
   "metadata": {},
   "outputs": [],
   "source": [
    "# 水库库容数据\n",
    "reservoirs_capacity = pd.read_csv(r'../data/hydrology/cum_reservoirs.csv',\n",
    "                                  index_col=0)\n",
    "\n",
    "# 水库库容累积相加数据\n",
    "reservoirs_capacity_cumulating = reservoirs_capacity.cumsum()"
   ]
  },
  {
   "cell_type": "code",
   "execution_count": 10,
   "metadata": {},
   "outputs": [
    {
     "data": {
      "text/html": [
       "<div>\n",
       "<style scoped>\n",
       "    .dataframe tbody tr th:only-of-type {\n",
       "        vertical-align: middle;\n",
       "    }\n",
       "\n",
       "    .dataframe tbody tr th {\n",
       "        vertical-align: top;\n",
       "    }\n",
       "\n",
       "    .dataframe thead th {\n",
       "        text-align: right;\n",
       "    }\n",
       "</style>\n",
       "<table border=\"1\" class=\"dataframe\">\n",
       "  <thead>\n",
       "    <tr style=\"text-align: right;\">\n",
       "      <th></th>\n",
       "      <th>Year</th>\n",
       "      <th>Region</th>\n",
       "      <th>City_ID</th>\n",
       "      <th>Total water use</th>\n",
       "      <th>IRR</th>\n",
       "      <th>IND</th>\n",
       "      <th>RUR</th>\n",
       "      <th>URB</th>\n",
       "      <th>Urban domestic WU</th>\n",
       "      <th>Rural domestic WU</th>\n",
       "      <th>Rural livestock WU</th>\n",
       "      <th>Urban service WU</th>\n",
       "      <th>Thermal WU</th>\n",
       "    </tr>\n",
       "  </thead>\n",
       "  <tbody>\n",
       "    <tr>\n",
       "      <th>0</th>\n",
       "      <td>1965</td>\n",
       "      <td>UR</td>\n",
       "      <td>C27</td>\n",
       "      <td>3.285860</td>\n",
       "      <td>3.005177</td>\n",
       "      <td>0.117663</td>\n",
       "      <td>0.090214</td>\n",
       "      <td>0.072806</td>\n",
       "      <td>0.053977</td>\n",
       "      <td>0.058185</td>\n",
       "      <td>0.032029</td>\n",
       "      <td>0.018829</td>\n",
       "      <td>0.004365</td>\n",
       "    </tr>\n",
       "    <tr>\n",
       "      <th>1</th>\n",
       "      <td>1966</td>\n",
       "      <td>UR</td>\n",
       "      <td>C27</td>\n",
       "      <td>3.519960</td>\n",
       "      <td>3.235953</td>\n",
       "      <td>0.119966</td>\n",
       "      <td>0.090686</td>\n",
       "      <td>0.073354</td>\n",
       "      <td>0.054876</td>\n",
       "      <td>0.057330</td>\n",
       "      <td>0.033356</td>\n",
       "      <td>0.018478</td>\n",
       "      <td>0.003637</td>\n",
       "    </tr>\n",
       "    <tr>\n",
       "      <th>2</th>\n",
       "      <td>1967</td>\n",
       "      <td>UR</td>\n",
       "      <td>C27</td>\n",
       "      <td>3.724324</td>\n",
       "      <td>3.400632</td>\n",
       "      <td>0.172264</td>\n",
       "      <td>0.080629</td>\n",
       "      <td>0.070799</td>\n",
       "      <td>0.053929</td>\n",
       "      <td>0.046496</td>\n",
       "      <td>0.034134</td>\n",
       "      <td>0.016870</td>\n",
       "      <td>0.010638</td>\n",
       "    </tr>\n",
       "    <tr>\n",
       "      <th>3</th>\n",
       "      <td>1968</td>\n",
       "      <td>UR</td>\n",
       "      <td>C27</td>\n",
       "      <td>3.914576</td>\n",
       "      <td>3.526895</td>\n",
       "      <td>0.224933</td>\n",
       "      <td>0.088092</td>\n",
       "      <td>0.074656</td>\n",
       "      <td>0.056472</td>\n",
       "      <td>0.053221</td>\n",
       "      <td>0.034871</td>\n",
       "      <td>0.018184</td>\n",
       "      <td>0.015332</td>\n",
       "    </tr>\n",
       "    <tr>\n",
       "      <th>4</th>\n",
       "      <td>1969</td>\n",
       "      <td>UR</td>\n",
       "      <td>C27</td>\n",
       "      <td>4.061363</td>\n",
       "      <td>3.657395</td>\n",
       "      <td>0.197515</td>\n",
       "      <td>0.120128</td>\n",
       "      <td>0.086325</td>\n",
       "      <td>0.063396</td>\n",
       "      <td>0.084373</td>\n",
       "      <td>0.035755</td>\n",
       "      <td>0.022929</td>\n",
       "      <td>0.008404</td>\n",
       "    </tr>\n",
       "  </tbody>\n",
       "</table>\n",
       "</div>"
      ],
      "text/plain": [
       "   Year Region City_ID  Total water use       IRR       IND       RUR  \\\n",
       "0  1965     UR     C27         3.285860  3.005177  0.117663  0.090214   \n",
       "1  1966     UR     C27         3.519960  3.235953  0.119966  0.090686   \n",
       "2  1967     UR     C27         3.724324  3.400632  0.172264  0.080629   \n",
       "3  1968     UR     C27         3.914576  3.526895  0.224933  0.088092   \n",
       "4  1969     UR     C27         4.061363  3.657395  0.197515  0.120128   \n",
       "\n",
       "        URB  Urban domestic WU  Rural domestic WU  Rural livestock WU  \\\n",
       "0  0.072806           0.053977           0.058185            0.032029   \n",
       "1  0.073354           0.054876           0.057330            0.033356   \n",
       "2  0.070799           0.053929           0.046496            0.034134   \n",
       "3  0.074656           0.056472           0.053221            0.034871   \n",
       "4  0.086325           0.063396           0.084373            0.035755   \n",
       "\n",
       "   Urban service WU  Thermal WU  \n",
       "0          0.018829    0.004365  \n",
       "1          0.018478    0.003637  \n",
       "2          0.016870    0.010638  \n",
       "3          0.018184    0.015332  \n",
       "4          0.022929    0.008404  "
      ]
     },
     "execution_count": 10,
     "metadata": {},
     "output_type": "execute_result"
    }
   ],
   "source": [
    "## 提取非灵活用水的数据\n",
    "\n",
    "# 与基本信息有关的列\n",
    "use_cols = ['Year', 'Region', 'City_ID']\n",
    "\n",
    "# 与耗水量有关的列\n",
    "wu_cols = [\n",
    "    'Total water use',\n",
    "    'IRR', 'IND', 'RUR', 'URB', \n",
    "    'Urban domestic WU', 'Rural domestic WU', \n",
    "    'Rural livestock WU', 'Urban service WU',\n",
    "    'Industrial gross value added (GVA): Thermal electrivity',\n",
    "    'Industrial WUI: Thermal electrivity'\n",
    "]\n",
    "\n",
    "# 不具备弹性的用水类别\n",
    "inflexible_wu = [\n",
    "    'Urban domestic WU',\n",
    "    'Rural domestic WU',\n",
    "    'Rural livestock WU',\n",
    "    'Thermal WU'  # 需要用 Thermal 的 WUI 和 GVA 相乘进行计算\n",
    "]\n",
    "\n",
    "use_cols.extend(wu_cols)  # 在计算SFV中所有使用的数据列\n",
    "\n",
    "# 加载所有使用的数据\n",
    "consumptions = city_yr[use_cols].copy()\n",
    "\n",
    "# 计算火电冷却用水的量\n",
    "consumptions['Thermal WU'] = consumptions['Industrial gross value added (GVA): Thermal electrivity'] * consumptions['Industrial WUI: Thermal electrivity']\n",
    "consumptions.drop(wu_cols[-2:], axis=1, inplace=True)  # 删除计算后的 WUI, GVA 数据\n",
    "\n",
    "for col in consumptions.columns:\n",
    "    if col in wu_cols or col in inflexible_wu:\n",
    "        consumptions[col] = consumptions[col] * 10   # 转化单位 km3 → 10^8 m3\n",
    "\n",
    "consumptions.head()"
   ]
  },
  {
   "cell_type": "markdown",
   "metadata": {},
   "source": [
    "## 计算三部分指数"
   ]
  },
  {
   "cell_type": "code",
   "execution_count": 11,
   "metadata": {},
   "outputs": [],
   "source": [
    "## 计算三个部分的指数\n",
    "\n",
    "# A 总耗水量 / 平均多年径流量\n",
    "total_water_use = consumptions.groupby(['Region', 'Year']).sum()['Total water use']\n",
    "\n",
    "regions = ['SR', 'UR', 'MR', 'DR']\n",
    "\n",
    "index_a = pd.DataFrame()\n",
    "for region in regions:\n",
    "    a = total_water_use.loc[region] / measured_runoff.mean(axis=0)[region]\n",
    "    index_a[region] = a\n",
    "    \n",
    "    \n",
    "# B 总不灵活耗水量 / 平均多年径流量\n",
    "inflexible_water_use = consumptions.groupby(['Region', 'Year']).sum()[inflexible_wu].sum(axis=1)\n",
    "\n",
    "index_b = pd.DataFrame()\n",
    "for region in regions:\n",
    "    b = inflexible_water_use.loc[region] / measured_runoff.mean(axis=0)[region]\n",
    "    index_b[region] = b\n",
    "    \n",
    "# C1\n",
    "index_c1 = measured_runoff.std() / measured_runoff.mean()\n",
    "\n",
    "# C2\n",
    "index_c2 = pd.DataFrame()\n",
    "for region in regions:\n",
    "    avg_runoff = measured_runoff[region].mean()\n",
    "    c2 = reservoirs_capacity_cumulating[region].apply(lambda x: x/avg_runoff if x < avg_runoff else 1)\n",
    "    index_c2[region] = c2\n",
    "    \n",
    "# C\n",
    "index_c = (1-index_c2) * index_c1"
   ]
  },
  {
   "cell_type": "markdown",
   "metadata": {},
   "source": [
    "## 标准化"
   ]
  },
  {
   "cell_type": "code",
   "execution_count": 12,
   "metadata": {
    "scrolled": true
   },
   "outputs": [],
   "source": [
    "# 标准化数据\n",
    "def normalization_horizontal(data):\n",
    "    sfv = pd.DataFrame(columns=[regions])\n",
    "    for row in data.itertuples():\n",
    "        year = row[0]\n",
    "        value = np.array(row[1:])\n",
    "        avg = np.mean(value)\n",
    "        std = np.std(value)\n",
    "        sfv.loc[year] = (value - avg) / std\n",
    "    return sfv\n",
    "\n",
    "\n",
    "# 新建空的 sfv_index 数据框，准备存储数据\n",
    "use_years = city_yr['Year'].unique()\n",
    "v_values = np.zeros(index_a.shape)\n",
    "for index in [index_a, index_b, index_c]:\n",
    "    index = normalization_horizontal(index.loc[use_years].copy())\n",
    "    v_values += index.values / 3\n",
    "    \n",
    "\n",
    "# 将V-values使用 SFV = a * V + b 转化为 SFV_index\n",
    "sfv_values = []\n",
    "for v_row in v_values:\n",
    "    a = 1 / (v_row.max() - v_row.min())\n",
    "    b = 1 * v_row.min() / (v_row.min() - v_row.max())\n",
    "    sfv = a * v_row + b\n",
    "    sfv_values.append(sfv)\n",
    "\n",
    "# 计算区域的SFV指数\n",
    "sfv_regions = pd.DataFrame(sfv_values, columns=regions, index=use_years)\n",
    "\n",
    "# 计算全域的平均SFV指数\n",
    "sfv = pd.Series(np.array(sfv_values).mean(axis=1), index=use_years)"
   ]
  },
  {
   "cell_type": "markdown",
   "metadata": {},
   "source": [
    "## 非灵活用水占比"
   ]
  },
  {
   "cell_type": "code",
   "execution_count": 13,
   "metadata": {},
   "outputs": [],
   "source": [
    "inflexible_water_use = consumptions.groupby(['Year']).sum()[inflexible_wu]\n",
    "inflexible_water_use_sum = inflexible_water_use.sum(axis=1)\n",
    "total_water_use = consumptions.groupby(['Year']).sum()['Total water use']\n",
    "\n",
    "# 非灵活用水占比\n",
    "inflexible_ratio = inflexible_water_use_sum / total_water_use\n",
    "\n",
    "# 非灵活用水贡献\n",
    "inflexible_contributions = ratio_contribution(numerator=inflexible_water_use, denominator=total_water_use)"
   ]
  },
  {
   "cell_type": "markdown",
   "metadata": {},
   "source": [
    "## SFV的三部分贡献"
   ]
  },
  {
   "cell_type": "code",
   "execution_count": 14,
   "metadata": {},
   "outputs": [
    {
     "data": {
      "image/png": "[encoded data removed]",
      "text/plain": [
       "<Figure size 432x288 with 1 Axes>"
      ]
     },
     "metadata": {
      "needs_background": "light"
     },
     "output_type": "display_data"
    }
   ],
   "source": [
    "def get_index_yr(start_yr, end_yr):\n",
    "    differences = []\n",
    "    for index in [index_a, index_b, index_c]:\n",
    "        data = normalization_horizontal(index)\n",
    "        differences.append((data.loc[end_yr] - data.loc[start_yr])/3)\n",
    "    return differences\n",
    "\n",
    "sfv_contribution = pd.DataFrame()\n",
    "sfv_contribution = sfv_contribution.append(get_index_yr(1965, 1977))\n",
    "sfv_contribution = sfv_contribution.append(get_index_yr(1978, 1993))\n",
    "sfv_contribution = sfv_contribution.append(get_index_yr(1994, 2013))\n",
    "\n",
    "# ================================== 作图 =============================\n",
    "fig, ax = plt.subplots()\n",
    "\n",
    "def sfv_contribution_plot(ax):\n",
    "    width = 0.16\n",
    "    alpha = 1\n",
    "    for i in range(3):\n",
    "        data = sfv_contribution.iloc[i*3:i*3+3]  # 数据\n",
    "        period = \"P{}\".format(i+1)  # 哪个阶段\n",
    "        bottoms_pos = [0, 0, 0, 0]  # 正方向的底\n",
    "        bottoms_neg = [0, 0, 0, 0]  # 反方向的底\n",
    "        for j, row in enumerate(data.itertuples(index=False)):\n",
    "            index = [\"Scarcity\", \"Flexibility\", \"Variability\"][j]\n",
    "            color = ['#CFA7D1', '#79D6F0', '#E25A53'][j]\n",
    "            for d, height in enumerate(row):\n",
    "                region = ['SR', 'UR', 'MR', 'DR'][d]\n",
    "                position = i - 1.5 * width + d * width\n",
    "                if j == 0 and i == 0:\n",
    "                    ax.text(position, 0.4, region, size=6, va=\"center\", ha=\"center\")\n",
    "                if height >= 0:\n",
    "                    bottom = bottoms_pos[d]\n",
    "                    if d == 1 and i == 1:\n",
    "                        ax.bar(x=position, height=height, bottom=bottom, width=width, color=color, alpha=alpha, edgecolor='lightgray', label=index)\n",
    "                    else:\n",
    "                        ax.bar(x=position, height=height, bottom=bottom, width=width, color=color, alpha=alpha, edgecolor='lightgray')\n",
    "                    bottoms_pos[d] += height\n",
    "                else:\n",
    "                    bottom = bottoms_neg[d]\n",
    "                    if d == 1 and i == 1:\n",
    "                        ax.bar(x=position, height=height, bottom=bottom, width=width, color=color, alpha=alpha, edgecolor='lightgray', label=index)\n",
    "                    else:\n",
    "                        ax.bar(x=position, height=height, bottom=bottom, width=width, color=color, alpha=alpha, edgecolor='lightgray')\n",
    "                    bottoms_neg[d] += height\n",
    "    ax.legend()\n",
    "    ax.axhline(y=0, ls=\"--\", lw=2, color='gray')\n",
    "    ax.axvline(1.5, ls=':', color='gray')\n",
    "    ax.axvline(0.5, ls=':', color='gray')\n",
    "    ax.set_ylabel(\"Index values\")\n",
    "    ax.set_xticks(np.arange(0, 2.1, 1))\n",
    "    ax.set_xlabel(\"Periods\")\n",
    "    ax.set_xticklabels([\"P1: 1965-1977\", \"P2: 1978-1993\", \"P3: 1994-2013\"])\n",
    "\n",
    "    ax.spines['top'].set_visible(False)\n",
    "    ax.spines['bottom'].set_visible(False)\n",
    "    ax.spines['left'].set_visible(True)\n",
    "    ax.spines['right'].set_visible(False)\n",
    "\n",
    "    ax.text(0, 0.5, \"Regions\", va='bottom', ha='center', size=8)\n",
    "    ax.annotate(\"\", xy=(-0.4, 0.45), xycoords='data',\n",
    "             xytext=(0.4, 0.45), textcoords='data',\n",
    "             arrowprops=dict(arrowstyle=\"<->\",\n",
    "                             connectionstyle='arc3'))\n",
    "\n",
    "sfv_contribution_plot(ax)\n",
    "plt.show();"
   ]
  },
  {
   "cell_type": "markdown",
   "metadata": {},
   "source": [
    "### 非灵活用水贡献"
   ]
  },
  {
   "cell_type": "code",
   "execution_count": 15,
   "metadata": {
    "tags": []
   },
   "outputs": [
    {
     "data": {
      "image/png": "[encoded data removed]",
      "text/plain": [
       "<Figure size 576x234 with 2 Axes>"
      ]
     },
     "metadata": {
      "needs_background": "light"
     },
     "output_type": "display_data"
    }
   ],
   "source": [
    "# 绘图\n",
    "fig = plt.figure(figsize=(8, 3.25), constrained_layout=True)\n",
    "gs = GridSpec(1, 2, figure=fig, width_ratios=[3, 4])\n",
    "ax1 = fig.add_subplot(gs[0, 0])\n",
    "ax2 = fig.add_subplot(gs[0, 1])\n",
    "\n",
    "# 绘制图片 1\n",
    "inflexible_slopes = plot_pittitt_change_points(inflexible_ratio, change_points=[1977, 1993], colors=period_colors, ax=ax1)\n",
    "\n",
    "# 绘制图片 2\n",
    "plot_ratio_contribution(inflexible_contributions, denominator_color=total_water_use_color, denominator_label='Total water use', ax=ax2)\n",
    "\n",
    "# 修饰图片 1\n",
    "ax1.set_xlabel(\"Year\")\n",
    "ax1.set_ylabel(\"Proportion of inflexible water use\")\n",
    "ax1.set_yticks(np.arange(0.04, 0.20, 0.05))\n",
    "ax1.legend(loc=2)\n",
    "ax1.text(2010, 0.05, 'a.', ha='center', va='center', weight='bold', size='large')\n",
    "\n",
    "# 修饰图片 2\n",
    "ax2.set_xlabel(\"Different periods\")\n",
    "ax2.set_ylabel(\"Changes of inflexible water use proportion\")\n",
    "ax2.axvline(1.5, ls=':', color='gray', lw=1.5)\n",
    "ax2.axvline(0.5, ls=':', color='gray', lw=1.5)\n",
    "ax2.axhline(0., lw=2, color='gray')\n",
    "ax2.set_yticks(np.arange(-0.05, 0.11, 0.05))\n",
    "ax2.set_ylim(-0.05, 0.11)\n",
    "ax2.text(2.4, -0.04, 'b.', ha='center', va='center', weight='bold', size='large')\n",
    "ax2.tick_params(axis='x', tickdir='in', bottom=False, labelrotation=0)\n",
    "\n",
    "# 调整坐标轴显示\n",
    "for ax in [ax1, ax2]:\n",
    "    ax.spines['top'].set_visible(False)\n",
    "    ax.spines['bottom'].set_visible(True)\n",
    "    ax.spines['left'].set_visible(True)\n",
    "    ax.spines['right'].set_visible(False)\n",
    "ax2.spines['bottom'].set_visible(False)\n",
    "\n",
    "# 出图\n",
    "# plt.savefig('../figures/sup/inflexible_wu.pdf', dpi=300)\n",
    "# plt.savefig('../figures/sup/inflexible_wu.jpg', dpi=300)\n",
    "plt.show();"
   ]
  },
  {
   "cell_type": "markdown",
   "metadata": {},
   "source": [
    "# 综合耦合指数\n",
    "\n",
    "我们认为水资源利用制度，与水资源利用的三个维度紧密相关：\n",
    "- 用水压力（stress, S）\n",
    "- 用水优先性（configuration, P）\n",
    "- 用水配置（priority, C）\n",
    "\n",
    "根据经验，我们认为这三者与社会发展$(Dev.)$具有方向性关系:\n",
    "\n",
    "- 社会的发展通常伴随着用水向社会经济系统倾斜，用水方式优先向收益更高的非供给性方式倾斜：\n",
    "$$ Dev \\propto P $$\n",
    "- 社会发展通常伴随着更具结构性的水资源配置，如区域部门之间的分工合作，以及区域的统筹配置：\n",
    "$$ Dev \\propto C $$ \n",
    "- 可持续的社会发展应该通过技术手段有效缓解发展过程中产生的水资源压力，才能实现可持续发展：\n",
    "$$ Dev \\propto S^{-1} $$\n",
    "\n",
    "将三者合一起，即：\n",
    "$$ Dev. \\propto P*C*S^{-1} $$\n",
    "\n",
    "在上述假设的基础上，我们要构建流域综合耦合指数(Integrated Water Resources Utilization, IWRU)，使 IWRU 有效表征与用水相关的三个维度。首先为每个维度选择一个合适的指示因子（indicator, $I_x$, 其中$x=P, C or S$）。将上式进行自然对数转换，从而让三个维度之间变成加减关系：\n",
    "$$ Dev. \\propto ln(I_P) + ln(I_C) - ln(I_S) $$\n",
    "\n",
    "然后为了给定 IWRU 确定的值域，同时让三个维度之间等权重，对三者进行标准化处理，得到我们的综合耦合指数 IWRU：\n",
    "$$ IWRU = norm(ln(I_P)) + norm(ln(I_C)) - norm(ln(I_S)) $$"
   ]
  },
  {
   "cell_type": "code",
   "execution_count": 16,
   "metadata": {},
   "outputs": [],
   "source": [
    "# 设置探索断点的显著性阈值\n",
    "p_shr = 0.0005\n",
    "\n",
    "# 计算全域耦合指数\n",
    "def zscore(x):\n",
    "    return (x-x.min())/(x.max()-x.min())\n",
    "\n",
    "# 第二种 Z-score 标准化方法，对断点无影响\n",
    "# def zscore(x):\n",
    "#     average = x.mean()\n",
    "#     stddev = x.std()\n",
    "#     return (x-average)/stddev\n",
    "\n",
    "\n",
    "# # 第三种 [-1, 1] 之间的标准化，也对断点无影响\n",
    "# def zscore(x):\n",
    "#     return (x-x.mean())/(x.max()-x.min())\n",
    "\n",
    "norm_priority, norm_configuration, norm_sfv = zscore(np.log(priority)), zscore(np.log(configuration)), zscore(np.log(sfv))\n",
    "\n",
    "# 计算 IWRU 指数\n",
    "iwru = norm_priority + norm_configuration - norm_sfv  # iwru 是三者的 norm_score 相加再相减"
   ]
  },
  {
   "cell_type": "markdown",
   "metadata": {},
   "source": [
    "## Fig.3 三元图"
   ]
  },
  {
   "cell_type": "markdown",
   "metadata": {},
   "source": [
    "对三元图来说，计算的是每个维度 $X$ 对 regime 的影响（Impact）\n",
    "\n",
    "$$ Impact_X = \\frac{I'_X}{\\sum_X I'_X} $$"
   ]
  },
  {
   "cell_type": "code",
   "execution_count": 17,
   "metadata": {
    "tags": []
   },
   "outputs": [
    {
     "data": {
      "image/png": "[encoded data removed]",
      "text/plain": [
       "<Figure size 288x288 with 1 Axes>"
      ]
     },
     "metadata": {},
     "output_type": "display_data"
    }
   ],
   "source": [
    "# 制作三元图\n",
    "points = []\n",
    "points_1, points_2, points_3 = [], [], []\n",
    "size_1, size_2, size_3 = [], [], []\n",
    "scale = 50\n",
    "for yr in configuration.index:\n",
    "    sumed = norm_priority[yr] + norm_configuration[yr] + norm_sfv[yr]  # 这里点的大小是三者 norm_score 相加\n",
    "    point = (norm_priority[yr]/sumed, norm_configuration[yr]/sumed, norm_sfv[yr]/sumed)\n",
    "    points.append(point)\n",
    "    if yr < 1978:\n",
    "        points_1.append(point)\n",
    "        size_1.append(sumed * scale)\n",
    "    elif yr < 1993:\n",
    "        points_2.append(point)\n",
    "        size_2.append(sumed * scale)\n",
    "    else:\n",
    "        points_3.append(point)\n",
    "        size_3.append(sumed * scale)\n",
    "\n",
    "# 如果没有ternary包，就 uncommand 下面一行进行安装\n",
    "# pip install python-ternary\n",
    "import ternary\n",
    "fig, ax = plt.subplots(figsize=(4, 4))\n",
    "figure, tax = ternary.figure(ax=ax, scale=1)\n",
    "tax.boundary()\n",
    "tax.gridlines(ls=\"-.\", multiple=1./3, color=\"black\")\n",
    "# Plot a few different styles with a legend\n",
    "tax.scatter(points_1, marker='o', color=period_colors[0], label=\"P1\", s=scale, alpha=.4)\n",
    "tax.scatter(points_2, marker='o', color=period_colors[1], label=\"P2\", s=scale, alpha=.4)\n",
    "tax.scatter(points_3, marker='o', color=period_colors[2], label=\"P3\", s=scale, alpha=.4)\n",
    "# tax.plot(points, ls=':', lw='0.7')   # 各点之间的连接线\n",
    "fontsize = 12\n",
    "offset = 0.15\n",
    "\n",
    "tax.ticks(axis='brl', multiple=1./3, linewidth=1, tick_formats=\"%.1f\", offset=0.03)\n",
    "# tax.ticks(axis='l', clockwise=True, multiple=1./3, linewidth=1, tick_formats=\"%.1f\", offset=0.03)\n",
    "tax.get_axes().axis('off')\n",
    "tax.clear_matplotlib_ticks()\n",
    "\n",
    "def get_point(yr):\n",
    "    a = norm_priority[yr] + norm_configuration[yr] - norm_sfv[yr]\n",
    "    return (norm_priority[yr]/a, norm_configuration[yr]/a, norm_sfv[yr]/a)\n",
    "\n",
    "tax.set_axis_limits((0,1))\n",
    "tax.line((0,0,1),(.5,.5,0), ls=\":\", color='red')\n",
    "tax.right_corner_label(\"P\", fontsize=fontsize, offset=0.25, weight='bold')\n",
    "tax.top_corner_label(\"C\", fontsize=fontsize, offset=0.25, weight='bold')\n",
    "tax.left_corner_label(\"S\", fontsize=fontsize, offset=0.25, weight='bold')\n",
    "\n",
    "tax.legend()\n",
    "# tax.savefig(\"../figures/main/phases.jpg\", dpi=300)\n",
    "# tax.savefig(\"../figures/main/phases.pdf\", dpi=300)\n",
    "tax.show();"
   ]
  },
  {
   "cell_type": "code",
   "execution_count": 18,
   "metadata": {},
   "outputs": [
    {
     "data": {
      "text/plain": [
       "0    0.329116\n",
       "1    0.318723\n",
       "2    0.352160\n",
       "dtype: float64"
      ]
     },
     "execution_count": 18,
     "metadata": {},
     "output_type": "execute_result"
    }
   ],
   "source": [
    "pd.DataFrame(points_3).mean(axis=0)"
   ]
  },
  {
   "cell_type": "markdown",
   "metadata": {},
   "source": [
    "## 计算贡献度\n",
    "\n",
    "首先是计算各个指标（$I_x, x = P, S, or C$）的贡献度：\n",
    "\n",
    "$$ IWRU = I'_P + I'_C - I'_S $$\n",
    "\n",
    "对每个起始年份为$y1$，截止年份为$y2$的时间段，有：\n",
    "\n",
    "$$ \\Delta IWRU = IWRU_{y2} - IWRU_{y1} $$\n",
    "\n",
    "即：\n",
    "\n",
    "$$ \\Delta IWRU = (I'_{P_{y2}} + I'_{C_{y2}} - I'_{S_{y2}}) - (I'_{P_{y1}} + I'_{C_{y1}} - I'_{S_{y1}}) = \\Delta I'_P + \\Delta I'_C + (-\\Delta I'_S) $$\n",
    "\n",
    "则每个指标$x$ ($P$, $C$, or $S$)对IWRU变化量的贡献度$Contribution_x$为：\n",
    "\n",
    "$$ Contribution_x = \\frac{\\Delta I'_x}{|\\Delta IWRU|} $$\n",
    "\n",
    "其影响是：\n",
    "\n",
    "$$ Impact_X = \\frac{\\Delta I'_X}{\\sum_X |\\Delta I'_X|} $$"
   ]
  },
  {
   "cell_type": "code",
   "execution_count": 19,
   "metadata": {},
   "outputs": [
    {
     "data": {
      "text/html": [
       "<div>\n",
       "<style scoped>\n",
       "    .dataframe tbody tr th:only-of-type {\n",
       "        vertical-align: middle;\n",
       "    }\n",
       "\n",
       "    .dataframe tbody tr th {\n",
       "        vertical-align: top;\n",
       "    }\n",
       "\n",
       "    .dataframe thead th {\n",
       "        text-align: right;\n",
       "    }\n",
       "</style>\n",
       "<table border=\"1\" class=\"dataframe\">\n",
       "  <thead>\n",
       "    <tr style=\"text-align: right;\">\n",
       "      <th></th>\n",
       "      <th>Tendentiousness</th>\n",
       "      <th>Pattern</th>\n",
       "      <th>Stress</th>\n",
       "    </tr>\n",
       "  </thead>\n",
       "  <tbody>\n",
       "    <tr>\n",
       "      <th>P1: 1965-1977</th>\n",
       "      <td>-11.201691</td>\n",
       "      <td>-20.016120</td>\n",
       "      <td>131.217811</td>\n",
       "    </tr>\n",
       "    <tr>\n",
       "      <th>P2: 1978-1993</th>\n",
       "      <td>3751.184456</td>\n",
       "      <td>3142.496656</td>\n",
       "      <td>-6793.681112</td>\n",
       "    </tr>\n",
       "    <tr>\n",
       "      <th>P3: 1994-2013</th>\n",
       "      <td>75.205198</td>\n",
       "      <td>83.515433</td>\n",
       "      <td>-58.720631</td>\n",
       "    </tr>\n",
       "  </tbody>\n",
       "</table>\n",
       "</div>"
      ],
      "text/plain": [
       "               Tendentiousness      Pattern       Stress\n",
       "P1: 1965-1977       -11.201691   -20.016120   131.217811\n",
       "P2: 1978-1993      3751.184456  3142.496656 -6793.681112\n",
       "P3: 1994-2013        75.205198    83.515433   -58.720631"
      ]
     },
     "execution_count": 19,
     "metadata": {},
     "output_type": "execute_result"
    },
    {
     "data": {
      "text/plain": [
       "{'P1: 1965-1977': 0.5604007034717716,\n",
       " 'P2: 1978-1993': 0.009617597392526156,\n",
       " 'P3: 1994-2013': 0.5402558786354279}"
      ]
     },
     "execution_count": 19,
     "metadata": {},
     "output_type": "execute_result"
    }
   ],
   "source": [
    "# 计算每个阶段的贡献度\n",
    "\n",
    "index_list = ['Tendentiousness', 'Pattern', 'Stress']  # 数据集字典的键\n",
    "contribution = {index: [] for index in index_list}  # 用于储存贡献率计算结果的字典\n",
    "periods = []  # 用于储存时间段划分的空列表\n",
    "changes = {}  # 储存每个时间段的变化\n",
    "\n",
    "# 寻找断点\n",
    "breakpoints = Pettitt_change_points(iwru, p_shr=p_shr)\n",
    "change_points = breakpoints.copy()\n",
    "change_points.extend([iwru.index.max(), iwru.index.min()])  # 为断点增加头尾\n",
    "check_points = sorted(change_points.copy())  # 排序好的断点列表作为检查点\n",
    "\n",
    "# 循环，每两个断点之间算一个阶段，计算每个阶段不同指数的贡献率。\n",
    "for i in range(len(check_points)-1):\n",
    "    j = i + 1\n",
    "    start_year = check_points[i]\n",
    "    end_year = check_points[j]\n",
    "    if end_year in breakpoints:\n",
    "        end_year = end_year - 1\n",
    "    period = 'P{}: {}-{}'.format(j, start_year, end_year)\n",
    "    periods.append(period) # 每个阶段的标准化格式\n",
    "\n",
    "    # 计算 iwru 总的变化\n",
    "    changes[period] = abs(iwru.loc[end_year] - iwru.loc[start_year])\n",
    "    iwru_change = iwru[end_year] - iwru[start_year]\n",
    "\n",
    "    # 再计算三个分指标的变化\n",
    "    priority_change = norm_priority[end_year] - norm_priority[start_year]\n",
    "    configuration_change = norm_configuration[end_year] - norm_configuration[start_year]\n",
    "    sfv_change = norm_sfv[start_year] - norm_sfv[end_year]\n",
    "\n",
    "    # 计算变化的贡献率并存入结果字典\n",
    "    contribution['Tendentiousness'].append(100 * priority_change / abs(iwru_change))\n",
    "    contribution['Pattern'].append(100 * configuration_change / abs(iwru_change))\n",
    "    contribution['Stress'].append(100 * sfv_change / abs(iwru_change))\n",
    "\n",
    "# 将结果转化为 DataFrame 并返回\n",
    "contribution = pd.DataFrame(contribution, index=periods)\n",
    "\n",
    "# 贡献度，IWRU变化\n",
    "contribution\n",
    "changes\n",
    "\n",
    "\n",
    "# 变化贡献\n",
    "changes_contribution = pd.DataFrame()\n",
    "for col in contribution:\n",
    "    changes_contribution[col] = contribution[col] * pd.Series(changes) / 100"
   ]
  },
  {
   "cell_type": "raw",
   "metadata": {
    "tags": []
   },
   "source": [
    "# 各个指数对 iwru 在每个阶段发生变化的贡献量\n",
    "    \n",
    "print(\"第三阶段 WDI 的贡献是较第二阶段增长的倍数：\")\n",
    "changes_contribution['Pattern'].iloc[2] / changes_contribution['Pattern'].iloc[1] - 1\n",
    "\n",
    "print(\"第三阶段 configuration 的贡献是较第二阶段增长的倍数：\")\n",
    "changes_contribution['Tendentiousness'].iloc[2] / changes_contribution['Tendentiousness'].iloc[1] - 1\n",
    "\n",
    "print(\"第三阶段 SFV 的贡献是较第二阶段增长的倍数：\")\n",
    "changes_contribution['Stress'].iloc[2] / changes_contribution['Stress'].iloc[1] - 1"
   ]
  },
  {
   "cell_type": "markdown",
   "metadata": {},
   "source": [
    "## 最终作图"
   ]
  },
  {
   "cell_type": "code",
   "execution_count": 20,
   "metadata": {
    "tags": []
   },
   "outputs": [
    {
     "data": {
      "image/png": "[encoded data removed]",
      "text/plain": [
       "<Figure size 432x360 with 3 Axes>"
      ]
     },
     "metadata": {
      "needs_background": "light"
     },
     "output_type": "display_data"
    }
   ],
   "source": [
    "# 绘图\n",
    "fig = plt.figure(constrained_layout=False, figsize=(6, 5))\n",
    "fig.subplots_adjust(left=0.15, right=0.95, top=.95, bottom=.10)\n",
    "\n",
    "gs = GridSpec(2, 3, figure=fig)\n",
    "ax1 = fig.add_subplot(gs[0, :2])\n",
    "ax2 = fig.add_subplot(gs[0, 2])\n",
    "ax3 = fig.add_subplot(gs[1, :])\n",
    "\n",
    "wcci_slopes = plot_pittitt_change_points(iwru, ax=ax1, colors=period_colors, p_shr=p_shr)\n",
    "plot_slopes(wcci_slopes, ax=ax2, colors=period_colors)\n",
    "changes_contribution.columns = ['configuration', 'priority', 'Stress']\n",
    "changes_contribution.plot.bar(ax=ax3, colormap=index_colormap, edgecolor='lightgray')\n",
    "\n",
    "# 修饰图片1\n",
    "ax1.set_xlabel('Year')\n",
    "ax1.set_ylabel('IWRU')\n",
    "# ax1.set_ylim(0.04, 0.105)\n",
    "# ax1.set_yticks(np.arange(0.04, 0.105, 0.02))\n",
    "# ax1.text(1968, 1.0, 'A.', ha='center', va='center', weight='bold', size='large')\n",
    "ax1.legend(loc=4)\n",
    "\n",
    "# 修饰图片2\n",
    "ax2.set_xlabel(\"Slope\")\n",
    "# ax2.set_xticklabels([.0, .5, 1])\n",
    "# ax2.text(-0.006, 2.2, 'B.', ha='center', va='center', weight='bold', size='large')\n",
    "\n",
    "# 修饰图片3\n",
    "ax3.set_xlabel(\"Different periods\")\n",
    "ax3.set_ylabel('IWRU changes')\n",
    "for tick in ax3.get_xticklabels():  # 旋转角度\n",
    "    tick.set_rotation(0)  # 轴标签旋转\n",
    "ax3.axhline(y=0, c='gray', lw=2, ls=\"--\")\n",
    "# ax3.set_yticks(np.arange(-0.01, 0.021, 0.01))\n",
    "ax3.tick_params(axis='x', tickdir='in', bottom=False, labelrotation=0)\n",
    "# ax3.text(2.4, 0.7, 'C.', ha='center', va='center', weight='bold', size='large')\n",
    "ax3.axvline(1.5, ls=':', color='gray')\n",
    "ax3.axvline(0.5, ls=':', color='gray')\n",
    "\n",
    "# 调整坐标轴显示\n",
    "for ax in [ax1, ax2, ax3]:\n",
    "    ax.spines['top'].set_visible(False)\n",
    "    ax.spines['bottom'].set_visible(False)\n",
    "    ax.spines['left'].set_visible(True)\n",
    "    ax.spines['right'].set_visible(False)\n",
    "\n",
    "ax1.spines['bottom'].set_visible(True)\n",
    "ax1.spines['left'].set_visible(False)\n",
    "\n",
    "# 储存和显示图片\n",
    "# plt.savefig('../figures/main/index.pdf', dpi=300)\n",
    "# plt.savefig('../figures/main/index.jpg', dpi=300)\n",
    "plt.show();"
   ]
  },
  {
   "cell_type": "code",
   "execution_count": 21,
   "metadata": {
    "tags": []
   },
   "outputs": [
    {
     "data": {
      "text/html": [
       "<div>\n",
       "<style scoped>\n",
       "    .dataframe tbody tr th:only-of-type {\n",
       "        vertical-align: middle;\n",
       "    }\n",
       "\n",
       "    .dataframe tbody tr th {\n",
       "        vertical-align: top;\n",
       "    }\n",
       "\n",
       "    .dataframe thead th {\n",
       "        text-align: right;\n",
       "    }\n",
       "</style>\n",
       "<table border=\"1\" class=\"dataframe\">\n",
       "  <thead>\n",
       "    <tr style=\"text-align: right;\">\n",
       "      <th></th>\n",
       "      <th>configuration</th>\n",
       "      <th>priority</th>\n",
       "      <th>Stress</th>\n",
       "    </tr>\n",
       "  </thead>\n",
       "  <tbody>\n",
       "    <tr>\n",
       "      <th>P1: 1965-1977</th>\n",
       "      <td>-0.062774</td>\n",
       "      <td>-0.112170</td>\n",
       "      <td>0.735346</td>\n",
       "    </tr>\n",
       "    <tr>\n",
       "      <th>P2: 1978-1993</th>\n",
       "      <td>0.360774</td>\n",
       "      <td>0.302233</td>\n",
       "      <td>-0.653389</td>\n",
       "    </tr>\n",
       "    <tr>\n",
       "      <th>P3: 1994-2013</th>\n",
       "      <td>0.406301</td>\n",
       "      <td>0.451197</td>\n",
       "      <td>-0.317242</td>\n",
       "    </tr>\n",
       "  </tbody>\n",
       "</table>\n",
       "</div>"
      ],
      "text/plain": [
       "               configuration  priority    Stress\n",
       "P1: 1965-1977      -0.062774 -0.112170  0.735346\n",
       "P2: 1978-1993       0.360774  0.302233 -0.653389\n",
       "P3: 1994-2013       0.406301  0.451197 -0.317242"
      ]
     },
     "execution_count": 21,
     "metadata": {},
     "output_type": "execute_result"
    },
    {
     "data": {
      "text/plain": [
       "'Stress'"
      ]
     },
     "execution_count": 21,
     "metadata": {},
     "output_type": "execute_result"
    },
    {
     "data": {
      "text/plain": [
       "P1: 1965-1977     1.312178\n",
       "P2: 1978-1993   -67.936811\n",
       "P3: 1994-2013    -0.587206\n",
       "dtype: float64"
      ]
     },
     "execution_count": 21,
     "metadata": {},
     "output_type": "execute_result"
    },
    {
     "data": {
      "text/plain": [
       "'configuration'"
      ]
     },
     "execution_count": 21,
     "metadata": {},
     "output_type": "execute_result"
    },
    {
     "data": {
      "text/plain": [
       "P1: 1965-1977    -0.112017\n",
       "P2: 1978-1993    37.511845\n",
       "P3: 1994-2013     0.752052\n",
       "dtype: float64"
      ]
     },
     "execution_count": 21,
     "metadata": {},
     "output_type": "execute_result"
    },
    {
     "data": {
      "text/plain": [
       "'priority'"
      ]
     },
     "execution_count": 21,
     "metadata": {},
     "output_type": "execute_result"
    },
    {
     "data": {
      "text/plain": [
       "P1: 1965-1977    -0.200161\n",
       "P2: 1978-1993    31.424967\n",
       "P3: 1994-2013     0.835154\n",
       "dtype: float64"
      ]
     },
     "execution_count": 21,
     "metadata": {},
     "output_type": "execute_result"
    },
    {
     "name": "stdout",
     "output_type": "stream",
     "text": [
      "\n",
      "如果算贡献率的话：\n"
     ]
    },
    {
     "data": {
      "text/plain": [
       "'Stress'"
      ]
     },
     "execution_count": 21,
     "metadata": {},
     "output_type": "execute_result"
    },
    {
     "data": {
      "text/plain": [
       "P1: 1965-1977    0.807814\n",
       "P2: 1978-1993    0.496347\n",
       "P3: 1994-2013    0.270053\n",
       "dtype: float64"
      ]
     },
     "execution_count": 21,
     "metadata": {},
     "output_type": "execute_result"
    },
    {
     "data": {
      "text/plain": [
       "'configuration'"
      ]
     },
     "execution_count": 21,
     "metadata": {},
     "output_type": "execute_result"
    },
    {
     "data": {
      "text/plain": [
       "P1: 1965-1977    0.068961\n",
       "P2: 1978-1993    0.274062\n",
       "P3: 1994-2013    0.345864\n",
       "dtype: float64"
      ]
     },
     "execution_count": 21,
     "metadata": {},
     "output_type": "execute_result"
    },
    {
     "data": {
      "text/plain": [
       "'priority'"
      ]
     },
     "execution_count": 21,
     "metadata": {},
     "output_type": "execute_result"
    },
    {
     "data": {
      "text/plain": [
       "P1: 1965-1977    0.123225\n",
       "P2: 1978-1993    0.229591\n",
       "P3: 1994-2013    0.384083\n",
       "dtype: float64"
      ]
     },
     "execution_count": 21,
     "metadata": {},
     "output_type": "execute_result"
    }
   ],
   "source": [
    "changes_contribution\n",
    "for index in [\"Stress\", \"configuration\", \"priority\"]:\n",
    "    index\n",
    "    changes_contribution[index] / changes_contribution.sum(axis=1)\n",
    "\n",
    "print(\"\\n如果算贡献率的话：\")\n",
    "for index in [\"Stress\", \"configuration\", \"priority\"]:\n",
    "    index\n",
    "    changes_contribution[index].abs() / changes_contribution.abs().sum(axis=1) "
   ]
  },
  {
   "cell_type": "code",
   "execution_count": 22,
   "metadata": {},
   "outputs": [
    {
     "data": {
      "image/png": "[encoded data removed]",
      "text/plain": [
       "<Figure size 720x360 with 6 Axes>"
      ]
     },
     "metadata": {
      "needs_background": "light"
     },
     "output_type": "display_data"
    }
   ],
   "source": [
    "fig = plt.figure(figsize=(10, 5), constrained_layout=True)\n",
    "\n",
    "gs = GridSpec(2, 3, figure=fig, height_ratios=[2, 3])\n",
    "ax1 = fig.add_subplot(gs[0, 0])\n",
    "ax2 = fig.add_subplot(gs[0, 1])\n",
    "ax3 = fig.add_subplot(gs[0, 2])\n",
    "ax4 = fig.add_subplot(gs[1, 0])\n",
    "ax5 = fig.add_subplot(gs[1, 1])\n",
    "ax6 = fig.add_subplot(gs[1, 2])\n",
    "\n",
    "\n",
    "import matplotlib.ticker as ticker\n",
    "size = 10\n",
    "alpha= 0.4\n",
    "\n",
    "sfv_slopes = plot_pittitt_change_points(sfv, change_points=[1978, 1994], colors=period_colors, ax=ax1, s=size, alpha=alpha, legend=False)\n",
    "priority_slopes = plot_pittitt_change_points(priority, change_points=[1978, 1994], colors=period_colors, ax=ax2, s=size, alpha=alpha, legend=False)\n",
    "configuration_slopes = plot_pittitt_change_points(configuration, change_points=[1978, 1994], colors=period_colors, ax=ax3, s=size, alpha=alpha, legend=False)\n",
    "\n",
    "ax1.set_ylabel(\"Stress\")\n",
    "ax2.set_ylabel(\"configuration\")\n",
    "ax3.set_ylabel(\"priority\")\n",
    "for ax in [ax1, ax2, ax3]:\n",
    "    ax.set_xlim(1963, 2015)\n",
    "    ax.set_xticks(np.arange(1965, 2015, 15))\n",
    "    ax.set_xlabel(\"Year\")\n",
    "ax3.legend(loc=2)\n",
    "\n",
    "\n",
    "# =========== 各个贡献 =============== #\n",
    "\n",
    "\n",
    "sfv_contribution_plot(ax4)\n",
    "plot_ratio_contribution(\n",
    "    priority_contributions,\n",
    "    ax=ax5,\n",
    "    colors=region_colors,\n",
    "    denominator_color=total_water_use_color,\n",
    "    denominator_label='Total',\n",
    "    legend_loc='lower right'\n",
    ")\n",
    "plot_ratio_contribution(\n",
    "    entropy_contributions, \n",
    "    denominator_color=region_colors[2], \n",
    "    denominator_label=\"Functions\", \n",
    "    ax=ax6,\n",
    "    legend_loc='upper left'\n",
    ")\n",
    "\n",
    "# 修饰图片\n",
    "\n",
    "for ax in [ax5, ax6]:\n",
    "    ax.set_xlabel(\"Different periods\")\n",
    "    # ax.set_ylabel(\"Changes of inflexible water use proportion\")\n",
    "    ax.axvline(1.5, ls=':', color='gray', lw=1.5)\n",
    "    ax.axvline(0.5, ls=':', color='gray', lw=1.5)\n",
    "    ax.axhline(0., lw=2, color='gray', ls=\"--\")\n",
    "    # ax.set_yticks(np.arange(-0.05, 0.11, 0.05))\n",
    "    # ax.set_ylim(-0.05, 0.11)\n",
    "    # ax.text(2.4, -0.04, 'b.', ha='center', va='center', weight='bold', size='large')\n",
    "    ax.tick_params(axis='x', tickdir='in', bottom=True, labelrotation=0)\n",
    "\n",
    "    ax.spines['top'].set_visible(False)\n",
    "    ax.spines['left'].set_visible(True)\n",
    "    ax.spines['right'].set_visible(False)\n",
    "    ax.spines['bottom'].set_visible(False)\n",
    "\n",
    "for ax in [ax1, ax2, ax3]:\n",
    "    ax.spines['top'].set_visible(False)\n",
    "    ax.spines['left'].set_visible(False)\n",
    "    ax.spines['right'].set_visible(False)\n",
    "    ax.spines['bottom'].set_visible(True)\n",
    "\n",
    "for ax in [ax4, ax5, ax6]:\n",
    "    ax.set_xticklabels([\"P1\", \"P2\", \"P3\"])\n",
    "    ax.set_xlabel('Period')\n",
    "\n",
    "ax4.legend(loc='lower center')\n",
    "ax4.set_ylabel(\"Changes of stress \")\n",
    "ax5.set_ylabel(\"Changes of configuration\")\n",
    "ax6.set_ylabel(\"Changes of priority\")\n",
    "\n",
    "\n",
    "labels = [\"A.\", \"B.\", \"C.\", \"D.\", \"E.\", \"F.\"]\n",
    "for i, ax in enumerate([ax1, ax2, ax3, ax4, ax5, ax6]):\n",
    "    ax.set_yticks(np.linspace(ax.get_ylim()[0], ax.get_ylim()[1], 4))\n",
    "    ax.yaxis.set_major_formatter(ticker.FormatStrFormatter('%.2f'))\n",
    "    ax.yaxis.grid(color='lightgray', linestyle='-.', linewidth=0.5)\n",
    "    x, y = get_position_by_ratio(ax, 0.92, 0.08)\n",
    "    if i == 4:\n",
    "        x, y = get_position_by_ratio(ax, 0.92, 0.4)\n",
    "    ax.text(x, y, labels[i], ha='center', va='center', weight='bold', size='large')\n",
    "\n",
    "# plt.savefig(\"../figures/main/dimensions.pdf\", dpi=300)\n",
    "# plt.savefig(\"../figures/main/dimensions.jpg\", dpi=300)\n",
    "plt.show();"
   ]
  },
  {
   "cell_type": "markdown",
   "metadata": {},
   "source": [
    "## 对阈值变化的敏感性分析"
   ]
  },
  {
   "cell_type": "code",
   "execution_count": 24,
   "metadata": {},
   "outputs": [
    {
     "data": {
      "text/plain": [
       "<matplotlib.collections.PathCollection at 0x124b5d9e1f0>"
      ]
     },
     "execution_count": 24,
     "metadata": {},
     "output_type": "execute_result"
    },
    {
     "data": {
      "text/plain": [
       "Text(0.5, 0, 'The shreshold of p-value')"
      ]
     },
     "execution_count": 24,
     "metadata": {},
     "output_type": "execute_result"
    },
    {
     "data": {
      "text/plain": [
       "Text(0, 0.5, 'Number of the breakpoints')"
      ]
     },
     "execution_count": 24,
     "metadata": {},
     "output_type": "execute_result"
    },
    {
     "data": {
      "image/png": "[encoded data removed]",
      "text/plain": [
       "<Figure size 432x288 with 1 Axes>"
      ]
     },
     "metadata": {
      "needs_background": "light"
     },
     "output_type": "display_data"
    }
   ],
   "source": [
    "from tools.statistic import Pettitt_change_points\n",
    "fig, ax = plt.subplots()\n",
    "x = np.linspace(0.000001, 0.01, 1000)\n",
    "y = []\n",
    "for p in x:\n",
    "    periods = Pettitt_change_points(iwru, p_shr=p)\n",
    "    y.append(len(periods))\n",
    "\n",
    "ax.scatter(np.log10(x), y, color='gray', s=5)\n",
    "ax.set_xlabel(\"The shreshold of p-value\")\n",
    "ax.set_ylabel(\"Number of the breakpoints\")"
   ]
  },
  {
   "cell_type": "code",
   "execution_count": 38,
   "metadata": {},
   "outputs": [
    {
     "data": {
      "image/png": "[encoded data removed]",
      "text/plain": [
       "<Figure size 576x360 with 3 Axes>"
      ]
     },
     "metadata": {
      "needs_background": "light"
     },
     "output_type": "display_data"
    }
   ],
   "source": [
    "# 绘图\n",
    "fig = plt.figure(constrained_layout=True, figsize=(8, 5))\n",
    "# fig.subplots_adjust(left=0.15, right=0.95, top=.95, bottom=.10)\n",
    "\n",
    "gs = GridSpec(2, 2, figure=fig)\n",
    "ax1 = fig.add_subplot(gs[0, :])\n",
    "ax2 = fig.add_subplot(gs[1, 0])\n",
    "ax3 = fig.add_subplot(gs[1, 1])\n",
    "\n",
    "ax1.semilogx(x, y, color='gray')\n",
    "ax1.set_xlabel(\"The threshold of p-value\")\n",
    "ax1.set_ylabel(\"Number of the breakpoints\")\n",
    "\n",
    "for ax in [ax2, ax3]:\n",
    "    ax.set_xlabel(\"Year\")\n",
    "    ax.set_ylabel(\"IWRU\")\n",
    "    \n",
    "plot_pittitt_change_points(iwru, ax=ax2, p_shr=0.001)\n",
    "plot_pittitt_change_points(iwru, ax=ax3, p_shr=0.01)\n",
    "\n",
    "plt.savefig(\"../figures/sup/sensitivity.pdf\", dpi=300)\n",
    "plt.show();"
   ]
  },
  {
   "cell_type": "code",
   "execution_count": null,
   "metadata": {},
   "outputs": [],
   "source": [
    "fig, axs = plt.subplots(1, 3, figsize=(10, 2))\n",
    "p_shrs = [0.0001, 0.0003, 0.0005]\n",
    "for i, p_shr in enumerate(p_shrs):\n",
    "    plot_pittitt_change_points(iwru, ax=axs[i], p_shr=p_shr)\n",
    "plt.show();"
   ]
  },
  {
   "cell_type": "code",
   "execution_count": null,
   "metadata": {},
   "outputs": [],
   "source": [
    "fig, axs = plt.subplots(1, 3, figsize=(10, 2))\n",
    "p_shrs = [0.00001, 0.00005, 0.0001]\n",
    "for i, p_shr in enumerate(p_shrs):\n",
    "    plot_pittitt_change_points(iwru, ax=axs[i], p_shr=p_shr)\n",
    "plt.show();"
   ]
  },
  {
   "cell_type": "code",
   "execution_count": null,
   "metadata": {},
   "outputs": [],
   "source": [
    "fig, axs = plt.subplots(1, 3, figsize=(10, 2))\n",
    "p_shrs = [0.01, 0.02, 0.03]\n",
    "for i, p_shr in enumerate(p_shrs):\n",
    "    plot_pittitt_change_points(iwru, ax=axs[i], p_shr=p_shr)\n",
    "plt.show();"
   ]
  }
 ],
 "metadata": {
  "kernelspec": {
   "display_name": "Python 3",
   "language": "python",
   "name": "python3"
  },
  "language_info": {
   "codemirror_mode": {
    "name": "ipython",
    "version": 3
   },
   "file_extension": ".py",
   "mimetype": "text/x-python",
   "name": "python",
   "nbconvert_exporter": "python",
   "pygments_lexer": "ipython3",
   "version": "3.8.3"
  },
  "toc": {
   "base_numbering": 1,
   "nav_menu": {},
   "number_sections": true,
   "sideBar": true,
   "skip_h1_title": false,
   "title_cell": "Table of Contents",
   "title_sidebar": "Contents",
   "toc_cell": false,
   "toc_position": {
    "height": "calc(100% - 180px)",
    "left": "10px",
    "top": "150px",
    "width": "165px"
   },
   "toc_section_display": true,
   "toc_window_display": false
  }
 },
 "nbformat": 4,
 "nbformat_minor": 4
}
