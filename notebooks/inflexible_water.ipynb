{
 "cells": [
  {
   "cell_type": "markdown",
   "id": "3d85e3ff-def6-481b-afa7-eaf9a741568c",
   "metadata": {},
   "source": [
    "# 计算非灵活用水的贡献"
   ]
  },
  {
   "cell_type": "code",
   "execution_count": null,
   "id": "1efdbbda-60cc-4399-993c-1024d45f2f7e",
   "metadata": {
    "tags": []
   },
   "outputs": [],
   "source": [
    "%load_ext autoreload\n",
    "%autoreload 2\n",
    "%matplotlib inline\n",
    "%config InlineBackend.figure_format = 'retina'\n",
    "from IPython.core.interactiveshell import InteractiveShell\n",
    "\n",
    "InteractiveShell.ast_node_interactivity = \"all\"\n",
    "\n",
    "import pandas as pd\n",
    "import numpy as np"
   ]
  },
  {
   "cell_type": "code",
   "execution_count": null,
   "id": "5df57672-d4db-4317-a3ec-d585a847a43e",
   "metadata": {
    "tags": []
   },
   "outputs": [],
   "source": [
    "from hydra import compose, initialize\n",
    "import os\n",
    "\n",
    "# 加载项目层面的配置\n",
    "with initialize(version_base=None, config_path=\"../config\"):\n",
    "    cfg = compose(config_name=\"config\")\n",
    "os.chdir(cfg.root)\n",
    "\n",
    "colors = cfg.style.colors"
   ]
  },
  {
   "cell_type": "code",
   "execution_count": null,
   "id": "f8d67e1a-48a8-44c9-9f7e-2dec68db0b00",
   "metadata": {
    "tags": []
   },
   "outputs": [],
   "source": [
    "from regimes_yrb.tools.statistic import (\n",
    "    ratio_contribution,\n",
    "    plot_pittitt_change_points,\n",
    "    plot_ratio_contribution,\n",
    "    pettitt_change_points,\n",
    ")\n",
    "import matplotlib\n",
    "from matplotlib import pyplot as plt\n",
    "from matplotlib.gridspec import GridSpec"
   ]
  },
  {
   "cell_type": "code",
   "execution_count": null,
   "id": "7b7a07b9-4f75-4be3-b9c8-5a6c609479ad",
   "metadata": {
    "tags": []
   },
   "outputs": [],
   "source": [
    "# 加载阈值为 0.05的数据，即与黄河流域相交面积大于全市总面积 5% 的所有市\n",
    "city_yr = pd.read_csv(cfg.db.perfectures)"
   ]
  },
  {
   "cell_type": "markdown",
   "id": "a0576a96-cf5f-4c92-9c1e-d3ff4c371232",
   "metadata": {},
   "source": [
    "### 提取非灵活用水"
   ]
  },
  {
   "cell_type": "markdown",
   "id": "456f199c-4ead-431f-bcb1-d3c124dffc43",
   "metadata": {},
   "source": [
    "非灵活用水包括：\n",
    "\n",
    "1. 城市居民用水\n",
    "2. 农村居民用水\n",
    "3. 农村牲畜用水\n",
    "4. 火电冷却用水"
   ]
  },
  {
   "cell_type": "code",
   "execution_count": null,
   "id": "f3c38d0f-8c9c-4ea4-91f5-a75d089ead6c",
   "metadata": {
    "tags": []
   },
   "outputs": [],
   "source": [
    "## 提取非灵活用水的数据\n",
    "\n",
    "# 与基本信息有关的列\n",
    "use_cols = [\"Year\", \"Region\", \"City_ID\"]\n",
    "\n",
    "# 与耗水量有关的列\n",
    "wu_cols = [\n",
    "    \"Total water use\",\n",
    "    \"IRR\",\n",
    "    \"IND\",\n",
    "    \"RUR\",\n",
    "    \"URB\",\n",
    "    \"Urban domestic WU\",\n",
    "    \"Rural domestic WU\",\n",
    "    \"Rural livestock WU\",\n",
    "    \"Urban service WU\",\n",
    "    \"Industrial gross value added (GVA): Thermal electrivity\",\n",
    "    \"Industrial WUI: Thermal electrivity\",\n",
    "]\n",
    "\n",
    "use_cols.extend(wu_cols)  # 在计算SFV中所有使用的数据列\n",
    "\n",
    "# 加载所有使用的数据\n",
    "consumptions = city_yr[use_cols].copy()\n",
    "\n",
    "# 计算火电冷却用水的量\n",
    "consumptions[\"Thermal WU\"] = (\n",
    "    consumptions[\"Industrial gross value added (GVA): Thermal electrivity\"]\n",
    "    * consumptions[\"Industrial WUI: Thermal electrivity\"]\n",
    ")\n",
    "consumptions.drop(wu_cols[-2:], axis=1, inplace=True)  # 删除计算后的 WUI, GVA 数据\n",
    "\n",
    "for col in consumptions.columns:\n",
    "    if col in wu_cols or col in cfg.inflexible_wu:\n",
    "        consumptions[col] = consumptions[col] * 10  # 转化单位 km3 → 10^8 m3\n",
    "\n",
    "# 展示数据\n",
    "consumptions.head()\n",
    "# 导出数据\n",
    "consumptions.to_csv(cfg.db.consumptions)"
   ]
  },
  {
   "cell_type": "markdown",
   "id": "842270d5-718b-431d-a44a-2a8d5fad0095",
   "metadata": {
    "tags": []
   },
   "source": [
    "## 非灵活用水占比"
   ]
  },
  {
   "cell_type": "code",
   "execution_count": null,
   "id": "5677c5bf-2798-4d74-9ce5-dbd7e91264c3",
   "metadata": {
    "tags": []
   },
   "outputs": [],
   "source": [
    "inflexible_water_use = consumptions.groupby([\"Year\"]).sum(numeric_only=True)[\n",
    "    cfg.inflexible_wu\n",
    "]\n",
    "inflexible_water_use_sum = inflexible_water_use.sum(axis=1, numeric_only=True)\n",
    "total_water_use = consumptions.groupby([\"Year\"]).sum(numeric_only=True)[\n",
    "    \"Total water use\"\n",
    "]\n",
    "\n",
    "# 非灵活用水占比\n",
    "inflexible_ratio = inflexible_water_use_sum / total_water_use\n",
    "\n",
    "# 非灵活用水贡献\n",
    "inflexible_contributions = ratio_contribution(\n",
    "    numerator=inflexible_water_use, denominator=total_water_use\n",
    ")"
   ]
  },
  {
   "cell_type": "markdown",
   "id": "a97485cb-af3f-478b-8809-e444af13903b",
   "metadata": {},
   "source": [
    "## 作图"
   ]
  },
  {
   "cell_type": "code",
   "execution_count": null,
   "id": "4c39d4f8-bbe3-416d-8834-deb7035377d9",
   "metadata": {
    "tags": []
   },
   "outputs": [],
   "source": [
    "# 绘图\n",
    "fig = plt.figure(figsize=(8, 3.25), constrained_layout=True)\n",
    "gs = GridSpec(1, 2, figure=fig, width_ratios=[3, 4])\n",
    "ax1 = fig.add_subplot(gs[0, 0])\n",
    "ax2 = fig.add_subplot(gs[0, 1])\n",
    "\n",
    "# 绘制图片 1\n",
    "inflexible_slopes = plot_pittitt_change_points(\n",
    "    inflexible_ratio, change_points=[1977, 1993], colors=colors.period, ax=ax1\n",
    ")\n",
    "\n",
    "# 绘制图片 2\n",
    "plot_ratio_contribution(\n",
    "    inflexible_contributions,\n",
    "    denominator_color=colors.total_WU,\n",
    "    denominator_label=\"Total water use\",\n",
    "    ax=ax2,\n",
    ")\n",
    "\n",
    "# 修饰图片 1\n",
    "ax1.set_xlabel(\"Year\")\n",
    "ax1.set_ylabel(\"Proportion of inflexible water use\")\n",
    "ax1.set_yticks(np.arange(0.04, 0.20, 0.05))\n",
    "ax1.legend(loc=2)\n",
    "ax1.text(2010, 0.05, \"a.\", ha=\"center\", va=\"center\", weight=\"bold\", size=\"large\")\n",
    "\n",
    "# 修饰图片 2\n",
    "ax2.set_xlabel(\"Different periods\")\n",
    "ax2.set_ylabel(\"Changes of inflexible water use proportion\")\n",
    "ax2.axvline(1.5, ls=\":\", color=\"gray\", lw=1.5)\n",
    "ax2.axvline(0.5, ls=\":\", color=\"gray\", lw=1.5)\n",
    "ax2.axhline(0.0, lw=2, color=\"gray\")\n",
    "ax2.set_yticks(np.arange(-0.05, 0.11, 0.05))\n",
    "ax2.set_ylim(-0.05, 0.11)\n",
    "ax2.text(2.4, -0.04, \"b.\", ha=\"center\", va=\"center\", weight=\"bold\", size=\"large\")\n",
    "ax2.tick_params(axis=\"x\", tickdir=\"in\", bottom=False, labelrotation=0)\n",
    "\n",
    "# 调整坐标轴显示\n",
    "for ax in [ax1, ax2]:\n",
    "    ax.spines[\"top\"].set_visible(False)\n",
    "    ax.spines[\"bottom\"].set_visible(True)\n",
    "    ax.spines[\"left\"].set_visible(True)\n",
    "    ax.spines[\"right\"].set_visible(False)\n",
    "ax2.spines[\"bottom\"].set_visible(False)\n",
    "\n",
    "# 出图\n",
    "# plt.savefig('../figures/sup/inflexible_wu.pdf', dpi=300)\n",
    "# plt.savefig('../figures/sup/inflexible_wu.jpg', dpi=300)\n",
    "plt.show();"
   ]
  }
 ],
 "metadata": {
  "kernelspec": {
   "display_name": "Python 3 (ipykernel)",
   "language": "python",
   "name": "python3"
  },
  "language_info": {
   "codemirror_mode": {
    "name": "ipython",
    "version": 3
   },
   "file_extension": ".py",
   "mimetype": "text/x-python",
   "name": "python",
   "nbconvert_exporter": "python",
   "pygments_lexer": "ipython3",
   "version": "3.11.2"
  }
 },
 "nbformat": 4,
 "nbformat_minor": 5
}
