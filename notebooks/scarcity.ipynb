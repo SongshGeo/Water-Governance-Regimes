{
 "cells": [
  {
   "cell_type": "markdown",
   "id": "50010450-ab00-4ca7-9631-0e3cd40d4302",
   "metadata": {},
   "source": [
    "# Scarcity 指标"
   ]
  },
  {
   "cell_type": "code",
   "execution_count": null,
   "id": "a4951d5d-a9a4-4669-a4e0-d1a417aa54ab",
   "metadata": {
    "tags": []
   },
   "outputs": [],
   "source": [
    "%load_ext autoreload\n",
    "%autoreload 2\n",
    "%matplotlib inline\n",
    "%config InlineBackend.figure_format = 'retina'\n",
    "from IPython.core.interactiveshell import InteractiveShell\n",
    "\n",
    "InteractiveShell.ast_node_interactivity = \"all\"\n",
    "\n",
    "import pandas as pd\n",
    "import numpy as np\n",
    "from hydra import compose, initialize\n",
    "import os\n",
    "\n",
    "# 加载项目层面的配置\n",
    "with initialize(version_base=None, config_path=\"../config\"):\n",
    "    cfg = compose(config_name=\"config\")\n",
    "os.chdir(cfg.root)"
   ]
  },
  {
   "cell_type": "markdown",
   "id": "a6861679-fa00-4c91-abf8-9abcef07f35a",
   "metadata": {},
   "source": [
    "人类利用科技手段不断的管理水资源，因此简单的物理缺水指数无法合理评估结构性水资源短缺在社会-水系统演化与过渡中所起的作用。因此，我们参考 Qin et al., 2019中提出的结构性缺水指数来评价流域缺水。该指数考虑了修建水库等管理措施，以及用水结构变化对水资源短缺情况评价的影响。\n",
    "\n",
    "利用该方法指示水资源压力$I_S$，认为全流域的水资源压力是各区域SFV指数的均值，即：\n",
    "\n",
    "$$ I_S = \\frac{1}{4} * \\sum_{i=1}^4 SFV_{i} $$\n",
    "\n",
    "而计算某区域$i$的SFV指数，需要考虑三个权重相等的方面，标准化后计算SFV指数：\n",
    "$$ SFV_i = a * V_i + b $$\n",
    "$$ V_i = \\frac{A_{i, normalize} + B_{i, normalize} + C_{i, normalize}}{3} $$\n",
    "$$ a = \\frac{1}{V_{max} - V_{min}}; $$\n",
    "$$ b = \\frac{1}{V_{min} - V_{max}} * V_{min} $$\n",
    "\n",
    "（注：原文献中使用的常数为100，得到的指数结果位于$0~100$之间，这里为了和其余两指数保持$0~1$的相同数量级，将该系数调整为1）\n",
    "- 首先是总的耗水量占区域多年平均径流量的比例：\n",
    "$$ A_{i, j} = \\frac{WU_{i,j}}{R_{i, avg}} $$\n",
    "\n",
    "其中平均径流量用如下公式计算：\n",
    "$$ R_{i, avg} = \\frac{1}{j} * \\sum_{j=1}^j R_{i} $$\n",
    "\n",
    "- 其次是非弹性用水量占多年平均径流量的比例：\n",
    "$$ B_{i, j} = \\frac{WU_{inflexible}}{R_{i, avg}} $$\n",
    "\n",
    "对于非弹性用水，Qin在文章中给出了如下划分：\n",
    "For inflexible consumption, we include (according to Qin et al., 2019):    \n",
    "- (1) Freshwater consumed for irrigation of perennial crops.\n",
    "- (2) Water  evaporated during cooling of thermal power plants. √\n",
    "- (3) Water evaporated from reservoirs.\n",
    "- (4) Basic water allotments for humans and livestock. √\n",
    "\n",
    "由于数据限制，本研究中，取其中（2）、（4）的和为非弹性用水。\n",
    "\n",
    "- 最后，还要考虑水库的库容能力及调蓄作用对应对天然径流波动的积极影响：\n",
    "$$ C1_{i, j} = \\frac{R_{i, std}}{R_{i, avg}} $$\n",
    "\n",
    "$$ C2_{i} = \\frac{RC_{i}}{R_{i, avg}}, \\ if RC < R_{i, avg} $$\n",
    "\n",
    "$$ C2_{i} = 1, \\ if RC >= R_{i, avg} $$\n",
    "\n",
    "$$ C_i = C1_i * (1 - C2_i) $$\n",
    "\n",
    "其中$RC_i$是该区域的水库总库容，$R_{i, std}$是多年径流的标准差，衡量天然径流的波动。\n",
    "\n",
    "Qin, Y. et al. Flexibility and intensity of global water use. Nature Sustainability 2, 515–523 (2019)."
   ]
  },
  {
   "cell_type": "markdown",
   "id": "bfca28bf-6613-4b0c-8c9b-602a7af9d3c9",
   "metadata": {},
   "source": [
    "## 数据加载"
   ]
  },
  {
   "cell_type": "markdown",
   "id": "1852e125-8d5b-4e53-a6c0-85fd4359c945",
   "metadata": {},
   "source": [
    "### 加载径流数据"
   ]
  },
  {
   "cell_type": "code",
   "execution_count": null,
   "id": "6b3d4c40-cbdc-4133-8622-e34a6b30d17e",
   "metadata": {
    "tags": []
   },
   "outputs": [],
   "source": [
    "# 加载径流和水库数据\n",
    "use_cols = {\n",
    "    \"唐乃亥\": \"SR\",  # 唐乃亥控制源区\n",
    "    \"头道拐\": \"UR\",  # 头道拐控制上游\n",
    "    \"花园口\": \"MR\",  # 花园口控制中游\n",
    "    \"利津\": \"DR\",  # 利津控制下游\n",
    "}\n",
    "# 径流数据\n",
    "measured_runoff = pd.read_csv(cfg.db.runoff, index_col=\"年份\")\n",
    "measured_runoff = measured_runoff.loc[:, use_cols.keys()]\n",
    "measured_runoff.rename(use_cols, axis=1, inplace=True)"
   ]
  },
  {
   "cell_type": "markdown",
   "id": "24a6d649-83b4-44ce-802d-c11db7de5575",
   "metadata": {},
   "source": [
    "### 加载水库数据"
   ]
  },
  {
   "cell_type": "code",
   "execution_count": null,
   "id": "5ee363af-8dd5-46aa-87b7-2f044d31202c",
   "metadata": {
    "tags": []
   },
   "outputs": [],
   "source": [
    "# 水库库容数据\n",
    "reservoirs_capacity = pd.read_csv(cfg.db.reservoirs, index_col=0)\n",
    "\n",
    "# 水库库容累积相加数据\n",
    "reservoirs_capacity_cumulating = reservoirs_capacity.cumsum()"
   ]
  },
  {
   "cell_type": "markdown",
   "id": "c3b7c9cf-e303-4478-ac5f-ec9e69006422",
   "metadata": {},
   "source": [
    "### 加载耗水数据"
   ]
  },
  {
   "cell_type": "code",
   "execution_count": null,
   "id": "163c911a-21b7-438d-936c-06d54451f40e",
   "metadata": {
    "tags": []
   },
   "outputs": [],
   "source": [
    "consumptions = pd.read_csv(cfg.db.consumptions)"
   ]
  },
  {
   "cell_type": "markdown",
   "id": "2e855586-cbcc-468a-b4d9-052ee7d91e35",
   "metadata": {},
   "source": [
    "## 指数计算"
   ]
  },
  {
   "cell_type": "markdown",
   "id": "57ee6af9-33dc-4948-bdd2-8923461e3e4e",
   "metadata": {},
   "source": [
    "### 分别计算三部分指数"
   ]
  },
  {
   "cell_type": "code",
   "execution_count": null,
   "id": "66f85f2c-7cec-41cb-b0e6-8520e5c63716",
   "metadata": {
    "tags": []
   },
   "outputs": [],
   "source": [
    "## 计算三个部分的指数\n",
    "from regimes_yrb.scarcity import (\n",
    "    calculate_index_c,\n",
    "    calculate_index_a,\n",
    "    calculate_index_b,\n",
    ")\n",
    "\n",
    "\n",
    "index_a = calculate_index_a(runoff=measured_runoff, consumptions=consumptions)\n",
    "index_b = calculate_index_b(\n",
    "    runoff=measured_runoff,\n",
    "    consumptions=consumptions,\n",
    "    inflexible_wu=cfg.inflexible_wu,\n",
    ")\n",
    "index_c = calculate_index_c(\n",
    "    runoff=measured_runoff, reservoirs=reservoirs_capacity_cumulating\n",
    ")"
   ]
  },
  {
   "cell_type": "markdown",
   "id": "63a4c90d-b383-4a6f-8023-5150a4f7bb08",
   "metadata": {},
   "source": [
    "### 整合成SFV"
   ]
  },
  {
   "cell_type": "code",
   "execution_count": null,
   "id": "749d4608-905f-4aa7-b58d-3488207f8e3c",
   "metadata": {
    "tags": []
   },
   "outputs": [],
   "source": [
    "from regimes_yrb.scarcity import calc_sfv\n",
    "\n",
    "# 计算 SFV\n",
    "sfv, sfv_regions = calc_sfv(\n",
    "    measured_runoff,\n",
    "    consumptions,\n",
    "    reservoirs_capacity_cumulating,\n",
    "    cfg.inflexible_wu,\n",
    ")\n",
    "\n",
    "# 数据导出\n",
    "sfv.to_csv(cfg.db.results.S)"
   ]
  },
  {
   "cell_type": "code",
   "execution_count": null,
   "id": "9c42470d-1d14-4299-b514-f1b2566b348a",
   "metadata": {
    "tags": []
   },
   "outputs": [],
   "source": [
    "from regimes_yrb.plot import plot_pettitt_change_points, pettitt_changes\n",
    "\n",
    "\n",
    "change_points = pettitt_changes(sfv)\n",
    "plot_pettitt_change_points(\n",
    "    sfv, change_points=change_points, colors=cfg.style.colors.period\n",
    ")"
   ]
  },
  {
   "cell_type": "markdown",
   "id": "81ccfc33-3eeb-4531-9539-e839e56b21be",
   "metadata": {},
   "source": [
    "## 贡献分解"
   ]
  },
  {
   "cell_type": "code",
   "execution_count": null,
   "id": "51e62347-104a-488b-92d6-7331ea5bcf14",
   "metadata": {
    "tags": []
   },
   "outputs": [],
   "source": [
    "from regimes_yrb.tools.statistic import calc_contribution_ratio\n",
    "\n",
    "contribution = pd.DataFrame()\n",
    "for start, end in [\n",
    "    (cfg.start, cfg.breakpoints[0]),\n",
    "    (cfg.breakpoints[0], cfg.breakpoints[1]),\n",
    "    (cfg.breakpoints[1], cfg.end),\n",
    "]:\n",
    "    contri = calc_contribution_ratio(sfv_regions.loc[start:end])\n",
    "    contribution[f\"{start}-{end}\"] = contri\n",
    "\n",
    "contribution\n",
    "contribution.to_csv(cfg.db.contribution.S)"
   ]
  },
  {
   "cell_type": "code",
   "execution_count": null,
   "id": "95631e9d-8764-4e7b-aab8-4a7711459ecf",
   "metadata": {
    "tags": []
   },
   "outputs": [],
   "source": [
    "from matplotlib import pyplot as plt\n",
    "from mksci_font import config_font\n",
    "\n",
    "config_font()\n",
    "\n",
    "fig, (ax1, ax2) = plt.subplots(1, 2, figsize=(8, 3), constrained_layout=True)\n",
    "plot_pettitt_change_points(\n",
    "    sfv, change_points=cfg.breakpoints, colors=cfg.style.colors.period, ax=ax1\n",
    ")\n",
    "\n",
    "contribution.rename({\"SR\": \"源区\", \"UR\": \"上游\", \"MR\": \"中游\", \"DR\": \"下游\"}, inplace=True)\n",
    "ax = contribution.T.plot.bar(rot=0, color=cfg.style.colors.region, ax=ax2)\n",
    "ax.legend(loc=\"upper left\", ncol=2)\n",
    "ax.set_ylabel(\"贡献度\")\n",
    "ax1.set_xlabel(\"年份\")\n",
    "ax1.set_ylabel(\"SFV指数\")\n",
    "ax2.set_xlabel(\"时段\")\n",
    "for ax in [ax1, ax2]:\n",
    "    ax.spines[\"top\"].set_visible(False)\n",
    "    ax.spines[\"bottom\"].set_visible(False)\n",
    "    ax.spines[\"left\"].set_visible(True)\n",
    "    ax.spines[\"right\"].set_visible(False)\n",
    "ax1.spines[\"bottom\"].set_visible(True)\n",
    "plt.savefig(\"figures/sup/scarcity.png\")\n",
    "plt.show();"
   ]
  }
 ],
 "metadata": {
  "kernelspec": {
   "display_name": "Python 3 (ipykernel)",
   "language": "python",
   "name": "python3"
  },
  "language_info": {
   "codemirror_mode": {
    "name": "ipython",
    "version": 3
   },
   "file_extension": ".py",
   "mimetype": "text/x-python",
   "name": "python",
   "nbconvert_exporter": "python",
   "pygments_lexer": "ipython3",
   "version": "3.11.2"
  }
 },
 "nbformat": 4,
 "nbformat_minor": 5
}
