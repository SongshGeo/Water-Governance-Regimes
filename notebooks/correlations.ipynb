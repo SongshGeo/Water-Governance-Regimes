{
 "cells": [
  {
   "cell_type": "markdown",
   "id": "ad6c4fc0-42ff-46ea-b517-aeb74b9a14e6",
   "metadata": {},
   "source": [
    "# 指数相关性分析"
   ]
  },
  {
   "cell_type": "code",
   "execution_count": null,
   "id": "2cabaf23-236c-4156-bd5f-bc5bee4efdae",
   "metadata": {
    "tags": []
   },
   "outputs": [],
   "source": [
    "%load_ext autoreload\n",
    "%autoreload 2\n",
    "%matplotlib inline\n",
    "%config InlineBackend.figure_format = 'retina'\n",
    "from IPython.core.interactiveshell import InteractiveShell\n",
    "\n",
    "InteractiveShell.ast_node_interactivity = \"all\"\n",
    "\n",
    "import pandas as pd\n",
    "import numpy as np\n",
    "from hydra import compose, initialize\n",
    "import os\n",
    "\n",
    "# 加载项目层面的配置\n",
    "with initialize(version_base=None, config_path=\"../config\"):\n",
    "    cfg = compose(config_name=\"config\")\n",
    "os.chdir(cfg.root)"
   ]
  },
  {
   "cell_type": "code",
   "execution_count": null,
   "id": "5352d8d3-1e50-444e-a14b-6688ac3981bf",
   "metadata": {},
   "outputs": [],
   "source": [
    "# 加载数据\n",
    "iwgi = pd.read_csv(cfg.db.results.IWGI, index_col=0)"
   ]
  },
  {
   "cell_type": "markdown",
   "id": "f8c6d465-906d-423f-a0d0-bca76506dbc3",
   "metadata": {},
   "source": [
    "## 整体相关性图"
   ]
  },
  {
   "cell_type": "code",
   "execution_count": null,
   "id": "f20092e2-49ed-484a-8097-730239482f64",
   "metadata": {
    "tags": []
   },
   "outputs": [],
   "source": [
    "import seaborn as sns\n",
    "\n",
    "g = sns.pairplot(iwgi, hue=\"stage\", corner=True, diag_kind=\"kde\")\n",
    "g.map_lower(sns.kdeplot, levels=4, color=\".2\")"
   ]
  },
  {
   "cell_type": "markdown",
   "id": "a434106d-99df-4cdc-a358-f2cded9a74de",
   "metadata": {},
   "source": [
    "## 分阶段"
   ]
  },
  {
   "cell_type": "code",
   "execution_count": null,
   "id": "16e1039d-31d9-4509-a5f0-9ed77a4146b4",
   "metadata": {
    "tags": []
   },
   "outputs": [],
   "source": [
    "from regimes_yrb.tools.statistic import calc_correlation\n",
    "\n",
    "calc_correlation(iwgi)\n",
    "# calc_correlation(iwgi).to_markdown('iwgi_corr.md')"
   ]
  },
  {
   "cell_type": "code",
   "execution_count": null,
   "id": "00876ddf-4c03-45d1-b75d-5bec32115752",
   "metadata": {
    "tags": []
   },
   "outputs": [],
   "source": [
    "for stage in iwgi[\"stage\"].unique():\n",
    "    data = iwgi.loc[iwgi[\"stage\"] == stage]\n",
    "    g = sns.pairplot(data, corner=True, diag_kind=\"kde\")\n",
    "    g.map_lower(sns.kdeplot, levels=4, color=\".2\")\n",
    "    # g.savefig(f\"figures/sup/{stage}_corr.png\")\n",
    "    corr = calc_correlation(data)\n",
    "    # corr.to_markdown(f\"{stage}_corr.md\")"
   ]
  }
 ],
 "metadata": {
  "kernelspec": {
   "display_name": "Python 3 (ipykernel)",
   "language": "python",
   "name": "python3"
  },
  "language_info": {
   "codemirror_mode": {
    "name": "ipython",
    "version": 3
   },
   "file_extension": ".py",
   "mimetype": "text/x-python",
   "name": "python",
   "nbconvert_exporter": "python",
   "pygments_lexer": "ipython3",
   "version": "3.11.2"
  }
 },
 "nbformat": 4,
 "nbformat_minor": 5
}
