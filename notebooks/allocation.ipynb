{
 "cells": [
  {
   "cell_type": "markdown",
   "id": "24f24ad2-a234-47b4-92d9-883cf97ff207",
   "metadata": {
    "tags": []
   },
   "source": [
    "# 指标 Allocation"
   ]
  },
  {
   "cell_type": "code",
   "execution_count": null,
   "id": "8b5bf951-0dea-4461-b15c-41000687687d",
   "metadata": {
    "tags": []
   },
   "outputs": [],
   "source": [
    "%load_ext autoreload\n",
    "%autoreload 2\n",
    "%matplotlib inline\n",
    "%config InlineBackend.figure_format = 'retina'\n",
    "from IPython.core.interactiveshell import InteractiveShell\n",
    "\n",
    "InteractiveShell.ast_node_interactivity = \"all\"\n",
    "\n",
    "import pandas as pd\n",
    "import numpy as np\n",
    "from hydra import compose, initialize\n",
    "import os\n",
    "\n",
    "# 加载项目层面的配置\n",
    "with initialize(version_base=None, config_path=\"../config\"):\n",
    "    cfg = compose(config_name=\"config\")\n",
    "os.chdir(cfg.root)"
   ]
  },
  {
   "cell_type": "code",
   "execution_count": null,
   "id": "94e38801-d448-4f61-a6c5-2e7361af9237",
   "metadata": {
    "tags": []
   },
   "outputs": [],
   "source": [
    "# 加载阈值为 0.05的数据，即与黄河流域相交面积大于全市总面积 5% 的所有市\n",
    "city_yr = pd.read_csv(cfg.db.perfectures)"
   ]
  },
  {
   "cell_type": "markdown",
   "id": "4ebed25b-ddc0-4867-a634-e4ece093ac90",
   "metadata": {},
   "source": [
    "模仿熵的公式，我们设计了一个衡量分配平均度的指标“配水指数(Water Distribution Index, WDI)”。我们假设最平均的水分配情况是，为每个行政区域某个部门分配到的用水量，都等于全流域该部门的平均用水比例。但实际上区域有别，有的区域会更集中发展某个用水部门，这就导致了水的分配不够平均，使得分配熵增大。而实际的分配情况与假设的平均分配情况，即为配水指数WDI，**WDI越大代表分配越平均，越小代表分配越不均匀**\n",
    "\n",
    "![mW9Xbn](https://songshgeo-picgo-1302043007.cos.ap-beijing.myqcloud.com/uPic/mW9Xbn.jpg)\n",
    "\n",
    "例如在上图中，左边展示的是假设的区域间均匀分配的情况。后者则是实际中分工各有差异，发展各有先后的情况。"
   ]
  },
  {
   "cell_type": "markdown",
   "id": "6e944fff-6a74-424c-aa57-e359912d24e0",
   "metadata": {},
   "source": [
    "我们使用 Configuration Entropy Metric $CEM$ 来表达这种配置上的均匀性\n",
    "\n",
    "$$ CEM = \\sum_{i=1}^n -log(p_{i}) * p_{i} $$\n",
    "\n",
    "其中$i$ 代表配置水资源的单位（区域 or 部门） $p_i$ 代表了其中一个单位$i$分到水的比例。\n",
    "对不同区域来说，当水资源完全平均分配，即对任意区域$i$，都有$p_i = 1/n $时，$Entropy$取最大值：\n",
    "\n",
    "$$ CEM_{max} = \\sum_{i=1}^n -log(p_{i}) * p_{i} = - log(\\frac{1}{n}) $$"
   ]
  },
  {
   "cell_type": "markdown",
   "id": "80181d59-1234-49da-b868-cd1b3e1d5f63",
   "metadata": {},
   "source": [
    "可见，$CEM$ 指标度量的是水资源配置“不均匀”的程度，类似于信息熵是对“混乱程度”的度量，即参与分配的各个单位之间，分配比例差距越大，则熵越小。\n",
    "而我们的指标应反映随着社会发展，水资源配置在区域之间更加均衡（比例差距小）、整体满足不同用水部门的发展需求（比例差距减小）、但不同区域存在部门分工（比例差距增大）的趋势。\n",
    "\n",
    "因此，用$CEM_r$代表流域各区域间的CEM，$CEM_s$代表流域各部门间的CEM, $CEM_{rs}$代表区域各部门间的CEM（详见附录）我们获得了表征流域用水配置的指标$I_C$：\n",
    "\n",
    "$$ I_C = \\frac{CEM_{r}*CEM_{s}}{CEM_{rs}}$$\n"
   ]
  },
  {
   "cell_type": "markdown",
   "id": "a62416c0-eacd-4526-a875-9b87d61efd2f",
   "metadata": {},
   "source": [
    "### 配置熵指标：补充材料部分\n",
    "衡量水资源配置的指标$I_C$由三部分水资源配置熵指标（CEM）构成：\n",
    "\n",
    "$$ I_C = \\frac{CEM_{r}*CEM_{s}}{CEM_{rs}}$$\n",
    "\n",
    "(1) 描述区域间水资源配置的 $CEM_r$：\n",
    "\n",
    "$$ CEM_r = \\sum_{i=1}^4 -log(p_{i}) * p_{i} $$\n",
    "\n",
    "其中$p_i$是区域$i$（$i=1$ to $4$ 分别代表 SR, UR, MR, or, DR）的水资源使用量（$WU_i$）在所有区域水资源消耗总量中所占的比例，即:\n",
    "\n",
    "$$ p_i = \\frac{WU_i}{\\sum_{i=1}^4 WU_i} $$\n",
    "\n",
    "(2) 描述部门间水资源配置的 $CEM_s$:\n",
    "\n",
    "$$ CEM_s = \\sum_{j=1}^3 -log(p_{j}) * p_{j} $$\n",
    "\n",
    "其中$p_j$是用水部门$j$（$j=1$ to $3$ 分别代表 agriculture, industry, domestic and services）的水资源使用量（$WU_j$）在所有部门水资源消耗总量中所占的比例，即:\n",
    "\n",
    "$$ p_j = \\frac{WU_j}{\\sum_{j=1}^3 WU_j} $$\n"
   ]
  },
  {
   "cell_type": "markdown",
   "id": "9edf527b-679c-4dc6-808f-dd313c62b07f",
   "metadata": {},
   "source": [
    "(3) 描述区域各部门间水资源配置分工的 $CEM_{rs}$:\n",
    "\n",
    "$$ CEM_{rs} = \\frac{1}{3} * \\sum_{j=1}^3 \\sum_{i=1}^4 -log(p_{ij} * p_{ij})$$\n",
    "\n",
    "其中$p_{ij}$是区域$i$在部门$j$上的用水$WU_{ij}$占所有区域在部门$j$上总用水的比例，即：\n",
    "\n",
    "$$ p_{ij} = \\frac{WU_ij}{\\sum_{i=1}^4 WU_ij} $$"
   ]
  },
  {
   "cell_type": "markdown",
   "id": "2750b3c1-641b-410c-8c25-51fa8c3a1ba0",
   "metadata": {},
   "source": [
    "### 熵指标的变化区间"
   ]
  },
  {
   "cell_type": "code",
   "execution_count": null,
   "id": "39b249bc-82dd-433b-acd5-7618c245349c",
   "metadata": {
    "tags": []
   },
   "outputs": [],
   "source": [
    "from regimes_yrb.allocation import entropy_and_contribution\n",
    "from regimes_yrb.plot import plot_data\n",
    "from regimes_yrb.tools.statistic import norm_zscore\n",
    "\n",
    "allocation, entropy_contributions = entropy_and_contribution(city_yr)\n",
    "plot_data(\n",
    "    allocation,\n",
    "    entropy_contributions,\n",
    "    # [1977, 2001],\n",
    "    \"Water allocation\",\n",
    "    \"Changes of allocation\",\n",
    "    \"Divisions\",\n",
    ")\n",
    "\n",
    "# 数据导出\n",
    "allocation.to_csv(cfg.db.results.A)\n",
    "entropy_contributions.to_csv(cfg.db.contribution.A)"
   ]
  },
  {
   "cell_type": "markdown",
   "id": "920a2cfe-6173-4ed7-9858-01be122fab49",
   "metadata": {},
   "source": [
    "可以发现，趋势变化的转折点发生在 1981 和 2002 年"
   ]
  },
  {
   "cell_type": "code",
   "execution_count": null,
   "id": "3d8b36ca-c545-4a2b-9906-e853f8d92bff",
   "metadata": {
    "tags": []
   },
   "outputs": [],
   "source": [
    "entropy_contributions"
   ]
  }
 ],
 "metadata": {
  "kernelspec": {
   "display_name": "Python 3 (ipykernel)",
   "language": "python",
   "name": "python3"
  },
  "language_info": {
   "codemirror_mode": {
    "name": "ipython",
    "version": 3
   },
   "file_extension": ".py",
   "mimetype": "text/x-python",
   "name": "python",
   "nbconvert_exporter": "python",
   "pygments_lexer": "ipython3",
   "version": "3.11.2"
  }
 },
 "nbformat": 4,
 "nbformat_minor": 5
}
