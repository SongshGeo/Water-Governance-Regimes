{
 "cells": [
  {
   "cell_type": "markdown",
   "id": "24187ffd-807c-4940-a2c7-a0af1ff3d205",
   "metadata": {},
   "source": [
    "# 水库调度数据整合"
   ]
  },
  {
   "cell_type": "markdown",
   "id": "83dfdce0-99b6-4fe1-ba59-a25ae80cbb8f",
   "metadata": {},
   "source": [
    "[王远见.(2022).黄河流域十大控制性水库月均调度数据（建库-2020）.黄河流域人地系统耦合大数据平台.](http://data.hhchans.bnu.edu.cn/zh-hans/data/053e329c-767a-40c4-9021-b54db7606fbf)\n",
    "\n",
    "1. 数据内容：本数据为黄河流域十大控制性水库月均调度水文数据，包括水位、流量、含沙量、水温及悬沙级配，数据格式为Excel。 \n",
    "2. 数据来源及加工方法：数据来自《黄河流域水文资料》，数据采用人工输入的方式进行汇总。 \n",
    "3. 数据质量描述：本数据数据质量良好。 \n",
    "4. 数据应用成果及前景：数据具有较好的应用前景，月均数据可分析黄河流域水库径流量的年内变化特征，长时间序列可分析其年际变化特征，为黄河流域水资源管理提供参考。"
   ]
  },
  {
   "cell_type": "code",
   "execution_count": null,
   "id": "60dd6b15-e3b6-492a-98d0-d4b06ac12192",
   "metadata": {},
   "outputs": [],
   "source": []
  }
 ],
 "metadata": {
  "kernelspec": {
   "display_name": "Python 3 (ipykernel)",
   "language": "python",
   "name": "python3"
  },
  "language_info": {
   "codemirror_mode": {
    "name": "ipython",
    "version": 3
   },
   "file_extension": ".py",
   "mimetype": "text/x-python",
   "name": "python",
   "nbconvert_exporter": "python",
   "pygments_lexer": "ipython3",
   "version": "3.11.2"
  }
 },
 "nbformat": 4,
 "nbformat_minor": 5
}
