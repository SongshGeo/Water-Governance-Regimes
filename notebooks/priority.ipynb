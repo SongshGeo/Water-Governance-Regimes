{
 "cells": [
  {
   "cell_type": "markdown",
   "id": "3228d3b9-d69d-4527-9076-7de6085ed62a",
   "metadata": {},
   "source": [
    "# Priority 指标"
   ]
  },
  {
   "cell_type": "code",
   "execution_count": null,
   "id": "e60d0646-6d1b-403c-a131-ea121923f06b",
   "metadata": {
    "tags": []
   },
   "outputs": [],
   "source": [
    "%load_ext autoreload\n",
    "%autoreload 2\n",
    "%matplotlib inline\n",
    "%config InlineBackend.figure_format = 'retina'\n",
    "from IPython.core.interactiveshell import InteractiveShell\n",
    "\n",
    "InteractiveShell.ast_node_interactivity = \"all\"\n",
    "\n",
    "import pandas as pd\n",
    "import numpy as np\n",
    "from hydra import compose, initialize\n",
    "import os\n",
    "\n",
    "# 加载项目层面的配置\n",
    "with initialize(version_base=None, config_path=\"../config\"):\n",
    "    cfg = compose(config_name=\"config\")\n",
    "os.chdir(cfg.root)"
   ]
  },
  {
   "cell_type": "markdown",
   "id": "c9310a8e-f491-402a-8ed7-eeadd4c709a5",
   "metadata": {},
   "source": [
    "间接用水比例（Indirect Proportion of Water Use）来指示供水优先性，用于描述被消耗的水资源中，以间接形式惠益于人类的部分。\n",
    "\n",
    "计算方法：\n",
    "$$ I_{P} = \\frac{WU_{non-pro}}{WU_{pro} + WU_{non-pro}} $$\n",
    "\n",
    "其中i是年份，indirect和direct分别是为人类间接带来惠益的取用水方式和带来直接惠益取用水方式\n",
    "\n",
    "indirect包括： \n",
    "- 工业用水量（IND），每年用于工业目的的取水量，包括自给自足的工业和与公共供水网络连接的工业。\n",
    "- 城市服务业用水量（Urban service WU），指公共供水网络每年用于服务活动的直接用水量。\n",
    "\n",
    "direct包括：\n",
    "- 农业灌溉用水总量（IRR）：每年抽取的灌溉用水量，包括运输和田间施用期间的损失，但不包括牧场或水产养殖用水\n",
    "- 城市居民用水（Urban domestic WU）：公共供水网络每年用于城镇居民直接取水的水量\n",
    "- 农村居民用水（Rural domestic WU）：公共供水网络每年用于农村居民和牲畜直接使用的取水量\n",
    "- 农村牲畜用水（Rural livestock WU）：公共供水网络用于牲畜饮水和清洁的年度取水量"
   ]
  },
  {
   "cell_type": "code",
   "execution_count": null,
   "id": "d6aacfe7-b2a3-415b-8bab-35f88ea9e3aa",
   "metadata": {
    "tags": []
   },
   "outputs": [],
   "source": [
    "# 加载阈值为 0.05的数据，即与黄河流域相交面积大于全市总面积 5% 的所有市\n",
    "city_yr = pd.read_csv(cfg.db.perfectures)"
   ]
  },
  {
   "cell_type": "markdown",
   "id": "f663cdf2-d015-4c9a-b391-b565838dc8de",
   "metadata": {},
   "source": [
    "## 指标计算"
   ]
  },
  {
   "cell_type": "code",
   "execution_count": null,
   "id": "01d4cf7c-adcf-49c0-80b9-e1b9f92aaffb",
   "metadata": {
    "tags": []
   },
   "outputs": [],
   "source": [
    "from regimes_yrb.priority import direct_ratio\n",
    "\n",
    "# 产生直接惠益的用水方式\n",
    "direct = [\n",
    "    \"IRR\",\n",
    "    \"Urban domestic WU\",\n",
    "    \"Rural domestic WU\",\n",
    "    \"Rural livestock WU\",\n",
    "]\n",
    "\n",
    "# 产生间接惠益的用水方式\n",
    "indirect = [\"IND\", \"Urban service WU\"]\n",
    "\n",
    "# 数据是用水量，每年加总\n",
    "data = city_yr.groupby(\"Year\").sum(numeric_only=True)\n",
    "\n",
    "# 计算比例\n",
    "priority, priority_contributions = direct_ratio(data, indirect=indirect, direct=direct)\n",
    "\n",
    "# 数据导出\n",
    "priority.to_csv(cfg.db.results.P)\n",
    "priority_contributions.to_csv(cfg.db.contribution.P)"
   ]
  },
  {
   "cell_type": "markdown",
   "id": "6837397f-86c4-459c-9779-11d21b81327a",
   "metadata": {},
   "source": [
    "### 各部分贡献"
   ]
  },
  {
   "cell_type": "code",
   "execution_count": null,
   "id": "96b5ef71-e4d7-49f7-927d-bbec48db54e9",
   "metadata": {
    "tags": []
   },
   "outputs": [],
   "source": [
    "priority_contributions"
   ]
  },
  {
   "cell_type": "markdown",
   "id": "9319529e-1521-4325-acad-ab4aae5cd33a",
   "metadata": {},
   "source": [
    "### 按照当前断点作图"
   ]
  },
  {
   "cell_type": "code",
   "execution_count": null,
   "id": "303d2737-d7e3-4a62-a1a6-7e9537dfaf50",
   "metadata": {
    "tags": []
   },
   "outputs": [],
   "source": [
    "from regimes_yrb.plot import plot_data\n",
    "\n",
    "plot_data(\n",
    "    priority,\n",
    "    priority_contributions,\n",
    "    \"Priority\",\n",
    "    \"Changes of priority\",\n",
    "    \"Total\",\n",
    ")"
   ]
  },
  {
   "cell_type": "markdown",
   "id": "68e03913-a14c-481e-b942-b8eec1cdf7b4",
   "metadata": {},
   "source": [
    "### 按照当前断点进行划分"
   ]
  },
  {
   "cell_type": "code",
   "execution_count": null,
   "id": "d21cf8fa-26c9-4d1c-a6ed-252e29507c39",
   "metadata": {},
   "outputs": [],
   "source": []
  }
 ],
 "metadata": {
  "kernelspec": {
   "display_name": "Python 3 (ipykernel)",
   "language": "python",
   "name": "python3"
  },
  "language_info": {
   "codemirror_mode": {
    "name": "ipython",
    "version": 3
   },
   "file_extension": ".py",
   "mimetype": "text/x-python",
   "name": "python",
   "nbconvert_exporter": "python",
   "pygments_lexer": "ipython3",
   "version": "3.11.2"
  }
 },
 "nbformat": 4,
 "nbformat_minor": 5
}
